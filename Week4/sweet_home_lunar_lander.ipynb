{
 "cells": [
  {
   "cell_type": "code",
   "execution_count": 1,
   "metadata": {},
   "outputs": [],
   "source": [
    "import tensorflow as tf\n",
    "import shutil\n",
    "import numpy as np\n",
    "import tqdm\n",
    "import pandas as pd\n",
    "import os\n",
    "import gymnasium as gym\n",
    "import matplotlib.pyplot as plt\n",
    "import numpy as np\n",
    "import random\n",
    "\n",
    "GAMMA = 0.99\n",
    "TAU = 0.01\n",
    "BATCHSIZE = 128\n",
    "N_BATCHES = 64\n",
    "N_MULTI_ENVS = 64\n",
    "EXPLORATION_RATE = 0.75\n",
    "EPSILON_DECAY = 0.9993\n",
    "\n",
    "N_NEW_SAMPLES = 500\n",
    "N_SAMPLE_SETS = 100\n",
    "\n",
    "CHECKPOINT_FREQ = 100\n",
    "LOG_FREQ = 100\n",
    "N_TEST_ENVS = 8"
   ]
  },
  {
   "cell_type": "code",
   "execution_count": 2,
   "metadata": {},
   "outputs": [],
   "source": [
    "x = np.arange(3000)\n",
    "y = EXPLORATION_RATE * (EPSILON_DECAY ** x)\n",
    "\n",
    "plt.plot(x,y)\n",
    "plt.title(\"Epsilon over time\")\n",
    "plt.xlabel(\"Outer Loop Iteration\")\n",
    "plt.show()"
   ]
  },
  {
   "cell_type": "code",
   "execution_count": 3,
   "metadata": {},
   "outputs": [],
   "source": [
    "TMP_SAVE_TO_PATH = \"ckpts/ckpt\"\n",
    "TMP_LOG_PATH = \"logs/{}.json\"\n",
    "TB_LOGS = \"tb_lobs/run\"\n",
    "\n",
    "\n",
    "os.makedirs(TMP_SAVE_TO_PATH.replace(\"/ckpt\",\"\"), exist_ok= True)\n",
    "os.makedirs(TMP_LOG_PATH.replace(\"/{}.json\",\"\"), exist_ok= True)\n",
    "os.makedirs(TB_LOGS, exist_ok= True)\n",
    "\n",
    "# # get old checkpoint\n",
    "# !cp /content/gdrive/MyDrive/DeepRL/HW4/checkpoint.zip checkpoint.zip\n",
    "# !unzip -d {TMP_SAVE_TO_PATH} checkpoint.zip\n",
    "\n",
    "LOSS = tf.keras.losses.Huber()\n",
    "CNN_SHAPE = (84, 84)\n"
   ]
  },
  {
   "cell_type": "code",
   "execution_count": 4,
   "metadata": {},
   "outputs": [],
   "source": [
    "\n",
    "\n",
    "def triple_conv_block_no_batchnorm(x, filters):\n",
    "\n",
    "    x = tf.keras.layers.Conv2D(\n",
    "        filters, 3, padding='same', activation='relu')(x)\n",
    "    x = tf.keras.layers.Conv2D(\n",
    "        filters, 3, padding='same', activation='relu')(x) + x\n",
    "    x = tf.keras.layers.Conv2D(\n",
    "        filters, 3, padding='same', activation='relu')(x) + x\n",
    "\n",
    "    return x\n",
    "\n",
    "\n",
    "def get_standard_dqn():\n",
    "    tf.keras.backend.clear_session()\n",
    "\n",
    "    inputs = tf.keras.Input((8,))\n",
    "    x = tf.keras.layers.Dense(512, \"relu\")(inputs)\n",
    "    x = tf.keras.layers.Dropout(0.2,)(x)\n",
    "    x = tf.keras.layers.Dense(512, \"relu\")(x)\n",
    "    x = tf.keras.layers.Dropout(0.2,)(x)\n",
    "    x = tf.keras.layers.Dense(512, \"relu\")(x)\n",
    "    outputs = tf.keras.layers.Dense(4, \"linear\")(x)\n",
    "\n",
    "    model = tf.keras.Model(inputs, outputs, name=\"standard_dqn\")\n",
    "\n",
    "    return model\n",
    "\n",
    "\n",
    "@tf.function\n",
    "def sample_trajectory(dqn, state, epsilon=0.2):\n",
    "\n",
    "    n_par = tf.shape(state)[0]\n",
    "\n",
    "    mask = tf.random.uniform((n_par,), 0, 1, tf.float32) > epsilon\n",
    "\n",
    "    predictions = dqn(state, training=False)\n",
    "    max_actions = tf.math.argmax(predictions, axis=-1)\n",
    "\n",
    "    random_choices = tf.random.uniform(\n",
    "        shape=[n_par], minval=0, maxval=4, dtype=tf.int64)\n",
    "\n",
    "    return tf.where(mask, max_actions, random_choices), tf.reduce_max(predictions, -1)\n",
    "\n",
    "\n",
    "@tf.function\n",
    "def preprocess_all(observation, next_observation, action, reward, terminated):\n",
    "\n",
    "    observation = tf.cast(observation, tf.float32)\n",
    "\n",
    "    next_observation = tf.cast(next_observation, tf.float32)\n",
    "\n",
    "    action = tf.cast(action, tf.int64)\n",
    "    reward = tf.cast(reward, tf.float32)\n",
    "    terminated = tf.cast(terminated, tf.bool)\n",
    "\n",
    "    return observation, next_observation, action, reward, terminated\n",
    "\n",
    "\n",
    "@tf.function\n",
    "def preprocess_obersvation(observation):\n",
    "\n",
    "    observation = tf.cast(observation, tf.float32)\n",
    "\n",
    "    return observation\n",
    "\n",
    "\n",
    "@tf.function\n",
    "def polyak_averaging(Q_target, Q_dqn, tau):\n",
    "    \"\"\"\n",
    "\n",
    "    Args:\n",
    "        Q_target (_type_): _description_\n",
    "        Q_dqn (_type_): _description_\n",
    "        tau (_type_): _description_\n",
    "    \"\"\"\n",
    "\n",
    "    for old, new in zip(Q_target.trainable_variables, Q_dqn.trainable_variables):\n",
    "        update = old * (1 - tau) + new * tau\n",
    "        old.assign(update)\n",
    "\n",
    "\n",
    "@tf.function\n",
    "def update_q_network(data, dqn, q_target, optimizer, gamma):\n",
    "\n",
    "    state, next_state, action, reward, terminated = data\n",
    "\n",
    "    s_prime_values = q_target(next_state, training=False)\n",
    "    s_prime_values = tf.reduce_max(s_prime_values, -1)\n",
    "    \n",
    "    labels = reward + gamma * s_prime_values * (1 - tf.cast(terminated, tf.float32))\n",
    "\n",
    "    with tf.GradientTape() as tape:\n",
    "\n",
    "        predictions = dqn(state, training=True)\n",
    "        action_values = tf.gather(predictions, action, batch_dims=1)\n",
    "\n",
    "        loss = LOSS(action_values, labels)\n",
    "\n",
    "    gradients = tape.gradient(loss, dqn.trainable_variables)\n",
    "    optimizer.apply_gradients(zip(gradients, dqn.trainable_variables))\n",
    "    return loss\n",
    "\n",
    "\n",
    "class ENV_SAMPLER:\n",
    "    \"\"\"\n",
    "    Class for sampling environment data using a DQN model.\n",
    "    \"\"\"\n",
    "\n",
    "    def __init__(self, dqn, n_multi_envs) -> None:\n",
    "        \"\"\"\n",
    "        Initialize the ENV_SAMPLER instance.\n",
    "\n",
    "        Args:\n",
    "            env: The environment to sample from.\n",
    "            dqn: The DQN model for action selection.\n",
    "            n_multi_envs: The number of parallel environments.\n",
    "            preprocess_observation: Function to preprocess observations.\n",
    "        \"\"\"\n",
    "        self.env = gym.vector.make(\"LunarLander-v2\", num_envs=n_multi_envs)\n",
    "        self.current_state = self.env.reset()[0]\n",
    "        self.dqn = dqn\n",
    "        self.n_multi_envs = n_multi_envs\n",
    "\n",
    "    def reset_env(self):\n",
    "        \"\"\"\n",
    "        Reset the environment to the initial state.\n",
    "        \"\"\"\n",
    "        self.current_state = self.env.reset()[0]\n",
    "\n",
    "    def sample(self, n_samples, epsilon=0.2):\n",
    "        \"\"\"\n",
    "        Sample environment data.\n",
    "\n",
    "        Args:\n",
    "            n_samples: The number of samples to generate.\n",
    "            epsilon: The exploration factor for action selection (default: 0.2).\n",
    "\n",
    "        Returns:\n",
    "            samples: List of sampled data tuples (current_state, next_state, action, reward, terminated).\n",
    "        \"\"\"\n",
    "        samples = []\n",
    "\n",
    "        n_steps = np.ceil(n_samples / self.n_multi_envs).astype(int)\n",
    "\n",
    "        for _ in range(n_steps):\n",
    "            oberservation_as_tensor = preprocess_obersvation(\n",
    "                self.current_state)\n",
    "\n",
    "            action, q_vals = map(lambda x: x.numpy(), sample_trajectory(\n",
    "                self.dqn, oberservation_as_tensor, epsilon))\n",
    "\n",
    "            observation, reward, terminated, truncated, info = self.env.step(\n",
    "                action)\n",
    "\n",
    "            for i in range(self.n_multi_envs):\n",
    "                samples.append((self.current_state[i],\n",
    "                                observation[i],\n",
    "                                action[i],\n",
    "                                reward[i],\n",
    "                                terminated[i]))\n",
    "\n",
    "            self.current_state = observation\n",
    "\n",
    "        return samples[:n_samples]\n",
    "\n",
    "    def measure_model_perforamnce(self, gamma: float, target_q, n_test_envs = 4):\n",
    "\n",
    "        test_env = gym.vector.make(\"LunarLander-v2\", num_envs=n_test_envs)\n",
    "\n",
    "        current_state = test_env.reset()[0]\n",
    "\n",
    "\n",
    "        rewards = np.zeros(n_test_envs)\n",
    "        terminated_at = []\n",
    "        q_values = []\n",
    "        target_q_values = []\n",
    "\n",
    "        allready_terminated = np.zeros(n_test_envs, bool)\n",
    "\n",
    "        steps = 0\n",
    "\n",
    "        while True:\n",
    "            \n",
    "\n",
    "            oberservation_as_tensor = preprocess_obersvation(\n",
    "                current_state)\n",
    "\n",
    "            action, q_vals = map(lambda x: x.numpy(), sample_trajectory(\n",
    "                self.dqn, oberservation_as_tensor, 0.05))\n",
    "\n",
    "            target_vals = tf.reduce_max(target_q(oberservation_as_tensor), -1)\n",
    "\n",
    "            observation, reward, terminated, truncated, info = test_env.step(\n",
    "                action)\n",
    "\n",
    "            current_state = observation\n",
    "\n",
    "            rewards += (gamma ** steps) * reward * (1 - allready_terminated)\n",
    "\n",
    "\n",
    "            allready_terminated = np.logical_or(\n",
    "                allready_terminated, terminated)\n",
    "\n",
    "            for index,t in enumerate(terminated):\n",
    "\n",
    "                if t:\n",
    "                    terminated_at.append(steps)\n",
    "\n",
    "            q_values.extend(q_vals.tolist())\n",
    "            target_q_values.extend(target_vals.numpy().tolist())\n",
    "\n",
    "            steps += 1\n",
    "\n",
    "            if allready_terminated.all():\n",
    "\n",
    "                break\n",
    "\n",
    "        average_q_val = np.mean(q_values)\n",
    "        average_target_q_val = np.mean(target_q_values)\n",
    "\n",
    "        l2_diff = np.array(q_values) - np.array(target_q_values)\n",
    "        l2_diff = np.sqrt(np.square(l2_diff).mean())\n",
    "\n",
    "        average_rewards = np.mean(rewards)\n",
    "        average_termination = np.mean(terminated_at)\n",
    "        \n",
    "        test_env.close()\n",
    "\n",
    "        return average_rewards, average_termination, average_q_val, average_target_q_val, l2_diff\n",
    "\n",
    "\n",
    "class ReplayBuffer:\n",
    "    \"\"\"\n",
    "    Class for managing a replay buffer for reinforcement learning.\n",
    "    \"\"\"\n",
    "\n",
    "    def __init__(self, ) -> None:\n",
    "        \"\"\"\n",
    "        Initialize the ReplayBuffer instance.\n",
    "\n",
    "        Args:\n",
    "            preprocess_func: Function to preprocess examples.\n",
    "        \"\"\"\n",
    "        self.saved_trajectories = []\n",
    "\n",
    "    def add_new_trajectory(self, trajectory):\n",
    "        \"\"\"\n",
    "        Add a new trajectory to the replay buffer.\n",
    "\n",
    "        Args:\n",
    "            trajectory: List of examples representing a trajectory.\n",
    "        \"\"\"\n",
    "        self.saved_trajectories.append(trajectory)\n",
    "\n",
    "    def drop_first_trajectory(self):\n",
    "        \"\"\"\n",
    "        Remove the oldest trajectory from the replay buffer.\n",
    "        \"\"\"\n",
    "        to_delete = self.saved_trajectories.pop(0)\n",
    "        del to_delete\n",
    "\n",
    "    def sample_singe_example(\n",
    "        self,\n",
    "    ):\n",
    "        \"\"\"\n",
    "        Sample a single example from the replay buffer.\n",
    "\n",
    "        Args:\n",
    "            melt_stop_criteria: Boolean flag indicating whether to consider stop criteria (default: False).\n",
    "\n",
    "        Returns:\n",
    "            example: A single example from a randomly chosen trajectory.\n",
    "        \"\"\"\n",
    "        trajectory = random.choice(self.saved_trajectories)\n",
    "        example = random.choice(trajectory)\n",
    "\n",
    "        states, next_states, actions, rewards, terminations, = example\n",
    "\n",
    "        return states, next_states, actions, rewards, terminations\n",
    "\n",
    "    def sample_n_examples(self, n_examples: int):\n",
    "        \"\"\"\n",
    "        Sample multiple examples from the replay buffer.\n",
    "\n",
    "        Args:\n",
    "            n_examples: The number of examples to sample.\n",
    "\n",
    "        Returns:\n",
    "            states, next_states, actions, rewards, stop_criteria: Arrays of sampled examples.\n",
    "        \"\"\"\n",
    "        trajectories = [self.sample_singe_example() for _ in range(n_examples)]\n",
    "\n",
    "        states, next_states, actions, rewards, stop_criteria = map(\n",
    "            np.array, zip(*trajectories)\n",
    "        )\n",
    "\n",
    "        return states, next_states, actions, rewards, stop_criteria\n",
    "\n",
    "    def generate_tf_dataset(self, n_batches, batchsize):\n",
    "        \"\"\"\n",
    "        Generate a TensorFlow dataset from the replay buffer.\n",
    "\n",
    "        Args:\n",
    "            n_batches: The number of batches to generate.\n",
    "            batchsize: The size of each batch.\n",
    "\n",
    "        Returns:\n",
    "            ds: TensorFlow dataset containing the preprocessed examples.\n",
    "        \"\"\"\n",
    "        n_steps = n_batches * batchsize\n",
    "\n",
    "        ds = self.sample_n_examples(n_steps)\n",
    "        ds = tf.data.Dataset.from_tensor_slices(ds)\n",
    "        ds = ds.map(preprocess_all, tf.data.AUTOTUNE)\n",
    "        ds = ds.batch(batchsize)\n",
    "\n",
    "        return ds"
   ]
  },
  {
   "cell_type": "code",
   "execution_count": 5,
   "metadata": {},
   "outputs": [
    {
     "name": "stderr",
     "output_type": "stream",
     "text": [
      "2023-06-19 17:14:38.424389: I tensorflow/stream_executor/cuda/cuda_gpu_executor.cc:936] successful NUMA node read from SysFS had negative value (-1), but there must be at least one NUMA node, so returning NUMA node zero\n",
      "2023-06-19 17:14:38.429327: I tensorflow/stream_executor/cuda/cuda_gpu_executor.cc:936] successful NUMA node read from SysFS had negative value (-1), but there must be at least one NUMA node, so returning NUMA node zero\n",
      "2023-06-19 17:14:38.429494: I tensorflow/stream_executor/cuda/cuda_gpu_executor.cc:936] successful NUMA node read from SysFS had negative value (-1), but there must be at least one NUMA node, so returning NUMA node zero\n",
      "2023-06-19 17:14:38.430042: I tensorflow/core/platform/cpu_feature_guard.cc:151] This TensorFlow binary is optimized with oneAPI Deep Neural Network Library (oneDNN) to use the following CPU instructions in performance-critical operations:  AVX2 FMA\n",
      "To enable them in other operations, rebuild TensorFlow with the appropriate compiler flags.\n",
      "2023-06-19 17:14:38.430466: I tensorflow/stream_executor/cuda/cuda_gpu_executor.cc:936] successful NUMA node read from SysFS had negative value (-1), but there must be at least one NUMA node, so returning NUMA node zero\n",
      "2023-06-19 17:14:38.430640: I tensorflow/stream_executor/cuda/cuda_gpu_executor.cc:936] successful NUMA node read from SysFS had negative value (-1), but there must be at least one NUMA node, so returning NUMA node zero\n",
      "2023-06-19 17:14:38.430755: I tensorflow/stream_executor/cuda/cuda_gpu_executor.cc:936] successful NUMA node read from SysFS had negative value (-1), but there must be at least one NUMA node, so returning NUMA node zero\n",
      "2023-06-19 17:14:38.848490: I tensorflow/stream_executor/cuda/cuda_gpu_executor.cc:936] successful NUMA node read from SysFS had negative value (-1), but there must be at least one NUMA node, so returning NUMA node zero\n",
      "2023-06-19 17:14:38.848663: I tensorflow/stream_executor/cuda/cuda_gpu_executor.cc:936] successful NUMA node read from SysFS had negative value (-1), but there must be at least one NUMA node, so returning NUMA node zero\n",
      "2023-06-19 17:14:38.848784: I tensorflow/stream_executor/cuda/cuda_gpu_executor.cc:936] successful NUMA node read from SysFS had negative value (-1), but there must be at least one NUMA node, so returning NUMA node zero\n",
      "2023-06-19 17:14:38.848889: I tensorflow/core/common_runtime/gpu/gpu_device.cc:1525] Created device /job:localhost/replica:0/task:0/device:GPU:0 with 6762 MB memory:  -> device: 0, name: NVIDIA GeForce GTX 1070, pci bus id: 0000:01:00.0, compute capability: 6.1\n"
     ]
    }
   ],
   "source": [
    "optimizer = tf.keras.optimizers.Adam(learning_rate=0.00025, clipnorm=1.0)\n",
    "\n",
    "q_net = get_standard_dqn()\n",
    "\n",
    "target_net = tf.keras.models.clone_model(q_net)\n",
    "\n",
    "env_sampler = ENV_SAMPLER(q_net, N_MULTI_ENVS)\n",
    "replay_buffer = ReplayBuffer()\n",
    "\n",
    "checkpoint = tf.train.Checkpoint(q_net = q_net, target_net = target_net, optimizer = optimizer)\n",
    "\n",
    "writer = tf.summary.create_file_writer(TB_LOGS)\n",
    "\n",
    "# restore\n",
    "# checkpoint.restore(TMP_SAVE_TO_PATH\n",
    "\n"
   ]
  },
  {
   "cell_type": "code",
   "execution_count": 6,
   "metadata": {},
   "outputs": [
    {
     "name": "stderr",
     "output_type": "stream",
     "text": [
      "Fill Buffer initally: 100%|██████████| 100/100 [00:05<00:00, 19.95it/s]\n"
     ]
    }
   ],
   "source": [
    "for _ in tqdm.tqdm(range(N_SAMPLE_SETS), desc = \"Fill Buffer initally\"):\n",
    "\n",
    "    new_samples = env_sampler.sample(N_NEW_SAMPLES, epsilon = 1)\n",
    "    replay_buffer.add_new_trajectory(new_samples)"
   ]
  },
  {
   "cell_type": "code",
   "execution_count": 7,
   "metadata": {},
   "outputs": [
    {
     "name": "stdout",
     "output_type": "stream",
     "text": [
      "Logging Model Metrics\n"
     ]
    },
    {
     "name": "stderr",
     "output_type": "stream",
     "text": [
      "/tmp/ipykernel_12216/3542473893.py:178: DeprecationWarning: `np.bool` is a deprecated alias for the builtin `bool`. To silence this warning, use `bool` by itself. Doing this will not modify any behavior and is safe. If you specifically wanted the numpy scalar type, use `np.bool_` here.\n",
      "Deprecated in NumPy 1.20; for more details and guidance: https://numpy.org/devdocs/release/1.20.0-notes.html#deprecations\n",
      "  allready_terminated = np.zeros(n_test_envs, np.bool)\n"
     ]
    },
    {
     "name": "stdout",
     "output_type": "stream",
     "text": [
      "average_rewards          -5.509539\n",
      "average_termination     729.380952\n",
      "average_q_val             0.279820\n",
      "average_target_q_val      0.105209\n",
      "l2_diff                   2.135489\n",
      "average_loss              1.209387\n",
      "dtype: float64\n",
      "Saving Checkpoint\n",
      "Logging Model Metrics\n"
     ]
    },
    {
     "name": "stderr",
     "output_type": "stream",
     "text": [
      "/tmp/ipykernel_12216/3542473893.py:178: DeprecationWarning: `np.bool` is a deprecated alias for the builtin `bool`. To silence this warning, use `bool` by itself. Doing this will not modify any behavior and is safe. If you specifically wanted the numpy scalar type, use `np.bool_` here.\n",
      "Deprecated in NumPy 1.20; for more details and guidance: https://numpy.org/devdocs/release/1.20.0-notes.html#deprecations\n",
      "  allready_terminated = np.zeros(n_test_envs, np.bool)\n"
     ]
    },
    {
     "name": "stdout",
     "output_type": "stream",
     "text": [
      "average_rewards          -8.006633\n",
      "average_termination     362.090909\n",
      "average_q_val             0.510703\n",
      "average_target_q_val      0.481198\n",
      "l2_diff                   2.727932\n",
      "average_loss              1.210004\n",
      "dtype: float64\n",
      "Saving Checkpoint\n",
      "Logging Model Metrics\n"
     ]
    },
    {
     "name": "stderr",
     "output_type": "stream",
     "text": [
      "/tmp/ipykernel_12216/3542473893.py:178: DeprecationWarning: `np.bool` is a deprecated alias for the builtin `bool`. To silence this warning, use `bool` by itself. Doing this will not modify any behavior and is safe. If you specifically wanted the numpy scalar type, use `np.bool_` here.\n",
      "Deprecated in NumPy 1.20; for more details and guidance: https://numpy.org/devdocs/release/1.20.0-notes.html#deprecations\n",
      "  allready_terminated = np.zeros(n_test_envs, np.bool)\n"
     ]
    },
    {
     "name": "stdout",
     "output_type": "stream",
     "text": [
      "average_rewards          -4.201870\n",
      "average_termination     446.933333\n",
      "average_q_val             0.861691\n",
      "average_target_q_val      0.768567\n",
      "l2_diff                   2.388226\n",
      "average_loss              1.230002\n",
      "dtype: float64\n",
      "Saving Checkpoint\n",
      "Logging Model Metrics\n"
     ]
    },
    {
     "name": "stderr",
     "output_type": "stream",
     "text": [
      "/tmp/ipykernel_12216/3542473893.py:178: DeprecationWarning: `np.bool` is a deprecated alias for the builtin `bool`. To silence this warning, use `bool` by itself. Doing this will not modify any behavior and is safe. If you specifically wanted the numpy scalar type, use `np.bool_` here.\n",
      "Deprecated in NumPy 1.20; for more details and guidance: https://numpy.org/devdocs/release/1.20.0-notes.html#deprecations\n",
      "  allready_terminated = np.zeros(n_test_envs, np.bool)\n"
     ]
    },
    {
     "name": "stdout",
     "output_type": "stream",
     "text": [
      "average_rewards         -10.041727\n",
      "average_termination     535.466667\n",
      "average_q_val             1.390231\n",
      "average_target_q_val      1.282922\n",
      "l2_diff                   1.897361\n",
      "average_loss              1.210114\n",
      "dtype: float64\n",
      "Saving Checkpoint\n",
      "Logging Model Metrics\n"
     ]
    },
    {
     "name": "stderr",
     "output_type": "stream",
     "text": [
      "/tmp/ipykernel_12216/3542473893.py:178: DeprecationWarning: `np.bool` is a deprecated alias for the builtin `bool`. To silence this warning, use `bool` by itself. Doing this will not modify any behavior and is safe. If you specifically wanted the numpy scalar type, use `np.bool_` here.\n",
      "Deprecated in NumPy 1.20; for more details and guidance: https://numpy.org/devdocs/release/1.20.0-notes.html#deprecations\n",
      "  allready_terminated = np.zeros(n_test_envs, np.bool)\n"
     ]
    },
    {
     "name": "stdout",
     "output_type": "stream",
     "text": [
      "average_rewards           1.733727\n",
      "average_termination     795.560000\n",
      "average_q_val             2.073296\n",
      "average_target_q_val      1.823520\n",
      "l2_diff                   1.972179\n",
      "average_loss              1.300634\n",
      "dtype: float64\n",
      "Saving Checkpoint\n",
      "Logging Model Metrics\n"
     ]
    },
    {
     "name": "stderr",
     "output_type": "stream",
     "text": [
      "/tmp/ipykernel_12216/3542473893.py:178: DeprecationWarning: `np.bool` is a deprecated alias for the builtin `bool`. To silence this warning, use `bool` by itself. Doing this will not modify any behavior and is safe. If you specifically wanted the numpy scalar type, use `np.bool_` here.\n",
      "Deprecated in NumPy 1.20; for more details and guidance: https://numpy.org/devdocs/release/1.20.0-notes.html#deprecations\n",
      "  allready_terminated = np.zeros(n_test_envs, np.bool)\n"
     ]
    },
    {
     "name": "stdout",
     "output_type": "stream",
     "text": [
      "average_rewards            9.900088\n",
      "average_termination     1906.565217\n",
      "average_q_val              2.644400\n",
      "average_target_q_val       2.541667\n",
      "l2_diff                    1.189710\n",
      "average_loss               1.147327\n",
      "dtype: float64\n",
      "Saving Checkpoint\n",
      "Logging Model Metrics\n"
     ]
    },
    {
     "name": "stderr",
     "output_type": "stream",
     "text": [
      "/tmp/ipykernel_12216/3542473893.py:178: DeprecationWarning: `np.bool` is a deprecated alias for the builtin `bool`. To silence this warning, use `bool` by itself. Doing this will not modify any behavior and is safe. If you specifically wanted the numpy scalar type, use `np.bool_` here.\n",
      "Deprecated in NumPy 1.20; for more details and guidance: https://numpy.org/devdocs/release/1.20.0-notes.html#deprecations\n",
      "  allready_terminated = np.zeros(n_test_envs, np.bool)\n"
     ]
    },
    {
     "name": "stdout",
     "output_type": "stream",
     "text": [
      "average_rewards           11.248574\n",
      "average_termination     1376.235294\n",
      "average_q_val              3.212788\n",
      "average_target_q_val       3.139042\n",
      "l2_diff                    0.939870\n",
      "average_loss               0.970838\n",
      "dtype: float64\n",
      "Saving Checkpoint\n",
      "Logging Model Metrics\n"
     ]
    },
    {
     "name": "stderr",
     "output_type": "stream",
     "text": [
      "/tmp/ipykernel_12216/3542473893.py:178: DeprecationWarning: `np.bool` is a deprecated alias for the builtin `bool`. To silence this warning, use `bool` by itself. Doing this will not modify any behavior and is safe. If you specifically wanted the numpy scalar type, use `np.bool_` here.\n",
      "Deprecated in NumPy 1.20; for more details and guidance: https://numpy.org/devdocs/release/1.20.0-notes.html#deprecations\n",
      "  allready_terminated = np.zeros(n_test_envs, np.bool)\n"
     ]
    },
    {
     "name": "stdout",
     "output_type": "stream",
     "text": [
      "average_rewards          -5.185374\n",
      "average_termination     686.047619\n",
      "average_q_val             4.547650\n",
      "average_target_q_val      4.676023\n",
      "l2_diff                   0.562815\n",
      "average_loss              0.924151\n",
      "dtype: float64\n",
      "Saving Checkpoint\n",
      "Logging Model Metrics\n"
     ]
    },
    {
     "name": "stderr",
     "output_type": "stream",
     "text": [
      "/tmp/ipykernel_12216/3542473893.py:178: DeprecationWarning: `np.bool` is a deprecated alias for the builtin `bool`. To silence this warning, use `bool` by itself. Doing this will not modify any behavior and is safe. If you specifically wanted the numpy scalar type, use `np.bool_` here.\n",
      "Deprecated in NumPy 1.20; for more details and guidance: https://numpy.org/devdocs/release/1.20.0-notes.html#deprecations\n",
      "  allready_terminated = np.zeros(n_test_envs, np.bool)\n"
     ]
    },
    {
     "name": "stdout",
     "output_type": "stream",
     "text": [
      "average_rewards          -3.503479\n",
      "average_termination     866.562500\n",
      "average_q_val             5.554807\n",
      "average_target_q_val      5.273357\n",
      "l2_diff                   0.707323\n",
      "average_loss              0.779214\n",
      "dtype: float64\n",
      "Saving Checkpoint\n",
      "Logging Model Metrics\n"
     ]
    },
    {
     "name": "stderr",
     "output_type": "stream",
     "text": [
      "/tmp/ipykernel_12216/3542473893.py:178: DeprecationWarning: `np.bool` is a deprecated alias for the builtin `bool`. To silence this warning, use `bool` by itself. Doing this will not modify any behavior and is safe. If you specifically wanted the numpy scalar type, use `np.bool_` here.\n",
      "Deprecated in NumPy 1.20; for more details and guidance: https://numpy.org/devdocs/release/1.20.0-notes.html#deprecations\n",
      "  allready_terminated = np.zeros(n_test_envs, np.bool)\n"
     ]
    },
    {
     "name": "stdout",
     "output_type": "stream",
     "text": [
      "average_rewards           -3.779180\n",
      "average_termination     1212.642857\n",
      "average_q_val              7.369318\n",
      "average_target_q_val       7.467192\n",
      "l2_diff                    0.474111\n",
      "average_loss               0.596702\n",
      "dtype: float64\n",
      "Saving Checkpoint\n",
      "Logging Model Metrics\n"
     ]
    },
    {
     "name": "stderr",
     "output_type": "stream",
     "text": [
      "/tmp/ipykernel_12216/3542473893.py:178: DeprecationWarning: `np.bool` is a deprecated alias for the builtin `bool`. To silence this warning, use `bool` by itself. Doing this will not modify any behavior and is safe. If you specifically wanted the numpy scalar type, use `np.bool_` here.\n",
      "Deprecated in NumPy 1.20; for more details and guidance: https://numpy.org/devdocs/release/1.20.0-notes.html#deprecations\n",
      "  allready_terminated = np.zeros(n_test_envs, np.bool)\n"
     ]
    },
    {
     "name": "stdout",
     "output_type": "stream",
     "text": [
      "average_rewards            2.363268\n",
      "average_termination     1589.000000\n",
      "average_q_val              7.671534\n",
      "average_target_q_val       7.655367\n",
      "l2_diff                    0.461929\n",
      "average_loss               0.547388\n",
      "dtype: float64\n",
      "Saving Checkpoint\n",
      "Logging Model Metrics\n"
     ]
    },
    {
     "name": "stderr",
     "output_type": "stream",
     "text": [
      "/tmp/ipykernel_12216/3542473893.py:178: DeprecationWarning: `np.bool` is a deprecated alias for the builtin `bool`. To silence this warning, use `bool` by itself. Doing this will not modify any behavior and is safe. If you specifically wanted the numpy scalar type, use `np.bool_` here.\n",
      "Deprecated in NumPy 1.20; for more details and guidance: https://numpy.org/devdocs/release/1.20.0-notes.html#deprecations\n",
      "  allready_terminated = np.zeros(n_test_envs, np.bool)\n"
     ]
    },
    {
     "name": "stdout",
     "output_type": "stream",
     "text": [
      "average_rewards            9.604541\n",
      "average_termination     1195.250000\n",
      "average_q_val              6.965874\n",
      "average_target_q_val       7.095036\n",
      "l2_diff                    0.388867\n",
      "average_loss               0.537916\n",
      "dtype: float64\n",
      "Saving Checkpoint\n",
      "Logging Model Metrics\n"
     ]
    },
    {
     "name": "stderr",
     "output_type": "stream",
     "text": [
      "/tmp/ipykernel_12216/3542473893.py:178: DeprecationWarning: `np.bool` is a deprecated alias for the builtin `bool`. To silence this warning, use `bool` by itself. Doing this will not modify any behavior and is safe. If you specifically wanted the numpy scalar type, use `np.bool_` here.\n",
      "Deprecated in NumPy 1.20; for more details and guidance: https://numpy.org/devdocs/release/1.20.0-notes.html#deprecations\n",
      "  allready_terminated = np.zeros(n_test_envs, np.bool)\n"
     ]
    },
    {
     "name": "stdout",
     "output_type": "stream",
     "text": [
      "average_rewards           2.054318\n",
      "average_termination     643.117647\n",
      "average_q_val             8.436354\n",
      "average_target_q_val      8.467231\n",
      "l2_diff                   0.472359\n",
      "average_loss              0.504369\n",
      "dtype: float64\n",
      "Saving Checkpoint\n",
      "Logging Model Metrics\n"
     ]
    },
    {
     "name": "stderr",
     "output_type": "stream",
     "text": [
      "/tmp/ipykernel_12216/3542473893.py:178: DeprecationWarning: `np.bool` is a deprecated alias for the builtin `bool`. To silence this warning, use `bool` by itself. Doing this will not modify any behavior and is safe. If you specifically wanted the numpy scalar type, use `np.bool_` here.\n",
      "Deprecated in NumPy 1.20; for more details and guidance: https://numpy.org/devdocs/release/1.20.0-notes.html#deprecations\n",
      "  allready_terminated = np.zeros(n_test_envs, np.bool)\n"
     ]
    },
    {
     "name": "stdout",
     "output_type": "stream",
     "text": [
      "average_rewards           4.175084\n",
      "average_termination     917.941176\n",
      "average_q_val             8.070183\n",
      "average_target_q_val      7.908861\n",
      "l2_diff                   0.470864\n",
      "average_loss              0.392556\n",
      "dtype: float64\n",
      "Saving Checkpoint\n",
      "Logging Model Metrics\n"
     ]
    },
    {
     "name": "stderr",
     "output_type": "stream",
     "text": [
      "/tmp/ipykernel_12216/3542473893.py:178: DeprecationWarning: `np.bool` is a deprecated alias for the builtin `bool`. To silence this warning, use `bool` by itself. Doing this will not modify any behavior and is safe. If you specifically wanted the numpy scalar type, use `np.bool_` here.\n",
      "Deprecated in NumPy 1.20; for more details and guidance: https://numpy.org/devdocs/release/1.20.0-notes.html#deprecations\n",
      "  allready_terminated = np.zeros(n_test_envs, np.bool)\n"
     ]
    },
    {
     "name": "stdout",
     "output_type": "stream",
     "text": [
      "average_rewards           32.252818\n",
      "average_termination     1631.400000\n",
      "average_q_val             11.047451\n",
      "average_target_q_val      11.072432\n",
      "l2_diff                    0.417911\n",
      "average_loss               0.487034\n",
      "dtype: float64\n",
      "Saving Checkpoint\n",
      "Logging Model Metrics\n"
     ]
    },
    {
     "name": "stderr",
     "output_type": "stream",
     "text": [
      "/tmp/ipykernel_12216/3542473893.py:178: DeprecationWarning: `np.bool` is a deprecated alias for the builtin `bool`. To silence this warning, use `bool` by itself. Doing this will not modify any behavior and is safe. If you specifically wanted the numpy scalar type, use `np.bool_` here.\n",
      "Deprecated in NumPy 1.20; for more details and guidance: https://numpy.org/devdocs/release/1.20.0-notes.html#deprecations\n",
      "  allready_terminated = np.zeros(n_test_envs, np.bool)\n"
     ]
    },
    {
     "name": "stdout",
     "output_type": "stream",
     "text": [
      "average_rewards          37.252734\n",
      "average_termination     913.666667\n",
      "average_q_val            14.208448\n",
      "average_target_q_val     14.174950\n",
      "l2_diff                   0.434362\n",
      "average_loss              0.353886\n",
      "dtype: float64\n",
      "Saving Checkpoint\n",
      "Logging Model Metrics\n"
     ]
    },
    {
     "name": "stderr",
     "output_type": "stream",
     "text": [
      "/tmp/ipykernel_12216/3542473893.py:178: DeprecationWarning: `np.bool` is a deprecated alias for the builtin `bool`. To silence this warning, use `bool` by itself. Doing this will not modify any behavior and is safe. If you specifically wanted the numpy scalar type, use `np.bool_` here.\n",
      "Deprecated in NumPy 1.20; for more details and guidance: https://numpy.org/devdocs/release/1.20.0-notes.html#deprecations\n",
      "  allready_terminated = np.zeros(n_test_envs, np.bool)\n"
     ]
    },
    {
     "name": "stdout",
     "output_type": "stream",
     "text": [
      "average_rewards           19.293715\n",
      "average_termination     1179.111111\n",
      "average_q_val             10.306548\n",
      "average_target_q_val      10.179141\n",
      "l2_diff                    0.438067\n",
      "average_loss               0.331186\n",
      "dtype: float64\n",
      "Saving Checkpoint\n",
      "Logging Model Metrics\n"
     ]
    },
    {
     "name": "stderr",
     "output_type": "stream",
     "text": [
      "/tmp/ipykernel_12216/3542473893.py:178: DeprecationWarning: `np.bool` is a deprecated alias for the builtin `bool`. To silence this warning, use `bool` by itself. Doing this will not modify any behavior and is safe. If you specifically wanted the numpy scalar type, use `np.bool_` here.\n",
      "Deprecated in NumPy 1.20; for more details and guidance: https://numpy.org/devdocs/release/1.20.0-notes.html#deprecations\n",
      "  allready_terminated = np.zeros(n_test_envs, np.bool)\n"
     ]
    },
    {
     "name": "stdout",
     "output_type": "stream",
     "text": [
      "average_rewards          23.121853\n",
      "average_termination     857.875000\n",
      "average_q_val            13.122060\n",
      "average_target_q_val     13.010412\n",
      "l2_diff                   0.398680\n",
      "average_loss              0.266479\n",
      "dtype: float64\n",
      "Saving Checkpoint\n",
      "Logging Model Metrics\n"
     ]
    },
    {
     "name": "stderr",
     "output_type": "stream",
     "text": [
      "/tmp/ipykernel_12216/3542473893.py:178: DeprecationWarning: `np.bool` is a deprecated alias for the builtin `bool`. To silence this warning, use `bool` by itself. Doing this will not modify any behavior and is safe. If you specifically wanted the numpy scalar type, use `np.bool_` here.\n",
      "Deprecated in NumPy 1.20; for more details and guidance: https://numpy.org/devdocs/release/1.20.0-notes.html#deprecations\n",
      "  allready_terminated = np.zeros(n_test_envs, np.bool)\n"
     ]
    },
    {
     "name": "stdout",
     "output_type": "stream",
     "text": [
      "average_rewards           37.604646\n",
      "average_termination     1465.105263\n",
      "average_q_val             12.428048\n",
      "average_target_q_val      12.280682\n",
      "l2_diff                    0.485072\n",
      "average_loss               0.348653\n",
      "dtype: float64\n",
      "Saving Checkpoint\n",
      "Logging Model Metrics\n"
     ]
    },
    {
     "name": "stderr",
     "output_type": "stream",
     "text": [
      "/tmp/ipykernel_12216/3542473893.py:178: DeprecationWarning: `np.bool` is a deprecated alias for the builtin `bool`. To silence this warning, use `bool` by itself. Doing this will not modify any behavior and is safe. If you specifically wanted the numpy scalar type, use `np.bool_` here.\n",
      "Deprecated in NumPy 1.20; for more details and guidance: https://numpy.org/devdocs/release/1.20.0-notes.html#deprecations\n",
      "  allready_terminated = np.zeros(n_test_envs, np.bool)\n"
     ]
    },
    {
     "name": "stdout",
     "output_type": "stream",
     "text": [
      "average_rewards           39.144342\n",
      "average_termination     1086.833333\n",
      "average_q_val             13.548063\n",
      "average_target_q_val      13.337428\n",
      "l2_diff                    0.471011\n",
      "average_loss               0.383810\n",
      "dtype: float64\n",
      "Saving Checkpoint\n",
      "Logging Model Metrics\n"
     ]
    },
    {
     "name": "stderr",
     "output_type": "stream",
     "text": [
      "/tmp/ipykernel_12216/3542473893.py:178: DeprecationWarning: `np.bool` is a deprecated alias for the builtin `bool`. To silence this warning, use `bool` by itself. Doing this will not modify any behavior and is safe. If you specifically wanted the numpy scalar type, use `np.bool_` here.\n",
      "Deprecated in NumPy 1.20; for more details and guidance: https://numpy.org/devdocs/release/1.20.0-notes.html#deprecations\n",
      "  allready_terminated = np.zeros(n_test_envs, np.bool)\n"
     ]
    },
    {
     "name": "stdout",
     "output_type": "stream",
     "text": [
      "average_rewards          39.906821\n",
      "average_termination     967.875000\n",
      "average_q_val            14.503660\n",
      "average_target_q_val     14.404293\n",
      "l2_diff                   0.405013\n",
      "average_loss              0.389847\n",
      "dtype: float64\n",
      "Saving Checkpoint\n",
      "Logging Model Metrics\n"
     ]
    },
    {
     "name": "stderr",
     "output_type": "stream",
     "text": [
      "/tmp/ipykernel_12216/3542473893.py:178: DeprecationWarning: `np.bool` is a deprecated alias for the builtin `bool`. To silence this warning, use `bool` by itself. Doing this will not modify any behavior and is safe. If you specifically wanted the numpy scalar type, use `np.bool_` here.\n",
      "Deprecated in NumPy 1.20; for more details and guidance: https://numpy.org/devdocs/release/1.20.0-notes.html#deprecations\n",
      "  allready_terminated = np.zeros(n_test_envs, np.bool)\n"
     ]
    },
    {
     "name": "stdout",
     "output_type": "stream",
     "text": [
      "average_rewards          34.106997\n",
      "average_termination     975.866667\n",
      "average_q_val            13.940448\n",
      "average_target_q_val     13.874635\n",
      "l2_diff                   0.423767\n",
      "average_loss              0.334109\n",
      "dtype: float64\n",
      "Saving Checkpoint\n",
      "Logging Model Metrics\n"
     ]
    },
    {
     "name": "stderr",
     "output_type": "stream",
     "text": [
      "/tmp/ipykernel_12216/3542473893.py:178: DeprecationWarning: `np.bool` is a deprecated alias for the builtin `bool`. To silence this warning, use `bool` by itself. Doing this will not modify any behavior and is safe. If you specifically wanted the numpy scalar type, use `np.bool_` here.\n",
      "Deprecated in NumPy 1.20; for more details and guidance: https://numpy.org/devdocs/release/1.20.0-notes.html#deprecations\n",
      "  allready_terminated = np.zeros(n_test_envs, np.bool)\n"
     ]
    },
    {
     "name": "stdout",
     "output_type": "stream",
     "text": [
      "average_rewards           31.616170\n",
      "average_termination     1200.240000\n",
      "average_q_val             17.699020\n",
      "average_target_q_val      17.697432\n",
      "l2_diff                    0.376134\n",
      "average_loss               0.425781\n",
      "dtype: float64\n",
      "Saving Checkpoint\n",
      "Logging Model Metrics\n"
     ]
    },
    {
     "name": "stderr",
     "output_type": "stream",
     "text": [
      "/tmp/ipykernel_12216/3542473893.py:178: DeprecationWarning: `np.bool` is a deprecated alias for the builtin `bool`. To silence this warning, use `bool` by itself. Doing this will not modify any behavior and is safe. If you specifically wanted the numpy scalar type, use `np.bool_` here.\n",
      "Deprecated in NumPy 1.20; for more details and guidance: https://numpy.org/devdocs/release/1.20.0-notes.html#deprecations\n",
      "  allready_terminated = np.zeros(n_test_envs, np.bool)\n"
     ]
    },
    {
     "name": "stdout",
     "output_type": "stream",
     "text": [
      "average_rewards          33.267881\n",
      "average_termination     493.444444\n",
      "average_q_val            18.210022\n",
      "average_target_q_val     18.085460\n",
      "l2_diff                   0.546760\n",
      "average_loss              0.362977\n",
      "dtype: float64\n",
      "Saving Checkpoint\n",
      "Logging Model Metrics\n"
     ]
    },
    {
     "name": "stderr",
     "output_type": "stream",
     "text": [
      "/tmp/ipykernel_12216/3542473893.py:178: DeprecationWarning: `np.bool` is a deprecated alias for the builtin `bool`. To silence this warning, use `bool` by itself. Doing this will not modify any behavior and is safe. If you specifically wanted the numpy scalar type, use `np.bool_` here.\n",
      "Deprecated in NumPy 1.20; for more details and guidance: https://numpy.org/devdocs/release/1.20.0-notes.html#deprecations\n",
      "  allready_terminated = np.zeros(n_test_envs, np.bool)\n"
     ]
    },
    {
     "name": "stdout",
     "output_type": "stream",
     "text": [
      "average_rewards           30.192509\n",
      "average_termination     1145.600000\n",
      "average_q_val             15.585725\n",
      "average_target_q_val      15.457098\n",
      "l2_diff                    0.455987\n",
      "average_loss               0.431128\n",
      "dtype: float64\n",
      "Saving Checkpoint\n",
      "Logging Model Metrics\n"
     ]
    },
    {
     "name": "stderr",
     "output_type": "stream",
     "text": [
      "/tmp/ipykernel_12216/3542473893.py:178: DeprecationWarning: `np.bool` is a deprecated alias for the builtin `bool`. To silence this warning, use `bool` by itself. Doing this will not modify any behavior and is safe. If you specifically wanted the numpy scalar type, use `np.bool_` here.\n",
      "Deprecated in NumPy 1.20; for more details and guidance: https://numpy.org/devdocs/release/1.20.0-notes.html#deprecations\n",
      "  allready_terminated = np.zeros(n_test_envs, np.bool)\n"
     ]
    },
    {
     "name": "stdout",
     "output_type": "stream",
     "text": [
      "average_rewards           29.715247\n",
      "average_termination     1825.423077\n",
      "average_q_val             12.933905\n",
      "average_target_q_val      12.866194\n",
      "l2_diff                    0.412182\n",
      "average_loss               0.424015\n",
      "dtype: float64\n",
      "Saving Checkpoint\n",
      "Logging Model Metrics\n"
     ]
    },
    {
     "name": "stderr",
     "output_type": "stream",
     "text": [
      "/tmp/ipykernel_12216/3542473893.py:178: DeprecationWarning: `np.bool` is a deprecated alias for the builtin `bool`. To silence this warning, use `bool` by itself. Doing this will not modify any behavior and is safe. If you specifically wanted the numpy scalar type, use `np.bool_` here.\n",
      "Deprecated in NumPy 1.20; for more details and guidance: https://numpy.org/devdocs/release/1.20.0-notes.html#deprecations\n",
      "  allready_terminated = np.zeros(n_test_envs, np.bool)\n"
     ]
    },
    {
     "name": "stdout",
     "output_type": "stream",
     "text": [
      "average_rewards          43.005776\n",
      "average_termination     854.894737\n",
      "average_q_val            18.602579\n",
      "average_target_q_val     18.461083\n",
      "l2_diff                   0.617927\n",
      "average_loss              0.452832\n",
      "dtype: float64\n",
      "Saving Checkpoint\n"
     ]
    },
    {
     "ename": "KeyboardInterrupt",
     "evalue": "",
     "output_type": "error",
     "traceback": [
      "\u001b[0;31m---------------------------------------------------------------------------\u001b[0m",
      "\u001b[0;31mKeyboardInterrupt\u001b[0m                         Traceback (most recent call last)",
      "Cell \u001b[0;32mIn[7], line 21\u001b[0m\n\u001b[1;32m     17\u001b[0m losses \u001b[39m=\u001b[39m []\n\u001b[1;32m     19\u001b[0m \u001b[39mfor\u001b[39;00m data \u001b[39min\u001b[39;00m bar:\n\u001b[0;32m---> 21\u001b[0m     loss \u001b[39m=\u001b[39m update_q_network(data, q_net, target_net, optimizer, GAMMA)\n\u001b[1;32m     24\u001b[0m     losses\u001b[39m.\u001b[39mappend(loss)\n\u001b[1;32m     25\u001b[0m     mean_loss \u001b[39m=\u001b[39m \u001b[39mfloat\u001b[39m(np\u001b[39m.\u001b[39mmean(losses))\n",
      "File \u001b[0;32m~/anaconda3/envs/tf/lib/python3.10/site-packages/tensorflow/python/util/traceback_utils.py:150\u001b[0m, in \u001b[0;36mfilter_traceback.<locals>.error_handler\u001b[0;34m(*args, **kwargs)\u001b[0m\n\u001b[1;32m    148\u001b[0m filtered_tb \u001b[39m=\u001b[39m \u001b[39mNone\u001b[39;00m\n\u001b[1;32m    149\u001b[0m \u001b[39mtry\u001b[39;00m:\n\u001b[0;32m--> 150\u001b[0m   \u001b[39mreturn\u001b[39;00m fn(\u001b[39m*\u001b[39;49margs, \u001b[39m*\u001b[39;49m\u001b[39m*\u001b[39;49mkwargs)\n\u001b[1;32m    151\u001b[0m \u001b[39mexcept\u001b[39;00m \u001b[39mException\u001b[39;00m \u001b[39mas\u001b[39;00m e:\n\u001b[1;32m    152\u001b[0m   filtered_tb \u001b[39m=\u001b[39m _process_traceback_frames(e\u001b[39m.\u001b[39m__traceback__)\n",
      "File \u001b[0;32m~/anaconda3/envs/tf/lib/python3.10/site-packages/tensorflow/python/eager/def_function.py:915\u001b[0m, in \u001b[0;36mFunction.__call__\u001b[0;34m(self, *args, **kwds)\u001b[0m\n\u001b[1;32m    912\u001b[0m compiler \u001b[39m=\u001b[39m \u001b[39m\"\u001b[39m\u001b[39mxla\u001b[39m\u001b[39m\"\u001b[39m \u001b[39mif\u001b[39;00m \u001b[39mself\u001b[39m\u001b[39m.\u001b[39m_jit_compile \u001b[39melse\u001b[39;00m \u001b[39m\"\u001b[39m\u001b[39mnonXla\u001b[39m\u001b[39m\"\u001b[39m\n\u001b[1;32m    914\u001b[0m \u001b[39mwith\u001b[39;00m OptionalXlaContext(\u001b[39mself\u001b[39m\u001b[39m.\u001b[39m_jit_compile):\n\u001b[0;32m--> 915\u001b[0m   result \u001b[39m=\u001b[39m \u001b[39mself\u001b[39;49m\u001b[39m.\u001b[39;49m_call(\u001b[39m*\u001b[39;49margs, \u001b[39m*\u001b[39;49m\u001b[39m*\u001b[39;49mkwds)\n\u001b[1;32m    917\u001b[0m new_tracing_count \u001b[39m=\u001b[39m \u001b[39mself\u001b[39m\u001b[39m.\u001b[39mexperimental_get_tracing_count()\n\u001b[1;32m    918\u001b[0m without_tracing \u001b[39m=\u001b[39m (tracing_count \u001b[39m==\u001b[39m new_tracing_count)\n",
      "File \u001b[0;32m~/anaconda3/envs/tf/lib/python3.10/site-packages/tensorflow/python/eager/def_function.py:947\u001b[0m, in \u001b[0;36mFunction._call\u001b[0;34m(self, *args, **kwds)\u001b[0m\n\u001b[1;32m    944\u001b[0m   \u001b[39mself\u001b[39m\u001b[39m.\u001b[39m_lock\u001b[39m.\u001b[39mrelease()\n\u001b[1;32m    945\u001b[0m   \u001b[39m# In this case we have created variables on the first call, so we run the\u001b[39;00m\n\u001b[1;32m    946\u001b[0m   \u001b[39m# defunned version which is guaranteed to never create variables.\u001b[39;00m\n\u001b[0;32m--> 947\u001b[0m   \u001b[39mreturn\u001b[39;00m \u001b[39mself\u001b[39;49m\u001b[39m.\u001b[39;49m_stateless_fn(\u001b[39m*\u001b[39;49margs, \u001b[39m*\u001b[39;49m\u001b[39m*\u001b[39;49mkwds)  \u001b[39m# pylint: disable=not-callable\u001b[39;00m\n\u001b[1;32m    948\u001b[0m \u001b[39melif\u001b[39;00m \u001b[39mself\u001b[39m\u001b[39m.\u001b[39m_stateful_fn \u001b[39mis\u001b[39;00m \u001b[39mnot\u001b[39;00m \u001b[39mNone\u001b[39;00m:\n\u001b[1;32m    949\u001b[0m   \u001b[39m# Release the lock early so that multiple threads can perform the call\u001b[39;00m\n\u001b[1;32m    950\u001b[0m   \u001b[39m# in parallel.\u001b[39;00m\n\u001b[1;32m    951\u001b[0m   \u001b[39mself\u001b[39m\u001b[39m.\u001b[39m_lock\u001b[39m.\u001b[39mrelease()\n",
      "File \u001b[0;32m~/anaconda3/envs/tf/lib/python3.10/site-packages/tensorflow/python/eager/function.py:2956\u001b[0m, in \u001b[0;36mFunction.__call__\u001b[0;34m(self, *args, **kwargs)\u001b[0m\n\u001b[1;32m   2953\u001b[0m \u001b[39mwith\u001b[39;00m \u001b[39mself\u001b[39m\u001b[39m.\u001b[39m_lock:\n\u001b[1;32m   2954\u001b[0m   (graph_function,\n\u001b[1;32m   2955\u001b[0m    filtered_flat_args) \u001b[39m=\u001b[39m \u001b[39mself\u001b[39m\u001b[39m.\u001b[39m_maybe_define_function(args, kwargs)\n\u001b[0;32m-> 2956\u001b[0m \u001b[39mreturn\u001b[39;00m graph_function\u001b[39m.\u001b[39;49m_call_flat(\n\u001b[1;32m   2957\u001b[0m     filtered_flat_args, captured_inputs\u001b[39m=\u001b[39;49mgraph_function\u001b[39m.\u001b[39;49mcaptured_inputs)\n",
      "File \u001b[0;32m~/anaconda3/envs/tf/lib/python3.10/site-packages/tensorflow/python/eager/function.py:1853\u001b[0m, in \u001b[0;36mConcreteFunction._call_flat\u001b[0;34m(self, args, captured_inputs, cancellation_manager)\u001b[0m\n\u001b[1;32m   1849\u001b[0m possible_gradient_type \u001b[39m=\u001b[39m gradients_util\u001b[39m.\u001b[39mPossibleTapeGradientTypes(args)\n\u001b[1;32m   1850\u001b[0m \u001b[39mif\u001b[39;00m (possible_gradient_type \u001b[39m==\u001b[39m gradients_util\u001b[39m.\u001b[39mPOSSIBLE_GRADIENT_TYPES_NONE\n\u001b[1;32m   1851\u001b[0m     \u001b[39mand\u001b[39;00m executing_eagerly):\n\u001b[1;32m   1852\u001b[0m   \u001b[39m# No tape is watching; skip to running the function.\u001b[39;00m\n\u001b[0;32m-> 1853\u001b[0m   \u001b[39mreturn\u001b[39;00m \u001b[39mself\u001b[39m\u001b[39m.\u001b[39m_build_call_outputs(\u001b[39mself\u001b[39;49m\u001b[39m.\u001b[39;49m_inference_function\u001b[39m.\u001b[39;49mcall(\n\u001b[1;32m   1854\u001b[0m       ctx, args, cancellation_manager\u001b[39m=\u001b[39;49mcancellation_manager))\n\u001b[1;32m   1855\u001b[0m forward_backward \u001b[39m=\u001b[39m \u001b[39mself\u001b[39m\u001b[39m.\u001b[39m_select_forward_and_backward_functions(\n\u001b[1;32m   1856\u001b[0m     args,\n\u001b[1;32m   1857\u001b[0m     possible_gradient_type,\n\u001b[1;32m   1858\u001b[0m     executing_eagerly)\n\u001b[1;32m   1859\u001b[0m forward_function, args_with_tangents \u001b[39m=\u001b[39m forward_backward\u001b[39m.\u001b[39mforward()\n",
      "File \u001b[0;32m~/anaconda3/envs/tf/lib/python3.10/site-packages/tensorflow/python/eager/function.py:499\u001b[0m, in \u001b[0;36m_EagerDefinedFunction.call\u001b[0;34m(self, ctx, args, cancellation_manager)\u001b[0m\n\u001b[1;32m    497\u001b[0m \u001b[39mwith\u001b[39;00m _InterpolateFunctionError(\u001b[39mself\u001b[39m):\n\u001b[1;32m    498\u001b[0m   \u001b[39mif\u001b[39;00m cancellation_manager \u001b[39mis\u001b[39;00m \u001b[39mNone\u001b[39;00m:\n\u001b[0;32m--> 499\u001b[0m     outputs \u001b[39m=\u001b[39m execute\u001b[39m.\u001b[39;49mexecute(\n\u001b[1;32m    500\u001b[0m         \u001b[39mstr\u001b[39;49m(\u001b[39mself\u001b[39;49m\u001b[39m.\u001b[39;49msignature\u001b[39m.\u001b[39;49mname),\n\u001b[1;32m    501\u001b[0m         num_outputs\u001b[39m=\u001b[39;49m\u001b[39mself\u001b[39;49m\u001b[39m.\u001b[39;49m_num_outputs,\n\u001b[1;32m    502\u001b[0m         inputs\u001b[39m=\u001b[39;49margs,\n\u001b[1;32m    503\u001b[0m         attrs\u001b[39m=\u001b[39;49mattrs,\n\u001b[1;32m    504\u001b[0m         ctx\u001b[39m=\u001b[39;49mctx)\n\u001b[1;32m    505\u001b[0m   \u001b[39melse\u001b[39;00m:\n\u001b[1;32m    506\u001b[0m     outputs \u001b[39m=\u001b[39m execute\u001b[39m.\u001b[39mexecute_with_cancellation(\n\u001b[1;32m    507\u001b[0m         \u001b[39mstr\u001b[39m(\u001b[39mself\u001b[39m\u001b[39m.\u001b[39msignature\u001b[39m.\u001b[39mname),\n\u001b[1;32m    508\u001b[0m         num_outputs\u001b[39m=\u001b[39m\u001b[39mself\u001b[39m\u001b[39m.\u001b[39m_num_outputs,\n\u001b[0;32m   (...)\u001b[0m\n\u001b[1;32m    511\u001b[0m         ctx\u001b[39m=\u001b[39mctx,\n\u001b[1;32m    512\u001b[0m         cancellation_manager\u001b[39m=\u001b[39mcancellation_manager)\n",
      "File \u001b[0;32m~/anaconda3/envs/tf/lib/python3.10/site-packages/tensorflow/python/eager/execute.py:54\u001b[0m, in \u001b[0;36mquick_execute\u001b[0;34m(op_name, num_outputs, inputs, attrs, ctx, name)\u001b[0m\n\u001b[1;32m     52\u001b[0m \u001b[39mtry\u001b[39;00m:\n\u001b[1;32m     53\u001b[0m   ctx\u001b[39m.\u001b[39mensure_initialized()\n\u001b[0;32m---> 54\u001b[0m   tensors \u001b[39m=\u001b[39m pywrap_tfe\u001b[39m.\u001b[39;49mTFE_Py_Execute(ctx\u001b[39m.\u001b[39;49m_handle, device_name, op_name,\n\u001b[1;32m     55\u001b[0m                                       inputs, attrs, num_outputs)\n\u001b[1;32m     56\u001b[0m \u001b[39mexcept\u001b[39;00m core\u001b[39m.\u001b[39m_NotOkStatusException \u001b[39mas\u001b[39;00m e:\n\u001b[1;32m     57\u001b[0m   \u001b[39mif\u001b[39;00m name \u001b[39mis\u001b[39;00m \u001b[39mnot\u001b[39;00m \u001b[39mNone\u001b[39;00m:\n",
      "\u001b[0;31mKeyboardInterrupt\u001b[0m: "
     ]
    }
   ],
   "source": [
    "outer_steps = 0\n",
    "\n",
    "env_sampler.reset_env()\n",
    "\n",
    "\n",
    "\n",
    "while True:\n",
    "    \n",
    "\n",
    "    outer_steps +=1\n",
    "    EXPLORATION_RATE *= EPSILON_DECAY\n",
    "    \n",
    "    ds = replay_buffer.generate_tf_dataset(N_BATCHES, BATCHSIZE)\n",
    "    \n",
    "    bar = ds # tqdm.tqdm(ds)\n",
    "    \n",
    "    losses = []\n",
    "\n",
    "    for data in bar:\n",
    "\n",
    "        loss = update_q_network(data, q_net, target_net, optimizer, GAMMA)\n",
    "        \n",
    "        \n",
    "        losses.append(loss)\n",
    "        mean_loss = float(np.mean(losses))\n",
    "        # bar.set_description(f\"Loss {mean_loss:.6f}\")\n",
    "\n",
    "    mean_loss = float(np.mean(losses))\n",
    "    \n",
    "    with writer.as_default():\n",
    "\n",
    "        tf.summary.scalar(\"loss\", mean_loss, step=outer_steps)\n",
    "        tf.summary.scalar(\"epsilon\", EXPLORATION_RATE, step=outer_steps)\n",
    "\n",
    "\n",
    "    new_samples = env_sampler.sample(N_NEW_SAMPLES, epsilon= EXPLORATION_RATE)\n",
    "    replay_buffer.add_new_trajectory(new_samples)\n",
    "\n",
    "    replay_buffer.drop_first_trajectory()\n",
    "\n",
    "    polyak_averaging(target_net, q_net, TAU)\n",
    "    \n",
    "    \n",
    "    if outer_steps % LOG_FREQ == 0:\n",
    "        \n",
    "        print(\"Logging Model Metrics\")\n",
    "        \n",
    "        results = env_sampler.measure_model_perforamnce( GAMMA, target_net, N_TEST_ENVS)\n",
    "        names = [\"average_rewards\", \"average_termination\", \"average_q_val\", \"average_target_q_val\", \"l2_diff\",]\n",
    "\n",
    "        for val, name in zip(results, names):\n",
    "\n",
    "            with writer.as_default():\n",
    "\n",
    "                tf.summary.scalar(name, val, step=outer_steps)\n",
    "\n",
    "        results = pd.Series(results, names)\n",
    "        \n",
    "        results[\"average_loss\"] = np.mean(losses)\n",
    "        \n",
    "        results.to_json(TMP_LOG_PATH.format(outer_steps))\n",
    "        \n",
    "        print(results)\n",
    "        \n",
    "        \n",
    "    if outer_steps % CHECKPOINT_FREQ == 0:\n",
    "        \n",
    "        print(\"Saving Checkpoint\")\n",
    "        \n",
    "        checkpoint.save(TMP_SAVE_TO_PATH)"
   ]
  },
  {
   "cell_type": "code",
   "execution_count": null,
   "metadata": {},
   "outputs": [],
   "source": []
  }
 ],
 "metadata": {
  "kernelspec": {
   "display_name": "tf",
   "language": "python",
   "name": "python3"
  },
  "language_info": {
   "codemirror_mode": {
    "name": "ipython",
    "version": 3
   },
   "file_extension": ".py",
   "mimetype": "text/x-python",
   "name": "python",
   "nbconvert_exporter": "python",
   "pygments_lexer": "ipython3",
   "version": "3.10.9"
  },
  "orig_nbformat": 4
 },
 "nbformat": 4,
 "nbformat_minor": 2
}
