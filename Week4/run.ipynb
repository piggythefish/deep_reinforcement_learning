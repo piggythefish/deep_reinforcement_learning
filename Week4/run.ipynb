{
 "cells": [
  {
   "cell_type": "code",
   "execution_count": 1,
   "metadata": {},
   "outputs": [],
   "source": [
    "import tensorflow as tf\n",
    "import shutil\n",
    "import numpy as np\n",
    "import tqdm\n",
    "import pandas as pd\n",
    "import os\n",
    "import gymnasium as gym\n",
    "import matplotlib.pyplot as plt\n",
    "import numpy as np\n",
    "import random\n",
    "\n",
    "GAMMA = 0.98\n",
    "TAU = 0.05\n",
    "BATCHSIZE = 32\n",
    "N_BATCHES = 100\n",
    "N_MULTI_ENVS = 8\n",
    "EXPLORATION_RATE = 0.2\n",
    "EPSILON_DECAY = 0.999\n",
    "\n",
    "N_NEW_SAMPLES = 500\n",
    "N_SAMPLE_SETS = 100\n",
    "\n",
    "CHECKPOINT_FREQ = 40\n",
    "LOG_FREQ = 30\n"
   ]
  },
  {
   "cell_type": "code",
   "execution_count": 2,
   "metadata": {},
   "outputs": [],
   "source": [
    "TMP_SAVE_TO_PATH = \"ckpts/ckpt\"\n",
    "TMP_LOG_PATH = \"logs/{}.json\"\n",
    "TB_LOGS = \"tb_lobs/run\"\n",
    "\n",
    "\n",
    "os.makedirs(TMP_SAVE_TO_PATH.replace(\"/ckpt\",\"\"), exist_ok= True)\n",
    "os.makedirs(TMP_LOG_PATH.replace(\"/{}.json\",\"\"), exist_ok= True)\n",
    "os.makedirs(TB_LOGS, exist_ok= True)\n",
    "\n",
    "# # get old checkpoint\n",
    "# !cp /content/gdrive/MyDrive/DeepRL/HW4/checkpoint.zip checkpoint.zip\n",
    "# !unzip -d {TMP_SAVE_TO_PATH} checkpoint.zip\n",
    "\n",
    "LOSS = tf.keras.losses.Huber()\n",
    "CNN_SHAPE = (84, 84)\n"
   ]
  },
  {
   "cell_type": "code",
   "execution_count": 3,
   "metadata": {},
   "outputs": [],
   "source": [
    "\n",
    "\n",
    "def triple_conv_block_no_batchnorm(x, filters):\n",
    "\n",
    "    x = tf.keras.layers.Conv2D(\n",
    "        filters, 3, padding='same', activation='relu')(x)\n",
    "    x = tf.keras.layers.Conv2D(\n",
    "        filters, 3, padding='same', activation='relu')(x) + x\n",
    "    x = tf.keras.layers.Conv2D(\n",
    "        filters, 3, padding='same', activation='relu')(x) + x\n",
    "\n",
    "    return x\n",
    "\n",
    "\n",
    "def get_standard_dqn():\n",
    "    tf.keras.backend.clear_session()\n",
    "\n",
    "    inputs = tf.keras.layers.Input(CNN_SHAPE + (3,))\n",
    "\n",
    "    x = triple_conv_block_no_batchnorm(inputs, 16)\n",
    "    x = tf.keras.layers.MaxPool2D(2)(x)\n",
    "    x = triple_conv_block_no_batchnorm(x, 32)\n",
    "    x = tf.keras.layers.MaxPool2D(2)(x)\n",
    "    x = triple_conv_block_no_batchnorm(x, 64)\n",
    "    x = tf.keras.layers.GlobalAveragePooling2D()(x)\n",
    "    x = tf.keras.layers.Dense(512, \"relu\")(x)\n",
    "    outputs = tf.keras.layers.Dense(4, \"linear\")(x)\n",
    "\n",
    "    model = tf.keras.Model(inputs, outputs, name=\"standard_dqn\")\n",
    "\n",
    "    return model\n",
    "\n",
    "\n",
    "def get_small_dqn():\n",
    "    tf.keras.backend.clear_session()\n",
    "\n",
    "    inputs = tf.keras.layers.Input(CNN_SHAPE + (3,))\n",
    "    x = triple_conv_block_no_batchnorm(inputs, 10)\n",
    "    x = tf.keras.layers.MaxPool2D(2)(x)\n",
    "    x = triple_conv_block_no_batchnorm(x, 20)\n",
    "    x = tf.keras.layers.GlobalAveragePooling2D()(x)\n",
    "    x = tf.keras.layers.Dense(512, \"relu\")(x)\n",
    "    outputs = tf.keras.layers.Dense(4, \"linear\")(x)\n",
    "\n",
    "    model = tf.keras.Model(inputs, outputs, name=\"standard_dqn\")\n",
    "\n",
    "    return model\n",
    "\n",
    "\n",
    "@tf.function\n",
    "def sample_trajectory(dqn, state, epsilon=0.2):\n",
    "\n",
    "    n_par = tf.shape(state)[0]\n",
    "\n",
    "    mask = tf.random.uniform((n_par,), 0, 1, tf.float32) > epsilon\n",
    "\n",
    "    predictions = dqn(state, training=False)\n",
    "    max_actions = tf.math.argmax(predictions, axis=-1)\n",
    "\n",
    "    random_choices = tf.random.uniform(\n",
    "        shape=[n_par], minval=0, maxval=4, dtype=tf.int64)\n",
    "\n",
    "    return tf.where(mask, max_actions, random_choices), tf.reduce_max(predictions, -1)\n",
    "\n",
    "\n",
    "@tf.function\n",
    "def preprocess_all(observation, next_observation, action, reward, terminated):\n",
    "\n",
    "    observation = tf.cast(observation, tf.float32)/255\n",
    "    observation = tf.image.resize(observation, CNN_SHAPE)\n",
    "\n",
    "    next_observation = tf.cast(next_observation, tf.float32)/255\n",
    "    next_observation = tf.image.resize(next_observation, CNN_SHAPE)\n",
    "\n",
    "    action = tf.cast(action, tf.int64)\n",
    "    reward = tf.cast(reward, tf.float32)\n",
    "    terminated = tf.cast(terminated, tf.bool)\n",
    "\n",
    "    return observation, next_observation, action, reward, terminated\n",
    "\n",
    "\n",
    "@tf.function\n",
    "def preprocess_obersvation(observation):\n",
    "\n",
    "    observation = tf.cast(observation, tf.float32)/255\n",
    "\n",
    "    return tf.image.resize(observation, CNN_SHAPE)\n",
    "\n",
    "\n",
    "@tf.function\n",
    "def polyak_averaging(Q_target, Q_dqn, tau):\n",
    "    \"\"\"\n",
    "\n",
    "    Args:\n",
    "        Q_target (_type_): _description_\n",
    "        Q_dqn (_type_): _description_\n",
    "        tau (_type_): _description_\n",
    "    \"\"\"\n",
    "\n",
    "    for old, new in zip(Q_target.trainable_variables, Q_dqn.trainable_variables):\n",
    "        update = old * (1 - tau) + new * tau\n",
    "        old.assign(update)\n",
    "\n",
    "\n",
    "@tf.function\n",
    "def update_q_network(data, dqn, q_target, optimizer, gamma):\n",
    "\n",
    "    state, next_state, action, reward, terminated = data\n",
    "\n",
    "    s_prime_values = q_target(next_state, training=False)\n",
    "    s_prime_values = tf.reduce_max(s_prime_values, -1)\n",
    "    mask = 1 - tf.cast(terminated, tf.float32)\n",
    "\n",
    "    labels = reward + gamma * mask * s_prime_values\n",
    "\n",
    "    with tf.GradientTape() as tape:\n",
    "\n",
    "        predictions = dqn(state, training=True)\n",
    "        action_values = tf.gather(predictions, action, batch_dims=1)\n",
    "\n",
    "        loss = LOSS(action_values, labels)\n",
    "\n",
    "    gradients = tape.gradient(loss, dqn.trainable_variables)\n",
    "    optimizer.apply_gradients(zip(gradients, dqn.trainable_variables))\n",
    "    return loss\n",
    "\n",
    "\n",
    "class ENV_SAMPLER:\n",
    "    \"\"\"\n",
    "    Class for sampling environment data using a DQN model.\n",
    "    \"\"\"\n",
    "\n",
    "    def __init__(self, dqn, n_multi_envs) -> None:\n",
    "        \"\"\"\n",
    "        Initialize the ENV_SAMPLER instance.\n",
    "\n",
    "        Args:\n",
    "            env: The environment to sample from.\n",
    "            dqn: The DQN model for action selection.\n",
    "            n_multi_envs: The number of parallel environments.\n",
    "            preprocess_observation: Function to preprocess observations.\n",
    "        \"\"\"\n",
    "        self.env = gym.vector.make('ALE/Breakout-v5', num_envs=n_multi_envs)\n",
    "        self.current_state = self.env.reset()[0]\n",
    "        self.dqn = dqn\n",
    "        self.n_multi_envs = n_multi_envs\n",
    "\n",
    "    def reset_env(self):\n",
    "        \"\"\"\n",
    "        Reset the environment to the initial state.\n",
    "        \"\"\"\n",
    "        self.current_state = self.env.reset()[0]\n",
    "\n",
    "    def sample(self, n_samples, epsilon=0.2):\n",
    "        \"\"\"\n",
    "        Sample environment data.\n",
    "\n",
    "        Args:\n",
    "            n_samples: The number of samples to generate.\n",
    "            epsilon: The exploration factor for action selection (default: 0.2).\n",
    "\n",
    "        Returns:\n",
    "            samples: List of sampled data tuples (current_state, next_state, action, reward, terminated).\n",
    "        \"\"\"\n",
    "        samples = []\n",
    "\n",
    "        n_steps = np.ceil(n_samples / self.n_multi_envs).astype(int)\n",
    "\n",
    "        for _ in range(n_steps):\n",
    "            oberservation_as_tensor = preprocess_obersvation(\n",
    "                self.current_state)\n",
    "\n",
    "            action, q_vals = map(lambda x: x.numpy(), sample_trajectory(\n",
    "                self.dqn, oberservation_as_tensor, epsilon))\n",
    "\n",
    "            observation, reward, terminated, truncated, info = self.env.step(\n",
    "                action)\n",
    "\n",
    "            for i in range(self.n_multi_envs):\n",
    "                samples.append((self.current_state[i],\n",
    "                                observation[i],\n",
    "                                action[i],\n",
    "                                reward[i],\n",
    "                                terminated[i]))\n",
    "\n",
    "            self.current_state = observation\n",
    "\n",
    "        return samples[:n_samples]\n",
    "\n",
    "    def measure_model_perforamnce(self, gamma: float, target_q):\n",
    "\n",
    "        self.reset_env()\n",
    "\n",
    "        rewards = np.zeros(self.n_multi_envs)\n",
    "        terminated_at = []\n",
    "        q_values = []\n",
    "        target_q_values = []\n",
    "\n",
    "        allready_terminated = np.zeros(self.n_multi_envs, np.bool)\n",
    "\n",
    "        steps = 0\n",
    "\n",
    "        while True:\n",
    "            \n",
    "\n",
    "            oberservation_as_tensor = preprocess_obersvation(\n",
    "                self.current_state)\n",
    "\n",
    "            action, q_vals = map(lambda x: x.numpy(), sample_trajectory(\n",
    "                self.dqn, oberservation_as_tensor, EXPLORATION_RATE))\n",
    "\n",
    "            target_vals = tf.reduce_max(target_q(oberservation_as_tensor), -1)\n",
    "\n",
    "            observation, reward, terminated, truncated, info = self.env.step(\n",
    "                action)\n",
    "\n",
    "            self.current_state = observation\n",
    "\n",
    "            rewards += (gamma ** steps) * reward * (1 - allready_terminated)\n",
    "\n",
    "\n",
    "            allready_terminated = np.logical_or(\n",
    "                allready_terminated, terminated)\n",
    "\n",
    "            for t in terminated:\n",
    "\n",
    "                if t:\n",
    "                    terminated_at.append(steps)\n",
    "\n",
    "            q_values.extend(q_vals.tolist())\n",
    "            target_q_values.extend(target_vals.numpy().tolist())\n",
    "\n",
    "            steps += 1\n",
    "\n",
    "            if allready_terminated.all():\n",
    "\n",
    "                break\n",
    "\n",
    "        average_q_val = np.mean(q_values)\n",
    "        average_target_q_val = np.mean(target_q_values)\n",
    "\n",
    "        l2_diff = np.array(q_values) - np.array(target_q_values)\n",
    "        l2_diff = np.sqrt(np.square(l2_diff).mean())\n",
    "\n",
    "        average_rewards = np.mean(rewards)\n",
    "        average_termination = np.mean(terminated_at)\n",
    "\n",
    "        return average_rewards, average_termination, average_q_val, average_target_q_val, l2_diff\n",
    "\n",
    "\n",
    "class ReplayBuffer:\n",
    "    \"\"\"\n",
    "    Class for managing a replay buffer for reinforcement learning.\n",
    "    \"\"\"\n",
    "\n",
    "    def __init__(self, ) -> None:\n",
    "        \"\"\"\n",
    "        Initialize the ReplayBuffer instance.\n",
    "\n",
    "        Args:\n",
    "            preprocess_func: Function to preprocess examples.\n",
    "        \"\"\"\n",
    "        self.saved_trajectories = []\n",
    "\n",
    "    def add_new_trajectory(self, trajectory):\n",
    "        \"\"\"\n",
    "        Add a new trajectory to the replay buffer.\n",
    "\n",
    "        Args:\n",
    "            trajectory: List of examples representing a trajectory.\n",
    "        \"\"\"\n",
    "        self.saved_trajectories.append(trajectory)\n",
    "\n",
    "    def drop_first_trajectory(self):\n",
    "        \"\"\"\n",
    "        Remove the oldest trajectory from the replay buffer.\n",
    "        \"\"\"\n",
    "        to_delete = self.saved_trajectories.pop(0)\n",
    "        del to_delete\n",
    "\n",
    "    def sample_singe_example(\n",
    "        self,\n",
    "    ):\n",
    "        \"\"\"\n",
    "        Sample a single example from the replay buffer.\n",
    "\n",
    "        Args:\n",
    "            melt_stop_criteria: Boolean flag indicating whether to consider stop criteria (default: False).\n",
    "\n",
    "        Returns:\n",
    "            example: A single example from a randomly chosen trajectory.\n",
    "        \"\"\"\n",
    "        trajectory = random.choice(self.saved_trajectories)\n",
    "        example = random.choice(trajectory)\n",
    "\n",
    "        states, next_states, actions, rewards, terminations, = example\n",
    "\n",
    "        return states, next_states, actions, rewards, terminations\n",
    "\n",
    "    def sample_n_examples(self, n_examples: int):\n",
    "        \"\"\"\n",
    "        Sample multiple examples from the replay buffer.\n",
    "\n",
    "        Args:\n",
    "            n_examples: The number of examples to sample.\n",
    "\n",
    "        Returns:\n",
    "            states, next_states, actions, rewards, stop_criteria: Arrays of sampled examples.\n",
    "        \"\"\"\n",
    "        trajectories = [self.sample_singe_example() for _ in range(n_examples)]\n",
    "\n",
    "        states, next_states, actions, rewards, stop_criteria = map(\n",
    "            np.array, zip(*trajectories)\n",
    "        )\n",
    "\n",
    "        return states, next_states, actions, rewards, stop_criteria\n",
    "\n",
    "    def generate_tf_dataset(self, n_batches, batchsize):\n",
    "        \"\"\"\n",
    "        Generate a TensorFlow dataset from the replay buffer.\n",
    "\n",
    "        Args:\n",
    "            n_batches: The number of batches to generate.\n",
    "            batchsize: The size of each batch.\n",
    "\n",
    "        Returns:\n",
    "            ds: TensorFlow dataset containing the preprocessed examples.\n",
    "        \"\"\"\n",
    "        n_steps = n_batches * batchsize\n",
    "\n",
    "        ds = self.sample_n_examples(n_steps)\n",
    "        ds = tf.data.Dataset.from_tensor_slices(ds)\n",
    "        ds = ds.map(preprocess_all, tf.data.AUTOTUNE)\n",
    "        ds = ds.batch(batchsize)\n",
    "\n",
    "        return ds"
   ]
  },
  {
   "cell_type": "code",
   "execution_count": 4,
   "metadata": {},
   "outputs": [
    {
     "name": "stderr",
     "output_type": "stream",
     "text": [
      "2023-06-14 12:33:21.856434: I tensorflow/stream_executor/cuda/cuda_gpu_executor.cc:936] successful NUMA node read from SysFS had negative value (-1), but there must be at least one NUMA node, so returning NUMA node zero\n",
      "2023-06-14 12:33:21.861007: I tensorflow/stream_executor/cuda/cuda_gpu_executor.cc:936] successful NUMA node read from SysFS had negative value (-1), but there must be at least one NUMA node, so returning NUMA node zero\n",
      "2023-06-14 12:33:21.861171: I tensorflow/stream_executor/cuda/cuda_gpu_executor.cc:936] successful NUMA node read from SysFS had negative value (-1), but there must be at least one NUMA node, so returning NUMA node zero\n",
      "2023-06-14 12:33:21.861446: I tensorflow/core/platform/cpu_feature_guard.cc:151] This TensorFlow binary is optimized with oneAPI Deep Neural Network Library (oneDNN) to use the following CPU instructions in performance-critical operations:  AVX2 FMA\n",
      "To enable them in other operations, rebuild TensorFlow with the appropriate compiler flags.\n",
      "2023-06-14 12:33:21.861840: I tensorflow/stream_executor/cuda/cuda_gpu_executor.cc:936] successful NUMA node read from SysFS had negative value (-1), but there must be at least one NUMA node, so returning NUMA node zero\n",
      "2023-06-14 12:33:21.861968: I tensorflow/stream_executor/cuda/cuda_gpu_executor.cc:936] successful NUMA node read from SysFS had negative value (-1), but there must be at least one NUMA node, so returning NUMA node zero\n",
      "2023-06-14 12:33:21.862080: I tensorflow/stream_executor/cuda/cuda_gpu_executor.cc:936] successful NUMA node read from SysFS had negative value (-1), but there must be at least one NUMA node, so returning NUMA node zero\n",
      "2023-06-14 12:33:22.269402: I tensorflow/stream_executor/cuda/cuda_gpu_executor.cc:936] successful NUMA node read from SysFS had negative value (-1), but there must be at least one NUMA node, so returning NUMA node zero\n",
      "2023-06-14 12:33:22.269583: I tensorflow/stream_executor/cuda/cuda_gpu_executor.cc:936] successful NUMA node read from SysFS had negative value (-1), but there must be at least one NUMA node, so returning NUMA node zero\n",
      "2023-06-14 12:33:22.269705: I tensorflow/stream_executor/cuda/cuda_gpu_executor.cc:936] successful NUMA node read from SysFS had negative value (-1), but there must be at least one NUMA node, so returning NUMA node zero\n",
      "2023-06-14 12:33:22.269812: I tensorflow/core/common_runtime/gpu/gpu_device.cc:1525] Created device /job:localhost/replica:0/task:0/device:GPU:0 with 6826 MB memory:  -> device: 0, name: NVIDIA GeForce GTX 1070, pci bus id: 0000:01:00.0, compute capability: 6.1\n",
      "A.L.E: Arcade Learning Environment (version 0.8.1+53f58b7)\n",
      "[Powered by Stella]\n",
      "Fill Buffer initally:   0%|          | 0/100 [00:00<?, ?it/s]2023-06-14 12:33:23.468154: I tensorflow/stream_executor/cuda/cuda_dnn.cc:368] Loaded cuDNN version 8100\n",
      "2023-06-14 12:33:23.685098: I tensorflow/core/platform/default/subprocess.cc:304] Start cannot spawn child process: No such file or directory\n",
      "2023-06-14 12:33:23.685726: I tensorflow/core/platform/default/subprocess.cc:304] Start cannot spawn child process: No such file or directory\n",
      "2023-06-14 12:33:23.685762: W tensorflow/stream_executor/gpu/asm_compiler.cc:80] Couldn't get ptxas version string: INTERNAL: Couldn't invoke ptxas --version\n",
      "2023-06-14 12:33:23.686398: I tensorflow/core/platform/default/subprocess.cc:304] Start cannot spawn child process: No such file or directory\n",
      "2023-06-14 12:33:23.686469: W tensorflow/stream_executor/gpu/redzone_allocator.cc:314] INTERNAL: Failed to launch ptxas\n",
      "Relying on driver to perform ptx compilation. \n",
      "Modify $PATH to customize ptxas location.\n",
      "This message will be only logged once.\n",
      "Fill Buffer initally: 100%|██████████| 100/100 [00:33<00:00,  2.98it/s]\n"
     ]
    }
   ],
   "source": [
    "optimizer = tf.keras.optimizers.Adam(learning_rate=0.00025, clipnorm=1.0)\n",
    "\n",
    "q_net = get_standard_dqn()\n",
    "\n",
    "target_net = tf.keras.models.clone_model(q_net)\n",
    "\n",
    "env_sampler = ENV_SAMPLER(q_net, N_MULTI_ENVS)\n",
    "replay_buffer = ReplayBuffer()\n",
    "\n",
    "checkpoint = tf.train.Checkpoint(q_net = q_net, target_net = target_net)\n",
    "\n",
    "writer = tf.summary.create_file_writer(TB_LOGS)\n",
    "\n",
    "# restore\n",
    "# checkpoint.restore(TMP_SAVE_TO_PATH)\n",
    "\n",
    "for _ in tqdm.tqdm(range(N_SAMPLE_SETS), desc = \"Fill Buffer initally\"):\n",
    "\n",
    "    new_samples = env_sampler.sample(N_NEW_SAMPLES, epsilon = 1)\n",
    "    replay_buffer.add_new_trajectory(new_samples)"
   ]
  },
  {
   "cell_type": "code",
   "execution_count": 5,
   "metadata": {},
   "outputs": [
    {
     "name": "stdout",
     "output_type": "stream",
     "text": [
      "Logging Model Metrics\n"
     ]
    },
    {
     "name": "stderr",
     "output_type": "stream",
     "text": [
      "/tmp/ipykernel_14150/3670605584.py:197: DeprecationWarning: `np.bool` is a deprecated alias for the builtin `bool`. To silence this warning, use `bool` by itself. Doing this will not modify any behavior and is safe. If you specifically wanted the numpy scalar type, use `np.bool_` here.\n",
      "Deprecated in NumPy 1.20; for more details and guidance: https://numpy.org/devdocs/release/1.20.0-notes.html#deprecations\n",
      "  allready_terminated = np.zeros(self.n_multi_envs, np.bool)\n"
     ]
    },
    {
     "name": "stdout",
     "output_type": "stream",
     "text": [
      "average_rewards           0.194513\n",
      "average_termination     172.000000\n",
      "average_q_val             0.023442\n",
      "average_target_q_val      0.010534\n",
      "l2_diff                   0.012907\n",
      "average_loss              0.003888\n",
      "dtype: float64\n",
      "Saving Checkpoint\n",
      "Logging Model Metrics\n"
     ]
    },
    {
     "name": "stderr",
     "output_type": "stream",
     "text": [
      "/tmp/ipykernel_14150/3670605584.py:197: DeprecationWarning: `np.bool` is a deprecated alias for the builtin `bool`. To silence this warning, use `bool` by itself. Doing this will not modify any behavior and is safe. If you specifically wanted the numpy scalar type, use `np.bool_` here.\n",
      "Deprecated in NumPy 1.20; for more details and guidance: https://numpy.org/devdocs/release/1.20.0-notes.html#deprecations\n",
      "  allready_terminated = np.zeros(self.n_multi_envs, np.bool)\n"
     ]
    },
    {
     "name": "stdout",
     "output_type": "stream",
     "text": [
      "average_rewards           0.414502\n",
      "average_termination     340.750000\n",
      "average_q_val             0.028808\n",
      "average_target_q_val      0.019719\n",
      "l2_diff                   0.081521\n",
      "average_loss              0.000336\n",
      "dtype: float64\n",
      "Saving Checkpoint\n",
      "Logging Model Metrics\n"
     ]
    },
    {
     "name": "stderr",
     "output_type": "stream",
     "text": [
      "/tmp/ipykernel_14150/3670605584.py:197: DeprecationWarning: `np.bool` is a deprecated alias for the builtin `bool`. To silence this warning, use `bool` by itself. Doing this will not modify any behavior and is safe. If you specifically wanted the numpy scalar type, use `np.bool_` here.\n",
      "Deprecated in NumPy 1.20; for more details and guidance: https://numpy.org/devdocs/release/1.20.0-notes.html#deprecations\n",
      "  allready_terminated = np.zeros(self.n_multi_envs, np.bool)\n"
     ]
    },
    {
     "name": "stdout",
     "output_type": "stream",
     "text": [
      "average_rewards           0.163704\n",
      "average_termination     163.750000\n",
      "average_q_val             0.037773\n",
      "average_target_q_val      0.026023\n",
      "l2_diff                   0.090902\n",
      "average_loss              0.002826\n",
      "dtype: float64\n",
      "Logging Model Metrics\n"
     ]
    },
    {
     "name": "stderr",
     "output_type": "stream",
     "text": [
      "/tmp/ipykernel_14150/3670605584.py:197: DeprecationWarning: `np.bool` is a deprecated alias for the builtin `bool`. To silence this warning, use `bool` by itself. Doing this will not modify any behavior and is safe. If you specifically wanted the numpy scalar type, use `np.bool_` here.\n",
      "Deprecated in NumPy 1.20; for more details and guidance: https://numpy.org/devdocs/release/1.20.0-notes.html#deprecations\n",
      "  allready_terminated = np.zeros(self.n_multi_envs, np.bool)\n"
     ]
    },
    {
     "name": "stdout",
     "output_type": "stream",
     "text": [
      "average_rewards           0.018561\n",
      "average_termination     237.500000\n",
      "average_q_val             0.040974\n",
      "average_target_q_val      0.030144\n",
      "l2_diff                   0.033221\n",
      "average_loss              0.000997\n",
      "dtype: float64\n",
      "Saving Checkpoint\n",
      "Logging Model Metrics\n"
     ]
    },
    {
     "name": "stderr",
     "output_type": "stream",
     "text": [
      "/tmp/ipykernel_14150/3670605584.py:197: DeprecationWarning: `np.bool` is a deprecated alias for the builtin `bool`. To silence this warning, use `bool` by itself. Doing this will not modify any behavior and is safe. If you specifically wanted the numpy scalar type, use `np.bool_` here.\n",
      "Deprecated in NumPy 1.20; for more details and guidance: https://numpy.org/devdocs/release/1.20.0-notes.html#deprecations\n",
      "  allready_terminated = np.zeros(self.n_multi_envs, np.bool)\n"
     ]
    },
    {
     "name": "stdout",
     "output_type": "stream",
     "text": [
      "average_rewards           0.245406\n",
      "average_termination     210.916667\n",
      "average_q_val             0.050226\n",
      "average_target_q_val      0.044991\n",
      "l2_diff                   0.034891\n",
      "average_loss              0.001967\n",
      "dtype: float64\n",
      "Saving Checkpoint\n",
      "Logging Model Metrics\n"
     ]
    },
    {
     "name": "stderr",
     "output_type": "stream",
     "text": [
      "/tmp/ipykernel_14150/3670605584.py:197: DeprecationWarning: `np.bool` is a deprecated alias for the builtin `bool`. To silence this warning, use `bool` by itself. Doing this will not modify any behavior and is safe. If you specifically wanted the numpy scalar type, use `np.bool_` here.\n",
      "Deprecated in NumPy 1.20; for more details and guidance: https://numpy.org/devdocs/release/1.20.0-notes.html#deprecations\n",
      "  allready_terminated = np.zeros(self.n_multi_envs, np.bool)\n"
     ]
    },
    {
     "name": "stdout",
     "output_type": "stream",
     "text": [
      "average_rewards           0.516666\n",
      "average_termination     336.250000\n",
      "average_q_val             0.104417\n",
      "average_target_q_val      0.076443\n",
      "l2_diff                   0.103081\n",
      "average_loss              0.001483\n",
      "dtype: float64\n",
      "Saving Checkpoint\n",
      "Logging Model Metrics\n"
     ]
    },
    {
     "name": "stderr",
     "output_type": "stream",
     "text": [
      "/tmp/ipykernel_14150/3670605584.py:197: DeprecationWarning: `np.bool` is a deprecated alias for the builtin `bool`. To silence this warning, use `bool` by itself. Doing this will not modify any behavior and is safe. If you specifically wanted the numpy scalar type, use `np.bool_` here.\n",
      "Deprecated in NumPy 1.20; for more details and guidance: https://numpy.org/devdocs/release/1.20.0-notes.html#deprecations\n",
      "  allready_terminated = np.zeros(self.n_multi_envs, np.bool)\n"
     ]
    },
    {
     "name": "stdout",
     "output_type": "stream",
     "text": [
      "average_rewards           0.123424\n",
      "average_termination     273.000000\n",
      "average_q_val             0.044767\n",
      "average_target_q_val      0.037927\n",
      "l2_diff                   0.040845\n",
      "average_loss              0.001759\n",
      "dtype: float64\n",
      "Logging Model Metrics\n"
     ]
    },
    {
     "name": "stderr",
     "output_type": "stream",
     "text": [
      "/tmp/ipykernel_14150/3670605584.py:197: DeprecationWarning: `np.bool` is a deprecated alias for the builtin `bool`. To silence this warning, use `bool` by itself. Doing this will not modify any behavior and is safe. If you specifically wanted the numpy scalar type, use `np.bool_` here.\n",
      "Deprecated in NumPy 1.20; for more details and guidance: https://numpy.org/devdocs/release/1.20.0-notes.html#deprecations\n",
      "  allready_terminated = np.zeros(self.n_multi_envs, np.bool)\n"
     ]
    },
    {
     "name": "stdout",
     "output_type": "stream",
     "text": [
      "average_rewards           0.077794\n",
      "average_termination     140.875000\n",
      "average_q_val             0.060137\n",
      "average_target_q_val      0.045890\n",
      "l2_diff                   0.031729\n",
      "average_loss              0.000954\n",
      "dtype: float64\n",
      "Saving Checkpoint\n",
      "Logging Model Metrics\n"
     ]
    },
    {
     "name": "stderr",
     "output_type": "stream",
     "text": [
      "/tmp/ipykernel_14150/3670605584.py:197: DeprecationWarning: `np.bool` is a deprecated alias for the builtin `bool`. To silence this warning, use `bool` by itself. Doing this will not modify any behavior and is safe. If you specifically wanted the numpy scalar type, use `np.bool_` here.\n",
      "Deprecated in NumPy 1.20; for more details and guidance: https://numpy.org/devdocs/release/1.20.0-notes.html#deprecations\n",
      "  allready_terminated = np.zeros(self.n_multi_envs, np.bool)\n"
     ]
    },
    {
     "name": "stdout",
     "output_type": "stream",
     "text": [
      "average_rewards           0.065959\n",
      "average_termination     143.750000\n",
      "average_q_val             0.067474\n",
      "average_target_q_val      0.055186\n",
      "l2_diff                   0.047318\n",
      "average_loss              0.001211\n",
      "dtype: float64\n",
      "Saving Checkpoint\n",
      "Logging Model Metrics\n"
     ]
    },
    {
     "name": "stderr",
     "output_type": "stream",
     "text": [
      "/tmp/ipykernel_14150/3670605584.py:197: DeprecationWarning: `np.bool` is a deprecated alias for the builtin `bool`. To silence this warning, use `bool` by itself. Doing this will not modify any behavior and is safe. If you specifically wanted the numpy scalar type, use `np.bool_` here.\n",
      "Deprecated in NumPy 1.20; for more details and guidance: https://numpy.org/devdocs/release/1.20.0-notes.html#deprecations\n",
      "  allready_terminated = np.zeros(self.n_multi_envs, np.bool)\n"
     ]
    },
    {
     "name": "stdout",
     "output_type": "stream",
     "text": [
      "average_rewards           0.064485\n",
      "average_termination     225.500000\n",
      "average_q_val             0.036293\n",
      "average_target_q_val      0.032417\n",
      "l2_diff                   0.021680\n",
      "average_loss              0.001357\n",
      "dtype: float64\n",
      "Saving Checkpoint\n",
      "Logging Model Metrics\n"
     ]
    },
    {
     "name": "stderr",
     "output_type": "stream",
     "text": [
      "/tmp/ipykernel_14150/3670605584.py:197: DeprecationWarning: `np.bool` is a deprecated alias for the builtin `bool`. To silence this warning, use `bool` by itself. Doing this will not modify any behavior and is safe. If you specifically wanted the numpy scalar type, use `np.bool_` here.\n",
      "Deprecated in NumPy 1.20; for more details and guidance: https://numpy.org/devdocs/release/1.20.0-notes.html#deprecations\n",
      "  allready_terminated = np.zeros(self.n_multi_envs, np.bool)\n"
     ]
    },
    {
     "name": "stdout",
     "output_type": "stream",
     "text": [
      "average_rewards           0.089352\n",
      "average_termination     147.125000\n",
      "average_q_val             0.059297\n",
      "average_target_q_val      0.053459\n",
      "l2_diff                   0.035351\n",
      "average_loss              0.001442\n",
      "dtype: float64\n",
      "Logging Model Metrics\n"
     ]
    },
    {
     "name": "stderr",
     "output_type": "stream",
     "text": [
      "/tmp/ipykernel_14150/3670605584.py:197: DeprecationWarning: `np.bool` is a deprecated alias for the builtin `bool`. To silence this warning, use `bool` by itself. Doing this will not modify any behavior and is safe. If you specifically wanted the numpy scalar type, use `np.bool_` here.\n",
      "Deprecated in NumPy 1.20; for more details and guidance: https://numpy.org/devdocs/release/1.20.0-notes.html#deprecations\n",
      "  allready_terminated = np.zeros(self.n_multi_envs, np.bool)\n"
     ]
    },
    {
     "name": "stdout",
     "output_type": "stream",
     "text": [
      "average_rewards           0.017974\n",
      "average_termination     292.375000\n",
      "average_q_val             0.035632\n",
      "average_target_q_val      0.023619\n",
      "l2_diff                   0.018496\n",
      "average_loss              0.001916\n",
      "dtype: float64\n",
      "Saving Checkpoint\n",
      "Logging Model Metrics\n"
     ]
    },
    {
     "name": "stderr",
     "output_type": "stream",
     "text": [
      "/tmp/ipykernel_14150/3670605584.py:197: DeprecationWarning: `np.bool` is a deprecated alias for the builtin `bool`. To silence this warning, use `bool` by itself. Doing this will not modify any behavior and is safe. If you specifically wanted the numpy scalar type, use `np.bool_` here.\n",
      "Deprecated in NumPy 1.20; for more details and guidance: https://numpy.org/devdocs/release/1.20.0-notes.html#deprecations\n",
      "  allready_terminated = np.zeros(self.n_multi_envs, np.bool)\n"
     ]
    },
    {
     "name": "stdout",
     "output_type": "stream",
     "text": [
      "average_rewards           0.495233\n",
      "average_termination     215.625000\n",
      "average_q_val             0.104473\n",
      "average_target_q_val      0.095992\n",
      "l2_diff                   0.023791\n",
      "average_loss              0.002015\n",
      "dtype: float64\n",
      "Saving Checkpoint\n",
      "Logging Model Metrics\n"
     ]
    },
    {
     "name": "stderr",
     "output_type": "stream",
     "text": [
      "/tmp/ipykernel_14150/3670605584.py:197: DeprecationWarning: `np.bool` is a deprecated alias for the builtin `bool`. To silence this warning, use `bool` by itself. Doing this will not modify any behavior and is safe. If you specifically wanted the numpy scalar type, use `np.bool_` here.\n",
      "Deprecated in NumPy 1.20; for more details and guidance: https://numpy.org/devdocs/release/1.20.0-notes.html#deprecations\n",
      "  allready_terminated = np.zeros(self.n_multi_envs, np.bool)\n"
     ]
    },
    {
     "name": "stdout",
     "output_type": "stream",
     "text": [
      "average_rewards           0.104187\n",
      "average_termination     366.125000\n",
      "average_q_val             0.093313\n",
      "average_target_q_val      0.078430\n",
      "l2_diff                   0.033365\n",
      "average_loss              0.001655\n",
      "dtype: float64\n",
      "Saving Checkpoint\n",
      "Logging Model Metrics\n"
     ]
    },
    {
     "name": "stderr",
     "output_type": "stream",
     "text": [
      "/tmp/ipykernel_14150/3670605584.py:197: DeprecationWarning: `np.bool` is a deprecated alias for the builtin `bool`. To silence this warning, use `bool` by itself. Doing this will not modify any behavior and is safe. If you specifically wanted the numpy scalar type, use `np.bool_` here.\n",
      "Deprecated in NumPy 1.20; for more details and guidance: https://numpy.org/devdocs/release/1.20.0-notes.html#deprecations\n",
      "  allready_terminated = np.zeros(self.n_multi_envs, np.bool)\n"
     ]
    },
    {
     "name": "stdout",
     "output_type": "stream",
     "text": [
      "average_rewards           0.017863\n",
      "average_termination     275.625000\n",
      "average_q_val             0.049643\n",
      "average_target_q_val      0.039693\n",
      "l2_diff                   0.025047\n",
      "average_loss              0.002146\n",
      "dtype: float64\n",
      "Logging Model Metrics\n"
     ]
    },
    {
     "name": "stderr",
     "output_type": "stream",
     "text": [
      "/tmp/ipykernel_14150/3670605584.py:197: DeprecationWarning: `np.bool` is a deprecated alias for the builtin `bool`. To silence this warning, use `bool` by itself. Doing this will not modify any behavior and is safe. If you specifically wanted the numpy scalar type, use `np.bool_` here.\n",
      "Deprecated in NumPy 1.20; for more details and guidance: https://numpy.org/devdocs/release/1.20.0-notes.html#deprecations\n",
      "  allready_terminated = np.zeros(self.n_multi_envs, np.bool)\n"
     ]
    },
    {
     "name": "stdout",
     "output_type": "stream",
     "text": [
      "average_rewards           0.050805\n",
      "average_termination     324.000000\n",
      "average_q_val             0.072946\n",
      "average_target_q_val      0.058825\n",
      "l2_diff                   0.025929\n",
      "average_loss              0.001950\n",
      "dtype: float64\n",
      "Saving Checkpoint\n",
      "Logging Model Metrics\n"
     ]
    },
    {
     "name": "stderr",
     "output_type": "stream",
     "text": [
      "/tmp/ipykernel_14150/3670605584.py:197: DeprecationWarning: `np.bool` is a deprecated alias for the builtin `bool`. To silence this warning, use `bool` by itself. Doing this will not modify any behavior and is safe. If you specifically wanted the numpy scalar type, use `np.bool_` here.\n",
      "Deprecated in NumPy 1.20; for more details and guidance: https://numpy.org/devdocs/release/1.20.0-notes.html#deprecations\n",
      "  allready_terminated = np.zeros(self.n_multi_envs, np.bool)\n"
     ]
    },
    {
     "name": "stdout",
     "output_type": "stream",
     "text": [
      "average_rewards           0.202602\n",
      "average_termination     161.000000\n",
      "average_q_val             0.132635\n",
      "average_target_q_val      0.111504\n",
      "l2_diff                   0.034660\n",
      "average_loss              0.001735\n",
      "dtype: float64\n",
      "Saving Checkpoint\n",
      "Logging Model Metrics\n"
     ]
    },
    {
     "name": "stderr",
     "output_type": "stream",
     "text": [
      "/tmp/ipykernel_14150/3670605584.py:197: DeprecationWarning: `np.bool` is a deprecated alias for the builtin `bool`. To silence this warning, use `bool` by itself. Doing this will not modify any behavior and is safe. If you specifically wanted the numpy scalar type, use `np.bool_` here.\n",
      "Deprecated in NumPy 1.20; for more details and guidance: https://numpy.org/devdocs/release/1.20.0-notes.html#deprecations\n",
      "  allready_terminated = np.zeros(self.n_multi_envs, np.bool)\n"
     ]
    },
    {
     "name": "stdout",
     "output_type": "stream",
     "text": [
      "average_rewards           0.082017\n",
      "average_termination     382.625000\n",
      "average_q_val             0.059273\n",
      "average_target_q_val      0.063946\n",
      "l2_diff                   0.020368\n",
      "average_loss              0.001175\n",
      "dtype: float64\n",
      "Saving Checkpoint\n",
      "Logging Model Metrics\n"
     ]
    },
    {
     "name": "stderr",
     "output_type": "stream",
     "text": [
      "/tmp/ipykernel_14150/3670605584.py:197: DeprecationWarning: `np.bool` is a deprecated alias for the builtin `bool`. To silence this warning, use `bool` by itself. Doing this will not modify any behavior and is safe. If you specifically wanted the numpy scalar type, use `np.bool_` here.\n",
      "Deprecated in NumPy 1.20; for more details and guidance: https://numpy.org/devdocs/release/1.20.0-notes.html#deprecations\n",
      "  allready_terminated = np.zeros(self.n_multi_envs, np.bool)\n"
     ]
    },
    {
     "name": "stdout",
     "output_type": "stream",
     "text": [
      "average_rewards           0.045750\n",
      "average_termination     375.250000\n",
      "average_q_val             0.124022\n",
      "average_target_q_val      0.118900\n",
      "l2_diff                   0.057027\n",
      "average_loss              0.001469\n",
      "dtype: float64\n",
      "Logging Model Metrics\n"
     ]
    },
    {
     "name": "stderr",
     "output_type": "stream",
     "text": [
      "/tmp/ipykernel_14150/3670605584.py:197: DeprecationWarning: `np.bool` is a deprecated alias for the builtin `bool`. To silence this warning, use `bool` by itself. Doing this will not modify any behavior and is safe. If you specifically wanted the numpy scalar type, use `np.bool_` here.\n",
      "Deprecated in NumPy 1.20; for more details and guidance: https://numpy.org/devdocs/release/1.20.0-notes.html#deprecations\n",
      "  allready_terminated = np.zeros(self.n_multi_envs, np.bool)\n"
     ]
    },
    {
     "name": "stdout",
     "output_type": "stream",
     "text": [
      "average_rewards           0.127605\n",
      "average_termination     458.125000\n",
      "average_q_val             0.105444\n",
      "average_target_q_val      0.101717\n",
      "l2_diff                   0.018828\n",
      "average_loss              0.001416\n",
      "dtype: float64\n",
      "Saving Checkpoint\n",
      "Logging Model Metrics\n"
     ]
    },
    {
     "name": "stderr",
     "output_type": "stream",
     "text": [
      "/tmp/ipykernel_14150/3670605584.py:197: DeprecationWarning: `np.bool` is a deprecated alias for the builtin `bool`. To silence this warning, use `bool` by itself. Doing this will not modify any behavior and is safe. If you specifically wanted the numpy scalar type, use `np.bool_` here.\n",
      "Deprecated in NumPy 1.20; for more details and guidance: https://numpy.org/devdocs/release/1.20.0-notes.html#deprecations\n",
      "  allready_terminated = np.zeros(self.n_multi_envs, np.bool)\n"
     ]
    },
    {
     "name": "stdout",
     "output_type": "stream",
     "text": [
      "average_rewards           0.194575\n",
      "average_termination     468.625000\n",
      "average_q_val             0.192715\n",
      "average_target_q_val      0.171993\n",
      "l2_diff                   0.095272\n",
      "average_loss              0.001077\n",
      "dtype: float64\n",
      "Saving Checkpoint\n",
      "Logging Model Metrics\n"
     ]
    },
    {
     "name": "stderr",
     "output_type": "stream",
     "text": [
      "/tmp/ipykernel_14150/3670605584.py:197: DeprecationWarning: `np.bool` is a deprecated alias for the builtin `bool`. To silence this warning, use `bool` by itself. Doing this will not modify any behavior and is safe. If you specifically wanted the numpy scalar type, use `np.bool_` here.\n",
      "Deprecated in NumPy 1.20; for more details and guidance: https://numpy.org/devdocs/release/1.20.0-notes.html#deprecations\n",
      "  allready_terminated = np.zeros(self.n_multi_envs, np.bool)\n"
     ]
    },
    {
     "name": "stdout",
     "output_type": "stream",
     "text": [
      "average_rewards           0.253008\n",
      "average_termination     415.750000\n",
      "average_q_val             0.190762\n",
      "average_target_q_val      0.190345\n",
      "l2_diff                   0.078210\n",
      "average_loss              0.001652\n",
      "dtype: float64\n",
      "Saving Checkpoint\n",
      "Logging Model Metrics\n"
     ]
    },
    {
     "name": "stderr",
     "output_type": "stream",
     "text": [
      "/tmp/ipykernel_14150/3670605584.py:197: DeprecationWarning: `np.bool` is a deprecated alias for the builtin `bool`. To silence this warning, use `bool` by itself. Doing this will not modify any behavior and is safe. If you specifically wanted the numpy scalar type, use `np.bool_` here.\n",
      "Deprecated in NumPy 1.20; for more details and guidance: https://numpy.org/devdocs/release/1.20.0-notes.html#deprecations\n",
      "  allready_terminated = np.zeros(self.n_multi_envs, np.bool)\n"
     ]
    },
    {
     "name": "stdout",
     "output_type": "stream",
     "text": [
      "average_rewards           0.306092\n",
      "average_termination     458.555556\n",
      "average_q_val             0.211341\n",
      "average_target_q_val      0.200859\n",
      "l2_diff                   0.089288\n",
      "average_loss              0.001939\n",
      "dtype: float64\n",
      "Logging Model Metrics\n"
     ]
    },
    {
     "name": "stderr",
     "output_type": "stream",
     "text": [
      "/tmp/ipykernel_14150/3670605584.py:197: DeprecationWarning: `np.bool` is a deprecated alias for the builtin `bool`. To silence this warning, use `bool` by itself. Doing this will not modify any behavior and is safe. If you specifically wanted the numpy scalar type, use `np.bool_` here.\n",
      "Deprecated in NumPy 1.20; for more details and guidance: https://numpy.org/devdocs/release/1.20.0-notes.html#deprecations\n",
      "  allready_terminated = np.zeros(self.n_multi_envs, np.bool)\n"
     ]
    },
    {
     "name": "stdout",
     "output_type": "stream",
     "text": [
      "average_rewards           0.102206\n",
      "average_termination     132.125000\n",
      "average_q_val             0.069873\n",
      "average_target_q_val      0.053961\n",
      "l2_diff                   0.026289\n",
      "average_loss              0.002856\n",
      "dtype: float64\n",
      "Saving Checkpoint\n",
      "Logging Model Metrics\n"
     ]
    },
    {
     "name": "stderr",
     "output_type": "stream",
     "text": [
      "/tmp/ipykernel_14150/3670605584.py:197: DeprecationWarning: `np.bool` is a deprecated alias for the builtin `bool`. To silence this warning, use `bool` by itself. Doing this will not modify any behavior and is safe. If you specifically wanted the numpy scalar type, use `np.bool_` here.\n",
      "Deprecated in NumPy 1.20; for more details and guidance: https://numpy.org/devdocs/release/1.20.0-notes.html#deprecations\n",
      "  allready_terminated = np.zeros(self.n_multi_envs, np.bool)\n"
     ]
    },
    {
     "name": "stdout",
     "output_type": "stream",
     "text": [
      "average_rewards           0.042198\n",
      "average_termination     386.500000\n",
      "average_q_val             0.110447\n",
      "average_target_q_val      0.106788\n",
      "l2_diff                   0.039887\n",
      "average_loss              0.001941\n",
      "dtype: float64\n",
      "Saving Checkpoint\n",
      "Logging Model Metrics\n"
     ]
    },
    {
     "name": "stderr",
     "output_type": "stream",
     "text": [
      "/tmp/ipykernel_14150/3670605584.py:197: DeprecationWarning: `np.bool` is a deprecated alias for the builtin `bool`. To silence this warning, use `bool` by itself. Doing this will not modify any behavior and is safe. If you specifically wanted the numpy scalar type, use `np.bool_` here.\n",
      "Deprecated in NumPy 1.20; for more details and guidance: https://numpy.org/devdocs/release/1.20.0-notes.html#deprecations\n",
      "  allready_terminated = np.zeros(self.n_multi_envs, np.bool)\n"
     ]
    },
    {
     "name": "stdout",
     "output_type": "stream",
     "text": [
      "average_rewards           0.255379\n",
      "average_termination     540.700000\n",
      "average_q_val             0.175535\n",
      "average_target_q_val      0.163654\n",
      "l2_diff                   0.063246\n",
      "average_loss              0.001863\n",
      "dtype: float64\n",
      "Saving Checkpoint\n",
      "Logging Model Metrics\n"
     ]
    },
    {
     "name": "stderr",
     "output_type": "stream",
     "text": [
      "/tmp/ipykernel_14150/3670605584.py:197: DeprecationWarning: `np.bool` is a deprecated alias for the builtin `bool`. To silence this warning, use `bool` by itself. Doing this will not modify any behavior and is safe. If you specifically wanted the numpy scalar type, use `np.bool_` here.\n",
      "Deprecated in NumPy 1.20; for more details and guidance: https://numpy.org/devdocs/release/1.20.0-notes.html#deprecations\n",
      "  allready_terminated = np.zeros(self.n_multi_envs, np.bool)\n"
     ]
    },
    {
     "name": "stdout",
     "output_type": "stream",
     "text": [
      "average_rewards           0.156464\n",
      "average_termination     626.615385\n",
      "average_q_val             0.197385\n",
      "average_target_q_val      0.163922\n",
      "l2_diff                   0.063871\n",
      "average_loss              0.001877\n",
      "dtype: float64\n",
      "Logging Model Metrics\n"
     ]
    },
    {
     "name": "stderr",
     "output_type": "stream",
     "text": [
      "/tmp/ipykernel_14150/3670605584.py:197: DeprecationWarning: `np.bool` is a deprecated alias for the builtin `bool`. To silence this warning, use `bool` by itself. Doing this will not modify any behavior and is safe. If you specifically wanted the numpy scalar type, use `np.bool_` here.\n",
      "Deprecated in NumPy 1.20; for more details and guidance: https://numpy.org/devdocs/release/1.20.0-notes.html#deprecations\n",
      "  allready_terminated = np.zeros(self.n_multi_envs, np.bool)\n"
     ]
    },
    {
     "name": "stdout",
     "output_type": "stream",
     "text": [
      "average_rewards           0.305908\n",
      "average_termination     469.666667\n",
      "average_q_val             0.184139\n",
      "average_target_q_val      0.164265\n",
      "l2_diff                   0.059807\n",
      "average_loss              0.002551\n",
      "dtype: float64\n",
      "Saving Checkpoint\n",
      "Logging Model Metrics\n"
     ]
    },
    {
     "name": "stderr",
     "output_type": "stream",
     "text": [
      "/tmp/ipykernel_14150/3670605584.py:197: DeprecationWarning: `np.bool` is a deprecated alias for the builtin `bool`. To silence this warning, use `bool` by itself. Doing this will not modify any behavior and is safe. If you specifically wanted the numpy scalar type, use `np.bool_` here.\n",
      "Deprecated in NumPy 1.20; for more details and guidance: https://numpy.org/devdocs/release/1.20.0-notes.html#deprecations\n",
      "  allready_terminated = np.zeros(self.n_multi_envs, np.bool)\n"
     ]
    },
    {
     "name": "stdout",
     "output_type": "stream",
     "text": [
      "average_rewards           0.348841\n",
      "average_termination     465.750000\n",
      "average_q_val             0.171453\n",
      "average_target_q_val      0.150964\n",
      "l2_diff                   0.047030\n",
      "average_loss              0.002707\n",
      "dtype: float64\n",
      "Saving Checkpoint\n",
      "Logging Model Metrics\n"
     ]
    },
    {
     "name": "stderr",
     "output_type": "stream",
     "text": [
      "/tmp/ipykernel_14150/3670605584.py:197: DeprecationWarning: `np.bool` is a deprecated alias for the builtin `bool`. To silence this warning, use `bool` by itself. Doing this will not modify any behavior and is safe. If you specifically wanted the numpy scalar type, use `np.bool_` here.\n",
      "Deprecated in NumPy 1.20; for more details and guidance: https://numpy.org/devdocs/release/1.20.0-notes.html#deprecations\n",
      "  allready_terminated = np.zeros(self.n_multi_envs, np.bool)\n"
     ]
    },
    {
     "name": "stdout",
     "output_type": "stream",
     "text": [
      "average_rewards           0.096522\n",
      "average_termination     442.875000\n",
      "average_q_val             0.023846\n",
      "average_target_q_val      0.040578\n",
      "l2_diff                   0.033535\n",
      "average_loss              0.002852\n",
      "dtype: float64\n",
      "Saving Checkpoint\n",
      "Logging Model Metrics\n"
     ]
    },
    {
     "name": "stderr",
     "output_type": "stream",
     "text": [
      "/tmp/ipykernel_14150/3670605584.py:197: DeprecationWarning: `np.bool` is a deprecated alias for the builtin `bool`. To silence this warning, use `bool` by itself. Doing this will not modify any behavior and is safe. If you specifically wanted the numpy scalar type, use `np.bool_` here.\n",
      "Deprecated in NumPy 1.20; for more details and guidance: https://numpy.org/devdocs/release/1.20.0-notes.html#deprecations\n",
      "  allready_terminated = np.zeros(self.n_multi_envs, np.bool)\n"
     ]
    },
    {
     "name": "stdout",
     "output_type": "stream",
     "text": [
      "average_rewards           0.465249\n",
      "average_termination     398.444444\n",
      "average_q_val             0.088486\n",
      "average_target_q_val      0.079059\n",
      "l2_diff                   0.045933\n",
      "average_loss              0.003304\n",
      "dtype: float64\n",
      "Logging Model Metrics\n"
     ]
    },
    {
     "name": "stderr",
     "output_type": "stream",
     "text": [
      "/tmp/ipykernel_14150/3670605584.py:197: DeprecationWarning: `np.bool` is a deprecated alias for the builtin `bool`. To silence this warning, use `bool` by itself. Doing this will not modify any behavior and is safe. If you specifically wanted the numpy scalar type, use `np.bool_` here.\n",
      "Deprecated in NumPy 1.20; for more details and guidance: https://numpy.org/devdocs/release/1.20.0-notes.html#deprecations\n",
      "  allready_terminated = np.zeros(self.n_multi_envs, np.bool)\n"
     ]
    },
    {
     "name": "stdout",
     "output_type": "stream",
     "text": [
      "average_rewards           0.472520\n",
      "average_termination     254.444444\n",
      "average_q_val             0.180086\n",
      "average_target_q_val      0.178246\n",
      "l2_diff                   0.055523\n",
      "average_loss              0.005053\n",
      "dtype: float64\n",
      "Saving Checkpoint\n",
      "Logging Model Metrics\n"
     ]
    },
    {
     "name": "stderr",
     "output_type": "stream",
     "text": [
      "/tmp/ipykernel_14150/3670605584.py:197: DeprecationWarning: `np.bool` is a deprecated alias for the builtin `bool`. To silence this warning, use `bool` by itself. Doing this will not modify any behavior and is safe. If you specifically wanted the numpy scalar type, use `np.bool_` here.\n",
      "Deprecated in NumPy 1.20; for more details and guidance: https://numpy.org/devdocs/release/1.20.0-notes.html#deprecations\n",
      "  allready_terminated = np.zeros(self.n_multi_envs, np.bool)\n"
     ]
    },
    {
     "name": "stdout",
     "output_type": "stream",
     "text": [
      "average_rewards           0.696552\n",
      "average_termination     300.375000\n",
      "average_q_val             0.234284\n",
      "average_target_q_val      0.205795\n",
      "l2_diff                   0.066101\n",
      "average_loss              0.003655\n",
      "dtype: float64\n",
      "Saving Checkpoint\n",
      "Logging Model Metrics\n"
     ]
    },
    {
     "name": "stderr",
     "output_type": "stream",
     "text": [
      "/tmp/ipykernel_14150/3670605584.py:197: DeprecationWarning: `np.bool` is a deprecated alias for the builtin `bool`. To silence this warning, use `bool` by itself. Doing this will not modify any behavior and is safe. If you specifically wanted the numpy scalar type, use `np.bool_` here.\n",
      "Deprecated in NumPy 1.20; for more details and guidance: https://numpy.org/devdocs/release/1.20.0-notes.html#deprecations\n",
      "  allready_terminated = np.zeros(self.n_multi_envs, np.bool)\n"
     ]
    },
    {
     "name": "stdout",
     "output_type": "stream",
     "text": [
      "average_rewards           0.629697\n",
      "average_termination     267.750000\n",
      "average_q_val             0.241504\n",
      "average_target_q_val      0.240395\n",
      "l2_diff                   0.047799\n",
      "average_loss              0.004293\n",
      "dtype: float64\n",
      "Saving Checkpoint\n",
      "Logging Model Metrics\n"
     ]
    },
    {
     "name": "stderr",
     "output_type": "stream",
     "text": [
      "/tmp/ipykernel_14150/3670605584.py:197: DeprecationWarning: `np.bool` is a deprecated alias for the builtin `bool`. To silence this warning, use `bool` by itself. Doing this will not modify any behavior and is safe. If you specifically wanted the numpy scalar type, use `np.bool_` here.\n",
      "Deprecated in NumPy 1.20; for more details and guidance: https://numpy.org/devdocs/release/1.20.0-notes.html#deprecations\n",
      "  allready_terminated = np.zeros(self.n_multi_envs, np.bool)\n"
     ]
    },
    {
     "name": "stdout",
     "output_type": "stream",
     "text": [
      "average_rewards           0.570928\n",
      "average_termination     235.250000\n",
      "average_q_val             0.250506\n",
      "average_target_q_val      0.233463\n",
      "l2_diff                   0.038806\n",
      "average_loss              0.004218\n",
      "dtype: float64\n",
      "Logging Model Metrics\n"
     ]
    },
    {
     "name": "stderr",
     "output_type": "stream",
     "text": [
      "/tmp/ipykernel_14150/3670605584.py:197: DeprecationWarning: `np.bool` is a deprecated alias for the builtin `bool`. To silence this warning, use `bool` by itself. Doing this will not modify any behavior and is safe. If you specifically wanted the numpy scalar type, use `np.bool_` here.\n",
      "Deprecated in NumPy 1.20; for more details and guidance: https://numpy.org/devdocs/release/1.20.0-notes.html#deprecations\n",
      "  allready_terminated = np.zeros(self.n_multi_envs, np.bool)\n"
     ]
    },
    {
     "name": "stdout",
     "output_type": "stream",
     "text": [
      "average_rewards           0.253008\n",
      "average_termination     489.125000\n",
      "average_q_val             0.169249\n",
      "average_target_q_val      0.135676\n",
      "l2_diff                   0.065214\n",
      "average_loss              0.004321\n",
      "dtype: float64\n",
      "Saving Checkpoint\n",
      "Logging Model Metrics\n"
     ]
    },
    {
     "name": "stderr",
     "output_type": "stream",
     "text": [
      "/tmp/ipykernel_14150/3670605584.py:197: DeprecationWarning: `np.bool` is a deprecated alias for the builtin `bool`. To silence this warning, use `bool` by itself. Doing this will not modify any behavior and is safe. If you specifically wanted the numpy scalar type, use `np.bool_` here.\n",
      "Deprecated in NumPy 1.20; for more details and guidance: https://numpy.org/devdocs/release/1.20.0-notes.html#deprecations\n",
      "  allready_terminated = np.zeros(self.n_multi_envs, np.bool)\n"
     ]
    },
    {
     "name": "stdout",
     "output_type": "stream",
     "text": [
      "average_rewards           0.571102\n",
      "average_termination     243.818182\n",
      "average_q_val             0.297499\n",
      "average_target_q_val      0.259324\n",
      "l2_diff                   0.054289\n",
      "average_loss              0.005819\n",
      "dtype: float64\n",
      "Saving Checkpoint\n",
      "Logging Model Metrics\n"
     ]
    },
    {
     "name": "stderr",
     "output_type": "stream",
     "text": [
      "/tmp/ipykernel_14150/3670605584.py:197: DeprecationWarning: `np.bool` is a deprecated alias for the builtin `bool`. To silence this warning, use `bool` by itself. Doing this will not modify any behavior and is safe. If you specifically wanted the numpy scalar type, use `np.bool_` here.\n",
      "Deprecated in NumPy 1.20; for more details and guidance: https://numpy.org/devdocs/release/1.20.0-notes.html#deprecations\n",
      "  allready_terminated = np.zeros(self.n_multi_envs, np.bool)\n"
     ]
    },
    {
     "name": "stdout",
     "output_type": "stream",
     "text": [
      "average_rewards           0.627602\n",
      "average_termination     236.375000\n",
      "average_q_val             0.315523\n",
      "average_target_q_val      0.300393\n",
      "l2_diff                   0.052066\n",
      "average_loss              0.004712\n",
      "dtype: float64\n",
      "Saving Checkpoint\n",
      "Logging Model Metrics\n"
     ]
    },
    {
     "name": "stderr",
     "output_type": "stream",
     "text": [
      "/tmp/ipykernel_14150/3670605584.py:197: DeprecationWarning: `np.bool` is a deprecated alias for the builtin `bool`. To silence this warning, use `bool` by itself. Doing this will not modify any behavior and is safe. If you specifically wanted the numpy scalar type, use `np.bool_` here.\n",
      "Deprecated in NumPy 1.20; for more details and guidance: https://numpy.org/devdocs/release/1.20.0-notes.html#deprecations\n",
      "  allready_terminated = np.zeros(self.n_multi_envs, np.bool)\n"
     ]
    },
    {
     "name": "stdout",
     "output_type": "stream",
     "text": [
      "average_rewards           0.442381\n",
      "average_termination     176.250000\n",
      "average_q_val             0.243394\n",
      "average_target_q_val      0.250859\n",
      "l2_diff                   0.045539\n",
      "average_loss              0.003783\n",
      "dtype: float64\n",
      "Logging Model Metrics\n"
     ]
    },
    {
     "name": "stderr",
     "output_type": "stream",
     "text": [
      "/tmp/ipykernel_14150/3670605584.py:197: DeprecationWarning: `np.bool` is a deprecated alias for the builtin `bool`. To silence this warning, use `bool` by itself. Doing this will not modify any behavior and is safe. If you specifically wanted the numpy scalar type, use `np.bool_` here.\n",
      "Deprecated in NumPy 1.20; for more details and guidance: https://numpy.org/devdocs/release/1.20.0-notes.html#deprecations\n",
      "  allready_terminated = np.zeros(self.n_multi_envs, np.bool)\n"
     ]
    },
    {
     "name": "stdout",
     "output_type": "stream",
     "text": [
      "average_rewards           0.536062\n",
      "average_termination     209.000000\n",
      "average_q_val             0.324785\n",
      "average_target_q_val      0.313894\n",
      "l2_diff                   0.029191\n",
      "average_loss              0.002258\n",
      "dtype: float64\n",
      "Saving Checkpoint\n",
      "Logging Model Metrics\n"
     ]
    },
    {
     "name": "stderr",
     "output_type": "stream",
     "text": [
      "/tmp/ipykernel_14150/3670605584.py:197: DeprecationWarning: `np.bool` is a deprecated alias for the builtin `bool`. To silence this warning, use `bool` by itself. Doing this will not modify any behavior and is safe. If you specifically wanted the numpy scalar type, use `np.bool_` here.\n",
      "Deprecated in NumPy 1.20; for more details and guidance: https://numpy.org/devdocs/release/1.20.0-notes.html#deprecations\n",
      "  allready_terminated = np.zeros(self.n_multi_envs, np.bool)\n"
     ]
    },
    {
     "name": "stdout",
     "output_type": "stream",
     "text": [
      "average_rewards           0.228170\n",
      "average_termination     190.875000\n",
      "average_q_val             0.358659\n",
      "average_target_q_val      0.350796\n",
      "l2_diff                   0.045296\n",
      "average_loss              0.004130\n",
      "dtype: float64\n",
      "Saving Checkpoint\n",
      "Logging Model Metrics\n"
     ]
    },
    {
     "name": "stderr",
     "output_type": "stream",
     "text": [
      "/tmp/ipykernel_14150/3670605584.py:197: DeprecationWarning: `np.bool` is a deprecated alias for the builtin `bool`. To silence this warning, use `bool` by itself. Doing this will not modify any behavior and is safe. If you specifically wanted the numpy scalar type, use `np.bool_` here.\n",
      "Deprecated in NumPy 1.20; for more details and guidance: https://numpy.org/devdocs/release/1.20.0-notes.html#deprecations\n",
      "  allready_terminated = np.zeros(self.n_multi_envs, np.bool)\n"
     ]
    },
    {
     "name": "stdout",
     "output_type": "stream",
     "text": [
      "average_rewards           0.668769\n",
      "average_termination     211.125000\n",
      "average_q_val             0.348625\n",
      "average_target_q_val      0.350955\n",
      "l2_diff                   0.036146\n",
      "average_loss              0.004013\n",
      "dtype: float64\n",
      "Saving Checkpoint\n",
      "Logging Model Metrics\n"
     ]
    },
    {
     "name": "stderr",
     "output_type": "stream",
     "text": [
      "/tmp/ipykernel_14150/3670605584.py:197: DeprecationWarning: `np.bool` is a deprecated alias for the builtin `bool`. To silence this warning, use `bool` by itself. Doing this will not modify any behavior and is safe. If you specifically wanted the numpy scalar type, use `np.bool_` here.\n",
      "Deprecated in NumPy 1.20; for more details and guidance: https://numpy.org/devdocs/release/1.20.0-notes.html#deprecations\n",
      "  allready_terminated = np.zeros(self.n_multi_envs, np.bool)\n"
     ]
    },
    {
     "name": "stdout",
     "output_type": "stream",
     "text": [
      "average_rewards           0.410745\n",
      "average_termination     188.250000\n",
      "average_q_val             0.329389\n",
      "average_target_q_val      0.328010\n",
      "l2_diff                   0.038879\n",
      "average_loss              0.004321\n",
      "dtype: float64\n",
      "Logging Model Metrics\n"
     ]
    },
    {
     "name": "stderr",
     "output_type": "stream",
     "text": [
      "/tmp/ipykernel_14150/3670605584.py:197: DeprecationWarning: `np.bool` is a deprecated alias for the builtin `bool`. To silence this warning, use `bool` by itself. Doing this will not modify any behavior and is safe. If you specifically wanted the numpy scalar type, use `np.bool_` here.\n",
      "Deprecated in NumPy 1.20; for more details and guidance: https://numpy.org/devdocs/release/1.20.0-notes.html#deprecations\n",
      "  allready_terminated = np.zeros(self.n_multi_envs, np.bool)\n"
     ]
    },
    {
     "name": "stdout",
     "output_type": "stream",
     "text": [
      "average_rewards           0.528416\n",
      "average_termination     251.777778\n",
      "average_q_val             0.358637\n",
      "average_target_q_val      0.375001\n",
      "l2_diff                   0.040519\n",
      "average_loss              0.004130\n",
      "dtype: float64\n",
      "Saving Checkpoint\n",
      "Logging Model Metrics\n"
     ]
    },
    {
     "name": "stderr",
     "output_type": "stream",
     "text": [
      "/tmp/ipykernel_14150/3670605584.py:197: DeprecationWarning: `np.bool` is a deprecated alias for the builtin `bool`. To silence this warning, use `bool` by itself. Doing this will not modify any behavior and is safe. If you specifically wanted the numpy scalar type, use `np.bool_` here.\n",
      "Deprecated in NumPy 1.20; for more details and guidance: https://numpy.org/devdocs/release/1.20.0-notes.html#deprecations\n",
      "  allready_terminated = np.zeros(self.n_multi_envs, np.bool)\n"
     ]
    },
    {
     "name": "stdout",
     "output_type": "stream",
     "text": [
      "average_rewards           0.504900\n",
      "average_termination     283.700000\n",
      "average_q_val             0.338412\n",
      "average_target_q_val      0.306818\n",
      "l2_diff                   0.042500\n",
      "average_loss              0.002612\n",
      "dtype: float64\n",
      "Saving Checkpoint\n",
      "Logging Model Metrics\n"
     ]
    },
    {
     "name": "stderr",
     "output_type": "stream",
     "text": [
      "/tmp/ipykernel_14150/3670605584.py:197: DeprecationWarning: `np.bool` is a deprecated alias for the builtin `bool`. To silence this warning, use `bool` by itself. Doing this will not modify any behavior and is safe. If you specifically wanted the numpy scalar type, use `np.bool_` here.\n",
      "Deprecated in NumPy 1.20; for more details and guidance: https://numpy.org/devdocs/release/1.20.0-notes.html#deprecations\n",
      "  allready_terminated = np.zeros(self.n_multi_envs, np.bool)\n"
     ]
    },
    {
     "name": "stdout",
     "output_type": "stream",
     "text": [
      "average_rewards           0.601218\n",
      "average_termination     465.227273\n",
      "average_q_val             0.359061\n",
      "average_target_q_val      0.337312\n",
      "l2_diff                   0.042430\n",
      "average_loss              0.003728\n",
      "dtype: float64\n",
      "Saving Checkpoint\n",
      "Logging Model Metrics\n"
     ]
    },
    {
     "name": "stderr",
     "output_type": "stream",
     "text": [
      "/tmp/ipykernel_14150/3670605584.py:197: DeprecationWarning: `np.bool` is a deprecated alias for the builtin `bool`. To silence this warning, use `bool` by itself. Doing this will not modify any behavior and is safe. If you specifically wanted the numpy scalar type, use `np.bool_` here.\n",
      "Deprecated in NumPy 1.20; for more details and guidance: https://numpy.org/devdocs/release/1.20.0-notes.html#deprecations\n",
      "  allready_terminated = np.zeros(self.n_multi_envs, np.bool)\n"
     ]
    },
    {
     "name": "stdout",
     "output_type": "stream",
     "text": [
      "average_rewards           0.077659\n",
      "average_termination     145.500000\n",
      "average_q_val             0.323982\n",
      "average_target_q_val      0.334605\n",
      "l2_diff                   0.035150\n",
      "average_loss              0.004867\n",
      "dtype: float64\n",
      "Logging Model Metrics\n"
     ]
    },
    {
     "name": "stderr",
     "output_type": "stream",
     "text": [
      "/tmp/ipykernel_14150/3670605584.py:197: DeprecationWarning: `np.bool` is a deprecated alias for the builtin `bool`. To silence this warning, use `bool` by itself. Doing this will not modify any behavior and is safe. If you specifically wanted the numpy scalar type, use `np.bool_` here.\n",
      "Deprecated in NumPy 1.20; for more details and guidance: https://numpy.org/devdocs/release/1.20.0-notes.html#deprecations\n",
      "  allready_terminated = np.zeros(self.n_multi_envs, np.bool)\n"
     ]
    },
    {
     "name": "stdout",
     "output_type": "stream",
     "text": [
      "average_rewards           0.334772\n",
      "average_termination     365.947368\n",
      "average_q_val             0.286413\n",
      "average_target_q_val      0.284280\n",
      "l2_diff                   0.030565\n",
      "average_loss              0.002956\n",
      "dtype: float64\n",
      "Saving Checkpoint\n",
      "Logging Model Metrics\n"
     ]
    },
    {
     "name": "stderr",
     "output_type": "stream",
     "text": [
      "/tmp/ipykernel_14150/3670605584.py:197: DeprecationWarning: `np.bool` is a deprecated alias for the builtin `bool`. To silence this warning, use `bool` by itself. Doing this will not modify any behavior and is safe. If you specifically wanted the numpy scalar type, use `np.bool_` here.\n",
      "Deprecated in NumPy 1.20; for more details and guidance: https://numpy.org/devdocs/release/1.20.0-notes.html#deprecations\n",
      "  allready_terminated = np.zeros(self.n_multi_envs, np.bool)\n"
     ]
    },
    {
     "name": "stdout",
     "output_type": "stream",
     "text": [
      "average_rewards           0.173281\n",
      "average_termination     167.111111\n",
      "average_q_val             0.369708\n",
      "average_target_q_val      0.355221\n",
      "l2_diff                   0.028306\n",
      "average_loss              0.002710\n",
      "dtype: float64\n",
      "Saving Checkpoint\n",
      "Logging Model Metrics\n"
     ]
    },
    {
     "name": "stderr",
     "output_type": "stream",
     "text": [
      "/tmp/ipykernel_14150/3670605584.py:197: DeprecationWarning: `np.bool` is a deprecated alias for the builtin `bool`. To silence this warning, use `bool` by itself. Doing this will not modify any behavior and is safe. If you specifically wanted the numpy scalar type, use `np.bool_` here.\n",
      "Deprecated in NumPy 1.20; for more details and guidance: https://numpy.org/devdocs/release/1.20.0-notes.html#deprecations\n",
      "  allready_terminated = np.zeros(self.n_multi_envs, np.bool)\n"
     ]
    },
    {
     "name": "stdout",
     "output_type": "stream",
     "text": [
      "average_rewards           0.260306\n",
      "average_termination     457.750000\n",
      "average_q_val             0.316229\n",
      "average_target_q_val      0.301167\n",
      "l2_diff                   0.028091\n",
      "average_loss              0.002439\n",
      "dtype: float64\n",
      "Saving Checkpoint\n",
      "Logging Model Metrics\n"
     ]
    },
    {
     "name": "stderr",
     "output_type": "stream",
     "text": [
      "/tmp/ipykernel_14150/3670605584.py:197: DeprecationWarning: `np.bool` is a deprecated alias for the builtin `bool`. To silence this warning, use `bool` by itself. Doing this will not modify any behavior and is safe. If you specifically wanted the numpy scalar type, use `np.bool_` here.\n",
      "Deprecated in NumPy 1.20; for more details and guidance: https://numpy.org/devdocs/release/1.20.0-notes.html#deprecations\n",
      "  allready_terminated = np.zeros(self.n_multi_envs, np.bool)\n"
     ]
    },
    {
     "name": "stdout",
     "output_type": "stream",
     "text": [
      "average_rewards           0.055750\n",
      "average_termination     318.700000\n",
      "average_q_val             0.278758\n",
      "average_target_q_val      0.284159\n",
      "l2_diff                   0.027208\n",
      "average_loss              0.002031\n",
      "dtype: float64\n",
      "Logging Model Metrics\n"
     ]
    },
    {
     "name": "stderr",
     "output_type": "stream",
     "text": [
      "/tmp/ipykernel_14150/3670605584.py:197: DeprecationWarning: `np.bool` is a deprecated alias for the builtin `bool`. To silence this warning, use `bool` by itself. Doing this will not modify any behavior and is safe. If you specifically wanted the numpy scalar type, use `np.bool_` here.\n",
      "Deprecated in NumPy 1.20; for more details and guidance: https://numpy.org/devdocs/release/1.20.0-notes.html#deprecations\n",
      "  allready_terminated = np.zeros(self.n_multi_envs, np.bool)\n"
     ]
    },
    {
     "name": "stdout",
     "output_type": "stream",
     "text": [
      "average_rewards           0.206565\n",
      "average_termination     198.111111\n",
      "average_q_val             0.336496\n",
      "average_target_q_val      0.343974\n",
      "l2_diff                   0.042647\n",
      "average_loss              0.002353\n",
      "dtype: float64\n",
      "Saving Checkpoint\n",
      "Logging Model Metrics\n"
     ]
    },
    {
     "name": "stderr",
     "output_type": "stream",
     "text": [
      "/tmp/ipykernel_14150/3670605584.py:197: DeprecationWarning: `np.bool` is a deprecated alias for the builtin `bool`. To silence this warning, use `bool` by itself. Doing this will not modify any behavior and is safe. If you specifically wanted the numpy scalar type, use `np.bool_` here.\n",
      "Deprecated in NumPy 1.20; for more details and guidance: https://numpy.org/devdocs/release/1.20.0-notes.html#deprecations\n",
      "  allready_terminated = np.zeros(self.n_multi_envs, np.bool)\n"
     ]
    },
    {
     "name": "stdout",
     "output_type": "stream",
     "text": [
      "average_rewards           0.305740\n",
      "average_termination     656.928571\n",
      "average_q_val             0.291693\n",
      "average_target_q_val      0.310725\n",
      "l2_diff                   0.044196\n",
      "average_loss              0.001997\n",
      "dtype: float64\n",
      "Saving Checkpoint\n",
      "Logging Model Metrics\n"
     ]
    },
    {
     "name": "stderr",
     "output_type": "stream",
     "text": [
      "/tmp/ipykernel_14150/3670605584.py:197: DeprecationWarning: `np.bool` is a deprecated alias for the builtin `bool`. To silence this warning, use `bool` by itself. Doing this will not modify any behavior and is safe. If you specifically wanted the numpy scalar type, use `np.bool_` here.\n",
      "Deprecated in NumPy 1.20; for more details and guidance: https://numpy.org/devdocs/release/1.20.0-notes.html#deprecations\n",
      "  allready_terminated = np.zeros(self.n_multi_envs, np.bool)\n"
     ]
    },
    {
     "name": "stdout",
     "output_type": "stream",
     "text": [
      "average_rewards           0.094638\n",
      "average_termination     148.000000\n",
      "average_q_val             0.327990\n",
      "average_target_q_val      0.323147\n",
      "l2_diff                   0.033198\n",
      "average_loss              0.001644\n",
      "dtype: float64\n",
      "Saving Checkpoint\n",
      "Logging Model Metrics\n"
     ]
    },
    {
     "name": "stderr",
     "output_type": "stream",
     "text": [
      "/tmp/ipykernel_14150/3670605584.py:197: DeprecationWarning: `np.bool` is a deprecated alias for the builtin `bool`. To silence this warning, use `bool` by itself. Doing this will not modify any behavior and is safe. If you specifically wanted the numpy scalar type, use `np.bool_` here.\n",
      "Deprecated in NumPy 1.20; for more details and guidance: https://numpy.org/devdocs/release/1.20.0-notes.html#deprecations\n",
      "  allready_terminated = np.zeros(self.n_multi_envs, np.bool)\n"
     ]
    },
    {
     "name": "stdout",
     "output_type": "stream",
     "text": [
      "average_rewards           0.515802\n",
      "average_termination     200.250000\n",
      "average_q_val             0.391468\n",
      "average_target_q_val      0.377440\n",
      "l2_diff                   0.025495\n",
      "average_loss              0.001599\n",
      "dtype: float64\n",
      "Logging Model Metrics\n"
     ]
    },
    {
     "name": "stderr",
     "output_type": "stream",
     "text": [
      "/tmp/ipykernel_14150/3670605584.py:197: DeprecationWarning: `np.bool` is a deprecated alias for the builtin `bool`. To silence this warning, use `bool` by itself. Doing this will not modify any behavior and is safe. If you specifically wanted the numpy scalar type, use `np.bool_` here.\n",
      "Deprecated in NumPy 1.20; for more details and guidance: https://numpy.org/devdocs/release/1.20.0-notes.html#deprecations\n",
      "  allready_terminated = np.zeros(self.n_multi_envs, np.bool)\n"
     ]
    },
    {
     "name": "stdout",
     "output_type": "stream",
     "text": [
      "average_rewards           0.605172\n",
      "average_termination     389.307692\n",
      "average_q_val             0.328068\n",
      "average_target_q_val      0.319106\n",
      "l2_diff                   0.026597\n",
      "average_loss              0.002157\n",
      "dtype: float64\n",
      "Saving Checkpoint\n",
      "Logging Model Metrics\n"
     ]
    },
    {
     "name": "stderr",
     "output_type": "stream",
     "text": [
      "/tmp/ipykernel_14150/3670605584.py:197: DeprecationWarning: `np.bool` is a deprecated alias for the builtin `bool`. To silence this warning, use `bool` by itself. Doing this will not modify any behavior and is safe. If you specifically wanted the numpy scalar type, use `np.bool_` here.\n",
      "Deprecated in NumPy 1.20; for more details and guidance: https://numpy.org/devdocs/release/1.20.0-notes.html#deprecations\n",
      "  allready_terminated = np.zeros(self.n_multi_envs, np.bool)\n"
     ]
    },
    {
     "name": "stdout",
     "output_type": "stream",
     "text": [
      "average_rewards           0.586175\n",
      "average_termination     192.125000\n",
      "average_q_val             0.452969\n",
      "average_target_q_val      0.438902\n",
      "l2_diff                   0.035178\n",
      "average_loss              0.003223\n",
      "dtype: float64\n",
      "Saving Checkpoint\n",
      "Logging Model Metrics\n"
     ]
    },
    {
     "name": "stderr",
     "output_type": "stream",
     "text": [
      "/tmp/ipykernel_14150/3670605584.py:197: DeprecationWarning: `np.bool` is a deprecated alias for the builtin `bool`. To silence this warning, use `bool` by itself. Doing this will not modify any behavior and is safe. If you specifically wanted the numpy scalar type, use `np.bool_` here.\n",
      "Deprecated in NumPy 1.20; for more details and guidance: https://numpy.org/devdocs/release/1.20.0-notes.html#deprecations\n",
      "  allready_terminated = np.zeros(self.n_multi_envs, np.bool)\n"
     ]
    },
    {
     "name": "stdout",
     "output_type": "stream",
     "text": [
      "average_rewards           0.596350\n",
      "average_termination     260.750000\n",
      "average_q_val             0.356879\n",
      "average_target_q_val      0.360678\n",
      "l2_diff                   0.038399\n",
      "average_loss              0.001713\n",
      "dtype: float64\n",
      "Saving Checkpoint\n",
      "Logging Model Metrics\n"
     ]
    },
    {
     "name": "stderr",
     "output_type": "stream",
     "text": [
      "/tmp/ipykernel_14150/3670605584.py:197: DeprecationWarning: `np.bool` is a deprecated alias for the builtin `bool`. To silence this warning, use `bool` by itself. Doing this will not modify any behavior and is safe. If you specifically wanted the numpy scalar type, use `np.bool_` here.\n",
      "Deprecated in NumPy 1.20; for more details and guidance: https://numpy.org/devdocs/release/1.20.0-notes.html#deprecations\n",
      "  allready_terminated = np.zeros(self.n_multi_envs, np.bool)\n"
     ]
    },
    {
     "name": "stdout",
     "output_type": "stream",
     "text": [
      "average_rewards           0.536515\n",
      "average_termination     213.750000\n",
      "average_q_val             0.444276\n",
      "average_target_q_val      0.407238\n",
      "l2_diff                   0.058321\n",
      "average_loss              0.002685\n",
      "dtype: float64\n",
      "Logging Model Metrics\n"
     ]
    },
    {
     "name": "stderr",
     "output_type": "stream",
     "text": [
      "/tmp/ipykernel_14150/3670605584.py:197: DeprecationWarning: `np.bool` is a deprecated alias for the builtin `bool`. To silence this warning, use `bool` by itself. Doing this will not modify any behavior and is safe. If you specifically wanted the numpy scalar type, use `np.bool_` here.\n",
      "Deprecated in NumPy 1.20; for more details and guidance: https://numpy.org/devdocs/release/1.20.0-notes.html#deprecations\n",
      "  allready_terminated = np.zeros(self.n_multi_envs, np.bool)\n"
     ]
    },
    {
     "name": "stdout",
     "output_type": "stream",
     "text": [
      "average_rewards           0.532352\n",
      "average_termination     199.375000\n",
      "average_q_val             0.435540\n",
      "average_target_q_val      0.421407\n",
      "l2_diff                   0.025216\n",
      "average_loss              0.002420\n",
      "dtype: float64\n",
      "Saving Checkpoint\n",
      "Logging Model Metrics\n"
     ]
    },
    {
     "name": "stderr",
     "output_type": "stream",
     "text": [
      "/tmp/ipykernel_14150/3670605584.py:197: DeprecationWarning: `np.bool` is a deprecated alias for the builtin `bool`. To silence this warning, use `bool` by itself. Doing this will not modify any behavior and is safe. If you specifically wanted the numpy scalar type, use `np.bool_` here.\n",
      "Deprecated in NumPy 1.20; for more details and guidance: https://numpy.org/devdocs/release/1.20.0-notes.html#deprecations\n",
      "  allready_terminated = np.zeros(self.n_multi_envs, np.bool)\n"
     ]
    },
    {
     "name": "stdout",
     "output_type": "stream",
     "text": [
      "average_rewards           0.523919\n",
      "average_termination     215.250000\n",
      "average_q_val             0.405889\n",
      "average_target_q_val      0.388221\n",
      "l2_diff                   0.031677\n",
      "average_loss              0.004707\n",
      "dtype: float64\n",
      "Saving Checkpoint\n",
      "Logging Model Metrics\n"
     ]
    },
    {
     "name": "stderr",
     "output_type": "stream",
     "text": [
      "/tmp/ipykernel_14150/3670605584.py:197: DeprecationWarning: `np.bool` is a deprecated alias for the builtin `bool`. To silence this warning, use `bool` by itself. Doing this will not modify any behavior and is safe. If you specifically wanted the numpy scalar type, use `np.bool_` here.\n",
      "Deprecated in NumPy 1.20; for more details and guidance: https://numpy.org/devdocs/release/1.20.0-notes.html#deprecations\n",
      "  allready_terminated = np.zeros(self.n_multi_envs, np.bool)\n"
     ]
    },
    {
     "name": "stdout",
     "output_type": "stream",
     "text": [
      "average_rewards           0.648571\n",
      "average_termination     303.466667\n",
      "average_q_val             0.389411\n",
      "average_target_q_val      0.372440\n",
      "l2_diff                   0.028692\n",
      "average_loss              0.002916\n",
      "dtype: float64\n",
      "Saving Checkpoint\n",
      "Logging Model Metrics\n"
     ]
    },
    {
     "name": "stderr",
     "output_type": "stream",
     "text": [
      "/tmp/ipykernel_14150/3670605584.py:197: DeprecationWarning: `np.bool` is a deprecated alias for the builtin `bool`. To silence this warning, use `bool` by itself. Doing this will not modify any behavior and is safe. If you specifically wanted the numpy scalar type, use `np.bool_` here.\n",
      "Deprecated in NumPy 1.20; for more details and guidance: https://numpy.org/devdocs/release/1.20.0-notes.html#deprecations\n",
      "  allready_terminated = np.zeros(self.n_multi_envs, np.bool)\n"
     ]
    },
    {
     "name": "stdout",
     "output_type": "stream",
     "text": [
      "average_rewards           0.169515\n",
      "average_termination     590.909091\n",
      "average_q_val             0.318066\n",
      "average_target_q_val      0.300359\n",
      "l2_diff                   0.038799\n",
      "average_loss              0.004878\n",
      "dtype: float64\n",
      "Logging Model Metrics\n"
     ]
    },
    {
     "name": "stderr",
     "output_type": "stream",
     "text": [
      "/tmp/ipykernel_14150/3670605584.py:197: DeprecationWarning: `np.bool` is a deprecated alias for the builtin `bool`. To silence this warning, use `bool` by itself. Doing this will not modify any behavior and is safe. If you specifically wanted the numpy scalar type, use `np.bool_` here.\n",
      "Deprecated in NumPy 1.20; for more details and guidance: https://numpy.org/devdocs/release/1.20.0-notes.html#deprecations\n",
      "  allready_terminated = np.zeros(self.n_multi_envs, np.bool)\n"
     ]
    },
    {
     "name": "stdout",
     "output_type": "stream",
     "text": [
      "average_rewards           0.747047\n",
      "average_termination     247.375000\n",
      "average_q_val             0.376929\n",
      "average_target_q_val      0.353941\n",
      "l2_diff                   0.050366\n",
      "average_loss              0.003393\n",
      "dtype: float64\n",
      "Saving Checkpoint\n",
      "Logging Model Metrics\n"
     ]
    },
    {
     "name": "stderr",
     "output_type": "stream",
     "text": [
      "/tmp/ipykernel_14150/3670605584.py:197: DeprecationWarning: `np.bool` is a deprecated alias for the builtin `bool`. To silence this warning, use `bool` by itself. Doing this will not modify any behavior and is safe. If you specifically wanted the numpy scalar type, use `np.bool_` here.\n",
      "Deprecated in NumPy 1.20; for more details and guidance: https://numpy.org/devdocs/release/1.20.0-notes.html#deprecations\n",
      "  allready_terminated = np.zeros(self.n_multi_envs, np.bool)\n"
     ]
    },
    {
     "name": "stdout",
     "output_type": "stream",
     "text": [
      "average_rewards           0.553624\n",
      "average_termination     449.444444\n",
      "average_q_val             0.408769\n",
      "average_target_q_val      0.418833\n",
      "l2_diff                   0.029669\n",
      "average_loss              0.003027\n",
      "dtype: float64\n",
      "Saving Checkpoint\n",
      "Logging Model Metrics\n"
     ]
    },
    {
     "name": "stderr",
     "output_type": "stream",
     "text": [
      "/tmp/ipykernel_14150/3670605584.py:197: DeprecationWarning: `np.bool` is a deprecated alias for the builtin `bool`. To silence this warning, use `bool` by itself. Doing this will not modify any behavior and is safe. If you specifically wanted the numpy scalar type, use `np.bool_` here.\n",
      "Deprecated in NumPy 1.20; for more details and guidance: https://numpy.org/devdocs/release/1.20.0-notes.html#deprecations\n",
      "  allready_terminated = np.zeros(self.n_multi_envs, np.bool)\n"
     ]
    },
    {
     "name": "stdout",
     "output_type": "stream",
     "text": [
      "average_rewards           0.640518\n",
      "average_termination     352.083333\n",
      "average_q_val             0.395678\n",
      "average_target_q_val      0.384874\n",
      "l2_diff                   0.040864\n",
      "average_loss              0.003325\n",
      "dtype: float64\n",
      "Saving Checkpoint\n",
      "Logging Model Metrics\n"
     ]
    },
    {
     "name": "stderr",
     "output_type": "stream",
     "text": [
      "/tmp/ipykernel_14150/3670605584.py:197: DeprecationWarning: `np.bool` is a deprecated alias for the builtin `bool`. To silence this warning, use `bool` by itself. Doing this will not modify any behavior and is safe. If you specifically wanted the numpy scalar type, use `np.bool_` here.\n",
      "Deprecated in NumPy 1.20; for more details and guidance: https://numpy.org/devdocs/release/1.20.0-notes.html#deprecations\n",
      "  allready_terminated = np.zeros(self.n_multi_envs, np.bool)\n"
     ]
    },
    {
     "name": "stdout",
     "output_type": "stream",
     "text": [
      "average_rewards           0.455283\n",
      "average_termination     634.500000\n",
      "average_q_val             0.336874\n",
      "average_target_q_val      0.341603\n",
      "l2_diff                   0.034499\n",
      "average_loss              0.001902\n",
      "dtype: float64\n",
      "Logging Model Metrics\n"
     ]
    },
    {
     "name": "stderr",
     "output_type": "stream",
     "text": [
      "/tmp/ipykernel_14150/3670605584.py:197: DeprecationWarning: `np.bool` is a deprecated alias for the builtin `bool`. To silence this warning, use `bool` by itself. Doing this will not modify any behavior and is safe. If you specifically wanted the numpy scalar type, use `np.bool_` here.\n",
      "Deprecated in NumPy 1.20; for more details and guidance: https://numpy.org/devdocs/release/1.20.0-notes.html#deprecations\n",
      "  allready_terminated = np.zeros(self.n_multi_envs, np.bool)\n"
     ]
    },
    {
     "name": "stdout",
     "output_type": "stream",
     "text": [
      "average_rewards           0.280403\n",
      "average_termination     182.875000\n",
      "average_q_val             0.374138\n",
      "average_target_q_val      0.363443\n",
      "l2_diff                   0.023922\n",
      "average_loss              0.002742\n",
      "dtype: float64\n",
      "Saving Checkpoint\n",
      "Logging Model Metrics\n"
     ]
    },
    {
     "name": "stderr",
     "output_type": "stream",
     "text": [
      "/tmp/ipykernel_14150/3670605584.py:197: DeprecationWarning: `np.bool` is a deprecated alias for the builtin `bool`. To silence this warning, use `bool` by itself. Doing this will not modify any behavior and is safe. If you specifically wanted the numpy scalar type, use `np.bool_` here.\n",
      "Deprecated in NumPy 1.20; for more details and guidance: https://numpy.org/devdocs/release/1.20.0-notes.html#deprecations\n",
      "  allready_terminated = np.zeros(self.n_multi_envs, np.bool)\n"
     ]
    },
    {
     "name": "stdout",
     "output_type": "stream",
     "text": [
      "average_rewards           0.241459\n",
      "average_termination     639.666667\n",
      "average_q_val             0.340354\n",
      "average_target_q_val      0.341469\n",
      "l2_diff                   0.034504\n",
      "average_loss              0.001960\n",
      "dtype: float64\n",
      "Saving Checkpoint\n",
      "Logging Model Metrics\n"
     ]
    },
    {
     "name": "stderr",
     "output_type": "stream",
     "text": [
      "/tmp/ipykernel_14150/3670605584.py:197: DeprecationWarning: `np.bool` is a deprecated alias for the builtin `bool`. To silence this warning, use `bool` by itself. Doing this will not modify any behavior and is safe. If you specifically wanted the numpy scalar type, use `np.bool_` here.\n",
      "Deprecated in NumPy 1.20; for more details and guidance: https://numpy.org/devdocs/release/1.20.0-notes.html#deprecations\n",
      "  allready_terminated = np.zeros(self.n_multi_envs, np.bool)\n"
     ]
    },
    {
     "name": "stdout",
     "output_type": "stream",
     "text": [
      "average_rewards           0.093812\n",
      "average_termination     727.625000\n",
      "average_q_val             0.367540\n",
      "average_target_q_val      0.347305\n",
      "l2_diff                   0.028934\n",
      "average_loss              0.003528\n",
      "dtype: float64\n",
      "Saving Checkpoint\n",
      "Logging Model Metrics\n"
     ]
    },
    {
     "name": "stderr",
     "output_type": "stream",
     "text": [
      "/tmp/ipykernel_14150/3670605584.py:197: DeprecationWarning: `np.bool` is a deprecated alias for the builtin `bool`. To silence this warning, use `bool` by itself. Doing this will not modify any behavior and is safe. If you specifically wanted the numpy scalar type, use `np.bool_` here.\n",
      "Deprecated in NumPy 1.20; for more details and guidance: https://numpy.org/devdocs/release/1.20.0-notes.html#deprecations\n",
      "  allready_terminated = np.zeros(self.n_multi_envs, np.bool)\n"
     ]
    },
    {
     "name": "stdout",
     "output_type": "stream",
     "text": [
      "average_rewards            0.086492\n",
      "average_termination     1169.300000\n",
      "average_q_val              0.296105\n",
      "average_target_q_val       0.295310\n",
      "l2_diff                    0.045883\n",
      "average_loss               0.001587\n",
      "dtype: float64\n",
      "Logging Model Metrics\n"
     ]
    },
    {
     "name": "stderr",
     "output_type": "stream",
     "text": [
      "/tmp/ipykernel_14150/3670605584.py:197: DeprecationWarning: `np.bool` is a deprecated alias for the builtin `bool`. To silence this warning, use `bool` by itself. Doing this will not modify any behavior and is safe. If you specifically wanted the numpy scalar type, use `np.bool_` here.\n",
      "Deprecated in NumPy 1.20; for more details and guidance: https://numpy.org/devdocs/release/1.20.0-notes.html#deprecations\n",
      "  allready_terminated = np.zeros(self.n_multi_envs, np.bool)\n"
     ]
    },
    {
     "name": "stdout",
     "output_type": "stream",
     "text": [
      "average_rewards           0.681347\n",
      "average_termination     352.818182\n",
      "average_q_val             0.415076\n",
      "average_target_q_val      0.391392\n",
      "l2_diff                   0.047477\n",
      "average_loss              0.003276\n",
      "dtype: float64\n",
      "Saving Checkpoint\n",
      "Logging Model Metrics\n"
     ]
    },
    {
     "name": "stderr",
     "output_type": "stream",
     "text": [
      "/tmp/ipykernel_14150/3670605584.py:197: DeprecationWarning: `np.bool` is a deprecated alias for the builtin `bool`. To silence this warning, use `bool` by itself. Doing this will not modify any behavior and is safe. If you specifically wanted the numpy scalar type, use `np.bool_` here.\n",
      "Deprecated in NumPy 1.20; for more details and guidance: https://numpy.org/devdocs/release/1.20.0-notes.html#deprecations\n",
      "  allready_terminated = np.zeros(self.n_multi_envs, np.bool)\n"
     ]
    },
    {
     "name": "stdout",
     "output_type": "stream",
     "text": [
      "average_rewards            0.102934\n",
      "average_termination     1536.312500\n",
      "average_q_val              0.298075\n",
      "average_target_q_val       0.302245\n",
      "l2_diff                    0.020882\n",
      "average_loss               0.002865\n",
      "dtype: float64\n",
      "Saving Checkpoint\n",
      "Logging Model Metrics\n"
     ]
    },
    {
     "name": "stderr",
     "output_type": "stream",
     "text": [
      "/tmp/ipykernel_14150/3670605584.py:197: DeprecationWarning: `np.bool` is a deprecated alias for the builtin `bool`. To silence this warning, use `bool` by itself. Doing this will not modify any behavior and is safe. If you specifically wanted the numpy scalar type, use `np.bool_` here.\n",
      "Deprecated in NumPy 1.20; for more details and guidance: https://numpy.org/devdocs/release/1.20.0-notes.html#deprecations\n",
      "  allready_terminated = np.zeros(self.n_multi_envs, np.bool)\n"
     ]
    },
    {
     "name": "stdout",
     "output_type": "stream",
     "text": [
      "average_rewards           0.592953\n",
      "average_termination     212.250000\n",
      "average_q_val             0.428247\n",
      "average_target_q_val      0.417261\n",
      "l2_diff                   0.021872\n",
      "average_loss              0.003920\n",
      "dtype: float64\n",
      "Saving Checkpoint\n",
      "Logging Model Metrics\n"
     ]
    },
    {
     "name": "stderr",
     "output_type": "stream",
     "text": [
      "/tmp/ipykernel_14150/3670605584.py:197: DeprecationWarning: `np.bool` is a deprecated alias for the builtin `bool`. To silence this warning, use `bool` by itself. Doing this will not modify any behavior and is safe. If you specifically wanted the numpy scalar type, use `np.bool_` here.\n",
      "Deprecated in NumPy 1.20; for more details and guidance: https://numpy.org/devdocs/release/1.20.0-notes.html#deprecations\n",
      "  allready_terminated = np.zeros(self.n_multi_envs, np.bool)\n"
     ]
    },
    {
     "name": "stdout",
     "output_type": "stream",
     "text": [
      "average_rewards           0.178878\n",
      "average_termination     924.000000\n",
      "average_q_val             0.278208\n",
      "average_target_q_val      0.276448\n",
      "l2_diff                   0.020667\n",
      "average_loss              0.002997\n",
      "dtype: float64\n",
      "Logging Model Metrics\n"
     ]
    },
    {
     "name": "stderr",
     "output_type": "stream",
     "text": [
      "/tmp/ipykernel_14150/3670605584.py:197: DeprecationWarning: `np.bool` is a deprecated alias for the builtin `bool`. To silence this warning, use `bool` by itself. Doing this will not modify any behavior and is safe. If you specifically wanted the numpy scalar type, use `np.bool_` here.\n",
      "Deprecated in NumPy 1.20; for more details and guidance: https://numpy.org/devdocs/release/1.20.0-notes.html#deprecations\n",
      "  allready_terminated = np.zeros(self.n_multi_envs, np.bool)\n"
     ]
    },
    {
     "name": "stdout",
     "output_type": "stream",
     "text": [
      "average_rewards           0.639456\n",
      "average_termination     227.125000\n",
      "average_q_val             0.453802\n",
      "average_target_q_val      0.448048\n",
      "l2_diff                   0.023235\n",
      "average_loss              0.002425\n",
      "dtype: float64\n",
      "Saving Checkpoint\n",
      "Logging Model Metrics\n"
     ]
    },
    {
     "name": "stderr",
     "output_type": "stream",
     "text": [
      "/tmp/ipykernel_14150/3670605584.py:197: DeprecationWarning: `np.bool` is a deprecated alias for the builtin `bool`. To silence this warning, use `bool` by itself. Doing this will not modify any behavior and is safe. If you specifically wanted the numpy scalar type, use `np.bool_` here.\n",
      "Deprecated in NumPy 1.20; for more details and guidance: https://numpy.org/devdocs/release/1.20.0-notes.html#deprecations\n",
      "  allready_terminated = np.zeros(self.n_multi_envs, np.bool)\n"
     ]
    },
    {
     "name": "stdout",
     "output_type": "stream",
     "text": [
      "average_rewards           0.484843\n",
      "average_termination     609.750000\n",
      "average_q_val             0.435127\n",
      "average_target_q_val      0.418568\n",
      "l2_diff                   0.030425\n",
      "average_loss              0.002233\n",
      "dtype: float64\n",
      "Saving Checkpoint\n",
      "Logging Model Metrics\n"
     ]
    },
    {
     "name": "stderr",
     "output_type": "stream",
     "text": [
      "/tmp/ipykernel_14150/3670605584.py:197: DeprecationWarning: `np.bool` is a deprecated alias for the builtin `bool`. To silence this warning, use `bool` by itself. Doing this will not modify any behavior and is safe. If you specifically wanted the numpy scalar type, use `np.bool_` here.\n",
      "Deprecated in NumPy 1.20; for more details and guidance: https://numpy.org/devdocs/release/1.20.0-notes.html#deprecations\n",
      "  allready_terminated = np.zeros(self.n_multi_envs, np.bool)\n"
     ]
    },
    {
     "name": "stdout",
     "output_type": "stream",
     "text": [
      "average_rewards           0.636157\n",
      "average_termination     618.451613\n",
      "average_q_val             0.418146\n",
      "average_target_q_val      0.404216\n",
      "l2_diff                   0.031434\n",
      "average_loss              0.002655\n",
      "dtype: float64\n",
      "Saving Checkpoint\n",
      "Logging Model Metrics\n"
     ]
    },
    {
     "name": "stderr",
     "output_type": "stream",
     "text": [
      "/tmp/ipykernel_14150/3670605584.py:197: DeprecationWarning: `np.bool` is a deprecated alias for the builtin `bool`. To silence this warning, use `bool` by itself. Doing this will not modify any behavior and is safe. If you specifically wanted the numpy scalar type, use `np.bool_` here.\n",
      "Deprecated in NumPy 1.20; for more details and guidance: https://numpy.org/devdocs/release/1.20.0-notes.html#deprecations\n",
      "  allready_terminated = np.zeros(self.n_multi_envs, np.bool)\n"
     ]
    },
    {
     "name": "stdout",
     "output_type": "stream",
     "text": [
      "average_rewards           0.638830\n",
      "average_termination     238.000000\n",
      "average_q_val             0.490335\n",
      "average_target_q_val      0.484725\n",
      "l2_diff                   0.022168\n",
      "average_loss              0.006803\n",
      "dtype: float64\n",
      "Logging Model Metrics\n"
     ]
    },
    {
     "name": "stderr",
     "output_type": "stream",
     "text": [
      "/tmp/ipykernel_14150/3670605584.py:197: DeprecationWarning: `np.bool` is a deprecated alias for the builtin `bool`. To silence this warning, use `bool` by itself. Doing this will not modify any behavior and is safe. If you specifically wanted the numpy scalar type, use `np.bool_` here.\n",
      "Deprecated in NumPy 1.20; for more details and guidance: https://numpy.org/devdocs/release/1.20.0-notes.html#deprecations\n",
      "  allready_terminated = np.zeros(self.n_multi_envs, np.bool)\n"
     ]
    },
    {
     "name": "stdout",
     "output_type": "stream",
     "text": [
      "average_rewards           0.615475\n",
      "average_termination     211.250000\n",
      "average_q_val             0.497231\n",
      "average_target_q_val      0.492159\n",
      "l2_diff                   0.021358\n",
      "average_loss              0.004805\n",
      "dtype: float64\n",
      "Saving Checkpoint\n",
      "Logging Model Metrics\n"
     ]
    },
    {
     "name": "stderr",
     "output_type": "stream",
     "text": [
      "/tmp/ipykernel_14150/3670605584.py:197: DeprecationWarning: `np.bool` is a deprecated alias for the builtin `bool`. To silence this warning, use `bool` by itself. Doing this will not modify any behavior and is safe. If you specifically wanted the numpy scalar type, use `np.bool_` here.\n",
      "Deprecated in NumPy 1.20; for more details and guidance: https://numpy.org/devdocs/release/1.20.0-notes.html#deprecations\n",
      "  allready_terminated = np.zeros(self.n_multi_envs, np.bool)\n"
     ]
    },
    {
     "name": "stdout",
     "output_type": "stream",
     "text": [
      "average_rewards           0.649196\n",
      "average_termination     322.500000\n",
      "average_q_val             0.458144\n",
      "average_target_q_val      0.445005\n",
      "l2_diff                   0.026449\n",
      "average_loss              0.003407\n",
      "dtype: float64\n",
      "Saving Checkpoint\n",
      "Logging Model Metrics\n"
     ]
    },
    {
     "name": "stderr",
     "output_type": "stream",
     "text": [
      "/tmp/ipykernel_14150/3670605584.py:197: DeprecationWarning: `np.bool` is a deprecated alias for the builtin `bool`. To silence this warning, use `bool` by itself. Doing this will not modify any behavior and is safe. If you specifically wanted the numpy scalar type, use `np.bool_` here.\n",
      "Deprecated in NumPy 1.20; for more details and guidance: https://numpy.org/devdocs/release/1.20.0-notes.html#deprecations\n",
      "  allready_terminated = np.zeros(self.n_multi_envs, np.bool)\n"
     ]
    },
    {
     "name": "stdout",
     "output_type": "stream",
     "text": [
      "average_rewards           0.598234\n",
      "average_termination     529.285714\n",
      "average_q_val             0.332917\n",
      "average_target_q_val      0.328546\n",
      "l2_diff                   0.019561\n",
      "average_loss              0.002791\n",
      "dtype: float64\n",
      "Saving Checkpoint\n",
      "Logging Model Metrics\n"
     ]
    },
    {
     "name": "stderr",
     "output_type": "stream",
     "text": [
      "/tmp/ipykernel_14150/3670605584.py:197: DeprecationWarning: `np.bool` is a deprecated alias for the builtin `bool`. To silence this warning, use `bool` by itself. Doing this will not modify any behavior and is safe. If you specifically wanted the numpy scalar type, use `np.bool_` here.\n",
      "Deprecated in NumPy 1.20; for more details and guidance: https://numpy.org/devdocs/release/1.20.0-notes.html#deprecations\n",
      "  allready_terminated = np.zeros(self.n_multi_envs, np.bool)\n"
     ]
    },
    {
     "name": "stdout",
     "output_type": "stream",
     "text": [
      "average_rewards           0.605753\n",
      "average_termination     539.500000\n",
      "average_q_val             0.445772\n",
      "average_target_q_val      0.450623\n",
      "l2_diff                   0.028402\n",
      "average_loss              0.001854\n",
      "dtype: float64\n",
      "Logging Model Metrics\n"
     ]
    },
    {
     "name": "stderr",
     "output_type": "stream",
     "text": [
      "/tmp/ipykernel_14150/3670605584.py:197: DeprecationWarning: `np.bool` is a deprecated alias for the builtin `bool`. To silence this warning, use `bool` by itself. Doing this will not modify any behavior and is safe. If you specifically wanted the numpy scalar type, use `np.bool_` here.\n",
      "Deprecated in NumPy 1.20; for more details and guidance: https://numpy.org/devdocs/release/1.20.0-notes.html#deprecations\n",
      "  allready_terminated = np.zeros(self.n_multi_envs, np.bool)\n"
     ]
    },
    {
     "name": "stdout",
     "output_type": "stream",
     "text": [
      "average_rewards           0.764184\n",
      "average_termination     856.250000\n",
      "average_q_val             0.380219\n",
      "average_target_q_val      0.378684\n",
      "l2_diff                   0.019917\n",
      "average_loss              0.004570\n",
      "dtype: float64\n",
      "Saving Checkpoint\n",
      "Logging Model Metrics\n"
     ]
    },
    {
     "name": "stderr",
     "output_type": "stream",
     "text": [
      "/tmp/ipykernel_14150/3670605584.py:197: DeprecationWarning: `np.bool` is a deprecated alias for the builtin `bool`. To silence this warning, use `bool` by itself. Doing this will not modify any behavior and is safe. If you specifically wanted the numpy scalar type, use `np.bool_` here.\n",
      "Deprecated in NumPy 1.20; for more details and guidance: https://numpy.org/devdocs/release/1.20.0-notes.html#deprecations\n",
      "  allready_terminated = np.zeros(self.n_multi_envs, np.bool)\n"
     ]
    },
    {
     "name": "stdout",
     "output_type": "stream",
     "text": [
      "average_rewards           0.579511\n",
      "average_termination     232.875000\n",
      "average_q_val             0.482449\n",
      "average_target_q_val      0.477145\n",
      "l2_diff                   0.022695\n",
      "average_loss              0.002903\n",
      "dtype: float64\n",
      "Saving Checkpoint\n",
      "Logging Model Metrics\n"
     ]
    },
    {
     "name": "stderr",
     "output_type": "stream",
     "text": [
      "/tmp/ipykernel_14150/3670605584.py:197: DeprecationWarning: `np.bool` is a deprecated alias for the builtin `bool`. To silence this warning, use `bool` by itself. Doing this will not modify any behavior and is safe. If you specifically wanted the numpy scalar type, use `np.bool_` here.\n",
      "Deprecated in NumPy 1.20; for more details and guidance: https://numpy.org/devdocs/release/1.20.0-notes.html#deprecations\n",
      "  allready_terminated = np.zeros(self.n_multi_envs, np.bool)\n"
     ]
    },
    {
     "name": "stdout",
     "output_type": "stream",
     "text": [
      "average_rewards           0.737930\n",
      "average_termination     885.600000\n",
      "average_q_val             0.349802\n",
      "average_target_q_val      0.344751\n",
      "l2_diff                   0.022630\n",
      "average_loss              0.002466\n",
      "dtype: float64\n",
      "Saving Checkpoint\n",
      "Logging Model Metrics\n"
     ]
    },
    {
     "name": "stderr",
     "output_type": "stream",
     "text": [
      "/tmp/ipykernel_14150/3670605584.py:197: DeprecationWarning: `np.bool` is a deprecated alias for the builtin `bool`. To silence this warning, use `bool` by itself. Doing this will not modify any behavior and is safe. If you specifically wanted the numpy scalar type, use `np.bool_` here.\n",
      "Deprecated in NumPy 1.20; for more details and guidance: https://numpy.org/devdocs/release/1.20.0-notes.html#deprecations\n",
      "  allready_terminated = np.zeros(self.n_multi_envs, np.bool)\n"
     ]
    },
    {
     "name": "stdout",
     "output_type": "stream",
     "text": [
      "average_rewards           0.754885\n",
      "average_termination     242.000000\n",
      "average_q_val             0.514891\n",
      "average_target_q_val      0.480696\n",
      "l2_diff                   0.041155\n",
      "average_loss              0.002833\n",
      "dtype: float64\n",
      "Logging Model Metrics\n"
     ]
    },
    {
     "name": "stderr",
     "output_type": "stream",
     "text": [
      "/tmp/ipykernel_14150/3670605584.py:197: DeprecationWarning: `np.bool` is a deprecated alias for the builtin `bool`. To silence this warning, use `bool` by itself. Doing this will not modify any behavior and is safe. If you specifically wanted the numpy scalar type, use `np.bool_` here.\n",
      "Deprecated in NumPy 1.20; for more details and guidance: https://numpy.org/devdocs/release/1.20.0-notes.html#deprecations\n",
      "  allready_terminated = np.zeros(self.n_multi_envs, np.bool)\n"
     ]
    },
    {
     "name": "stdout",
     "output_type": "stream",
     "text": [
      "average_rewards           0.741042\n",
      "average_termination     435.466667\n",
      "average_q_val             0.553810\n",
      "average_target_q_val      0.550214\n",
      "l2_diff                   0.025178\n",
      "average_loss              0.002077\n",
      "dtype: float64\n",
      "Saving Checkpoint\n",
      "Logging Model Metrics\n"
     ]
    },
    {
     "name": "stderr",
     "output_type": "stream",
     "text": [
      "/tmp/ipykernel_14150/3670605584.py:197: DeprecationWarning: `np.bool` is a deprecated alias for the builtin `bool`. To silence this warning, use `bool` by itself. Doing this will not modify any behavior and is safe. If you specifically wanted the numpy scalar type, use `np.bool_` here.\n",
      "Deprecated in NumPy 1.20; for more details and guidance: https://numpy.org/devdocs/release/1.20.0-notes.html#deprecations\n",
      "  allready_terminated = np.zeros(self.n_multi_envs, np.bool)\n"
     ]
    },
    {
     "name": "stdout",
     "output_type": "stream",
     "text": [
      "average_rewards           0.613689\n",
      "average_termination     207.125000\n",
      "average_q_val             0.558106\n",
      "average_target_q_val      0.543784\n",
      "l2_diff                   0.021840\n",
      "average_loss              0.003634\n",
      "dtype: float64\n",
      "Saving Checkpoint\n",
      "Logging Model Metrics\n"
     ]
    },
    {
     "name": "stderr",
     "output_type": "stream",
     "text": [
      "/tmp/ipykernel_14150/3670605584.py:197: DeprecationWarning: `np.bool` is a deprecated alias for the builtin `bool`. To silence this warning, use `bool` by itself. Doing this will not modify any behavior and is safe. If you specifically wanted the numpy scalar type, use `np.bool_` here.\n",
      "Deprecated in NumPy 1.20; for more details and guidance: https://numpy.org/devdocs/release/1.20.0-notes.html#deprecations\n",
      "  allready_terminated = np.zeros(self.n_multi_envs, np.bool)\n"
     ]
    },
    {
     "name": "stdout",
     "output_type": "stream",
     "text": [
      "average_rewards           0.742208\n",
      "average_termination     538.888889\n",
      "average_q_val             0.461655\n",
      "average_target_q_val      0.461676\n",
      "l2_diff                   0.030208\n",
      "average_loss              0.002383\n",
      "dtype: float64\n",
      "Saving Checkpoint\n",
      "Logging Model Metrics\n"
     ]
    },
    {
     "name": "stderr",
     "output_type": "stream",
     "text": [
      "/tmp/ipykernel_14150/3670605584.py:197: DeprecationWarning: `np.bool` is a deprecated alias for the builtin `bool`. To silence this warning, use `bool` by itself. Doing this will not modify any behavior and is safe. If you specifically wanted the numpy scalar type, use `np.bool_` here.\n",
      "Deprecated in NumPy 1.20; for more details and guidance: https://numpy.org/devdocs/release/1.20.0-notes.html#deprecations\n",
      "  allready_terminated = np.zeros(self.n_multi_envs, np.bool)\n"
     ]
    },
    {
     "name": "stdout",
     "output_type": "stream",
     "text": [
      "average_rewards           0.562692\n",
      "average_termination     268.900000\n",
      "average_q_val             0.487788\n",
      "average_target_q_val      0.477911\n",
      "l2_diff                   0.028137\n",
      "average_loss              0.005207\n",
      "dtype: float64\n"
     ]
    }
   ],
   "source": [
    "outer_steps = 0\n",
    "\n",
    "env_sampler.reset_env()\n",
    "\n",
    "\n",
    "\n",
    "while True:\n",
    "    \n",
    "\n",
    "    outer_steps +=1\n",
    "    EXPLORATION_RATE *= EPSILON_DECAY\n",
    "    \n",
    "    ds = replay_buffer.generate_tf_dataset(N_BATCHES, BATCHSIZE)\n",
    "    \n",
    "    bar = ds # tqdm.tqdm(ds)\n",
    "    \n",
    "    losses = []\n",
    "\n",
    "    for data in bar:\n",
    "\n",
    "        loss = update_q_network(data, q_net, target_net, optimizer, GAMMA)\n",
    "        \n",
    "        \n",
    "        losses.append(loss)\n",
    "        mean_loss = float(np.mean(losses))\n",
    "        # bar.set_description(f\"Loss {mean_loss:.6f}\")\n",
    "\n",
    "    mean_loss = float(np.mean(losses))\n",
    "    \n",
    "    with writer.as_default():\n",
    "\n",
    "        tf.summary.scalar(\"loss\", mean_loss, step=outer_steps)\n",
    "        tf.summary.scalar(\"epsilon\", EXPLORATION_RATE, step=outer_steps)\n",
    "\n",
    "\n",
    "    new_samples = env_sampler.sample(N_NEW_SAMPLES, epsilon= EXPLORATION_RATE)\n",
    "    replay_buffer.add_new_trajectory(new_samples)\n",
    "\n",
    "    replay_buffer.drop_first_trajectory()\n",
    "\n",
    "    polyak_averaging(target_net, q_net, TAU)\n",
    "    \n",
    "    \n",
    "    if outer_steps % LOG_FREQ == 0:\n",
    "        \n",
    "        print(\"Logging Model Metrics\")\n",
    "        \n",
    "        results = env_sampler.measure_model_perforamnce( GAMMA, target_net)\n",
    "        names = [\"average_rewards\", \"average_termination\", \"average_q_val\", \"average_target_q_val\", \"l2_diff\",]\n",
    "\n",
    "        for val, name in zip(results, names):\n",
    "\n",
    "            with writer.as_default():\n",
    "\n",
    "                tf.summary.scalar(name, val, step=outer_steps)\n",
    "\n",
    "        results = pd.Series(results, names)\n",
    "        \n",
    "        results[\"average_loss\"] = np.mean(losses)\n",
    "        \n",
    "        results.to_json(TMP_LOG_PATH.format(outer_steps))\n",
    "        \n",
    "        print(results)\n",
    "        \n",
    "        \n",
    "    if outer_steps % CHECKPOINT_FREQ == 0:\n",
    "        \n",
    "        print(\"Saving Checkpoint\")\n",
    "        \n",
    "        checkpoint.save(TMP_SAVE_TO_PATH)"
   ]
  }
 ],
 "metadata": {
  "kernelspec": {
   "display_name": "tf",
   "language": "python",
   "name": "python3"
  },
  "language_info": {
   "codemirror_mode": {
    "name": "ipython",
    "version": 3
   },
   "file_extension": ".py",
   "mimetype": "text/x-python",
   "name": "python",
   "nbconvert_exporter": "python",
   "pygments_lexer": "ipython3",
   "version": "3.10.9"
  },
  "orig_nbformat": 4
 },
 "nbformat": 4,
 "nbformat_minor": 2
}
