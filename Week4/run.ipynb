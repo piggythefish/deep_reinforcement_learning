{
 "cells": [
  {
   "cell_type": "code",
   "execution_count": 1,
   "metadata": {},
   "outputs": [],
   "source": [
    "import tensorflow as tf\n",
    "import shutil\n",
    "import numpy as np\n",
    "import tqdm\n",
    "import pandas as pd\n",
    "import os\n",
    "import gymnasium as gym\n",
    "import matplotlib.pyplot as plt\n",
    "import numpy as np\n",
    "import random\n",
    "\n",
    "GAMMA = 0.99\n",
    "TAU = 0.01\n",
    "BATCHSIZE = 128\n",
    "N_BATCHES = 64\n",
    "N_MULTI_ENVS = 64\n",
    "EXPLORATION_RATE = 0.75\n",
    "EPSILON_DECAY = 0.998\n",
    "\n",
    "N_NEW_SAMPLES = 500\n",
    "N_SAMPLE_SETS = 100\n",
    "\n",
    "CHECKPOINT_FREQ = 40\n",
    "LOG_FREQ = 30\n",
    "N_TEST_ENVS = 8"
   ]
  },
  {
   "cell_type": "code",
   "execution_count": 2,
   "metadata": {},
   "outputs": [],
   "source": [
    "TMP_SAVE_TO_PATH = \"ckpts/ckpt\"\n",
    "TMP_LOG_PATH = \"logs/{}.json\"\n",
    "TB_LOGS = \"tb_lobs/run\"\n",
    "\n",
    "\n",
    "os.makedirs(TMP_SAVE_TO_PATH.replace(\"/ckpt\",\"\"), exist_ok= True)\n",
    "os.makedirs(TMP_LOG_PATH.replace(\"/{}.json\",\"\"), exist_ok= True)\n",
    "os.makedirs(TB_LOGS, exist_ok= True)\n",
    "\n",
    "# # get old checkpoint\n",
    "# !cp /content/gdrive/MyDrive/DeepRL/HW4/checkpoint.zip checkpoint.zip\n",
    "# !unzip -d {TMP_SAVE_TO_PATH} checkpoint.zip\n",
    "\n",
    "LOSS = tf.keras.losses.Huber()\n",
    "CNN_SHAPE = (84, 84)\n"
   ]
  },
  {
   "cell_type": "code",
   "execution_count": 3,
   "metadata": {},
   "outputs": [],
   "source": [
    "\n",
    "\n",
    "def triple_conv_block_no_batchnorm(x, filters):\n",
    "\n",
    "    x = tf.keras.layers.Conv2D(\n",
    "        filters, 3, padding='same', activation='relu')(x)\n",
    "    x = tf.keras.layers.Conv2D(\n",
    "        filters, 3, padding='same', activation='relu')(x) + x\n",
    "    x = tf.keras.layers.Conv2D(\n",
    "        filters, 3, padding='same', activation='relu')(x) + x\n",
    "\n",
    "    return x\n",
    "\n",
    "\n",
    "def get_standard_dqn():\n",
    "    tf.keras.backend.clear_session()\n",
    "\n",
    "    inputs = tf.keras.layers.Input(CNN_SHAPE + (3,))\n",
    "\n",
    "    x = triple_conv_block_no_batchnorm(inputs, 16)\n",
    "    x = tf.keras.layers.MaxPool2D(2)(x)\n",
    "    x = triple_conv_block_no_batchnorm(x, 32)\n",
    "    x = tf.keras.layers.MaxPool2D(2)(x)\n",
    "    x = triple_conv_block_no_batchnorm(x, 64)\n",
    "    x = tf.keras.layers.GlobalAveragePooling2D()(x)\n",
    "    x = tf.keras.layers.Dense(512, \"relu\")(x)\n",
    "    outputs = tf.keras.layers.Dense(4, \"linear\")(x)\n",
    "\n",
    "    model = tf.keras.Model(inputs, outputs, name=\"standard_dqn\")\n",
    "\n",
    "    return model\n",
    "\n",
    "\n",
    "def get_small_dqn():\n",
    "    tf.keras.backend.clear_session()\n",
    "\n",
    "    inputs = tf.keras.layers.Input(CNN_SHAPE + (3,))\n",
    "    x = triple_conv_block_no_batchnorm(inputs, 10)\n",
    "    x = tf.keras.layers.MaxPool2D(2)(x)\n",
    "    x = triple_conv_block_no_batchnorm(x, 20)\n",
    "    x = tf.keras.layers.GlobalAveragePooling2D()(x)\n",
    "    x = tf.keras.layers.Dense(512, \"relu\")(x)\n",
    "    outputs = tf.keras.layers.Dense(4, \"linear\")(x)\n",
    "\n",
    "    model = tf.keras.Model(inputs, outputs, name=\"standard_dqn\")\n",
    "\n",
    "    return model\n",
    "\n",
    "\n",
    "@tf.function\n",
    "def sample_trajectory(dqn, state, epsilon=0.2):\n",
    "\n",
    "    n_par = tf.shape(state)[0]\n",
    "\n",
    "    mask = tf.random.uniform((n_par,), 0, 1, tf.float32) > epsilon\n",
    "\n",
    "    predictions = dqn(state, training=False)\n",
    "    max_actions = tf.math.argmax(predictions, axis=-1)\n",
    "\n",
    "    random_choices = tf.random.uniform(\n",
    "        shape=[n_par], minval=0, maxval=4, dtype=tf.int64)\n",
    "\n",
    "    return tf.where(mask, max_actions, random_choices), tf.reduce_max(predictions, -1)\n",
    "\n",
    "\n",
    "@tf.function\n",
    "def preprocess_all(observation, next_observation, action, reward, terminated):\n",
    "\n",
    "    observation = tf.cast(observation, tf.float32)/255\n",
    "    observation = tf.image.resize(observation, CNN_SHAPE)\n",
    "\n",
    "    next_observation = tf.cast(next_observation, tf.float32)/255\n",
    "    next_observation = tf.image.resize(next_observation, CNN_SHAPE)\n",
    "\n",
    "    action = tf.cast(action, tf.int64)\n",
    "    reward = tf.cast(reward, tf.float32)\n",
    "    terminated = tf.cast(terminated, tf.bool)\n",
    "\n",
    "    return observation, next_observation, action, reward, terminated\n",
    "\n",
    "\n",
    "@tf.function\n",
    "def preprocess_obersvation(observation):\n",
    "\n",
    "    observation = tf.cast(observation, tf.float32)/255\n",
    "\n",
    "    return tf.image.resize(observation, CNN_SHAPE)\n",
    "\n",
    "\n",
    "@tf.function\n",
    "def polyak_averaging(Q_target, Q_dqn, tau):\n",
    "    \"\"\"\n",
    "\n",
    "    Args:\n",
    "        Q_target (_type_): _description_\n",
    "        Q_dqn (_type_): _description_\n",
    "        tau (_type_): _description_\n",
    "    \"\"\"\n",
    "\n",
    "    for old, new in zip(Q_target.trainable_variables, Q_dqn.trainable_variables):\n",
    "        update = old * (1 - tau) + new * tau\n",
    "        old.assign(update)\n",
    "\n",
    "\n",
    "@tf.function\n",
    "def update_q_network(data, dqn, q_target, optimizer, gamma):\n",
    "\n",
    "    state, next_state, action, reward, terminated = data\n",
    "\n",
    "    s_prime_values = q_target(next_state, training=False)\n",
    "    s_prime_values = tf.reduce_max(s_prime_values, -1)\n",
    "    \n",
    "    punishment = tf.ones_like(reward) * -1\n",
    "    labels = reward + gamma * s_prime_values\n",
    "    \n",
    "    labels = tf.where(terminated, punishment, labels)\n",
    "\n",
    "    with tf.GradientTape() as tape:\n",
    "\n",
    "        predictions = dqn(state, training=True)\n",
    "        action_values = tf.gather(predictions, action, batch_dims=1)\n",
    "\n",
    "        loss = LOSS(action_values, labels)\n",
    "\n",
    "    gradients = tape.gradient(loss, dqn.trainable_variables)\n",
    "    optimizer.apply_gradients(zip(gradients, dqn.trainable_variables))\n",
    "    return loss\n",
    "\n",
    "\n",
    "class ENV_SAMPLER:\n",
    "    \"\"\"\n",
    "    Class for sampling environment data using a DQN model.\n",
    "    \"\"\"\n",
    "\n",
    "    def __init__(self, dqn, n_multi_envs) -> None:\n",
    "        \"\"\"\n",
    "        Initialize the ENV_SAMPLER instance.\n",
    "\n",
    "        Args:\n",
    "            env: The environment to sample from.\n",
    "            dqn: The DQN model for action selection.\n",
    "            n_multi_envs: The number of parallel environments.\n",
    "            preprocess_observation: Function to preprocess observations.\n",
    "        \"\"\"\n",
    "        self.env = gym.vector.make('ALE/Breakout-v5', num_envs=n_multi_envs)\n",
    "        self.current_state = self.env.reset()[0]\n",
    "        self.dqn = dqn\n",
    "        self.n_multi_envs = n_multi_envs\n",
    "\n",
    "    def reset_env(self):\n",
    "        \"\"\"\n",
    "        Reset the environment to the initial state.\n",
    "        \"\"\"\n",
    "        self.current_state = self.env.reset()[0]\n",
    "\n",
    "    def sample(self, n_samples, epsilon=0.2):\n",
    "        \"\"\"\n",
    "        Sample environment data.\n",
    "\n",
    "        Args:\n",
    "            n_samples: The number of samples to generate.\n",
    "            epsilon: The exploration factor for action selection (default: 0.2).\n",
    "\n",
    "        Returns:\n",
    "            samples: List of sampled data tuples (current_state, next_state, action, reward, terminated).\n",
    "        \"\"\"\n",
    "        samples = []\n",
    "\n",
    "        n_steps = np.ceil(n_samples / self.n_multi_envs).astype(int)\n",
    "\n",
    "        for _ in range(n_steps):\n",
    "            oberservation_as_tensor = preprocess_obersvation(\n",
    "                self.current_state)\n",
    "\n",
    "            action, q_vals = map(lambda x: x.numpy(), sample_trajectory(\n",
    "                self.dqn, oberservation_as_tensor, epsilon))\n",
    "\n",
    "            observation, reward, terminated, truncated, info = self.env.step(\n",
    "                action)\n",
    "\n",
    "            for i in range(self.n_multi_envs):\n",
    "                samples.append((self.current_state[i],\n",
    "                                observation[i],\n",
    "                                action[i],\n",
    "                                reward[i],\n",
    "                                terminated[i]))\n",
    "\n",
    "            self.current_state = observation\n",
    "\n",
    "        return samples[:n_samples]\n",
    "\n",
    "    def measure_model_perforamnce(self, gamma: float, target_q, n_test_envs = 4):\n",
    "\n",
    "        test_env = gym.vector.make('ALE/Breakout-v5', num_envs=n_test_envs)\n",
    "\n",
    "        current_state = test_env.reset()[0]\n",
    "\n",
    "\n",
    "        rewards = np.zeros(n_test_envs)\n",
    "        terminated_at = []\n",
    "        q_values = []\n",
    "        target_q_values = []\n",
    "\n",
    "        allready_terminated = np.zeros(n_test_envs, np.bool)\n",
    "\n",
    "        steps = 0\n",
    "\n",
    "        while True:\n",
    "            \n",
    "\n",
    "            oberservation_as_tensor = preprocess_obersvation(\n",
    "                current_state)\n",
    "\n",
    "            action, q_vals = map(lambda x: x.numpy(), sample_trajectory(\n",
    "                self.dqn, oberservation_as_tensor, 0.05))\n",
    "\n",
    "            target_vals = tf.reduce_max(target_q(oberservation_as_tensor), -1)\n",
    "\n",
    "            observation, reward, terminated, truncated, info = test_env.step(\n",
    "                action)\n",
    "\n",
    "            current_state = observation\n",
    "\n",
    "            rewards += (gamma ** steps) * reward * (1 - allready_terminated)\n",
    "\n",
    "\n",
    "            allready_terminated = np.logical_or(\n",
    "                allready_terminated, terminated)\n",
    "\n",
    "            for index,t in enumerate(terminated):\n",
    "\n",
    "                if t:\n",
    "                    terminated_at.append(steps)\n",
    "\n",
    "            q_values.extend(q_vals.tolist())\n",
    "            target_q_values.extend(target_vals.numpy().tolist())\n",
    "\n",
    "            steps += 1\n",
    "\n",
    "            if allready_terminated.all():\n",
    "\n",
    "                break\n",
    "\n",
    "        average_q_val = np.mean(q_values)\n",
    "        average_target_q_val = np.mean(target_q_values)\n",
    "\n",
    "        l2_diff = np.array(q_values) - np.array(target_q_values)\n",
    "        l2_diff = np.sqrt(np.square(l2_diff).mean())\n",
    "\n",
    "        average_rewards = np.mean(rewards)\n",
    "        average_termination = np.mean(terminated_at)\n",
    "        \n",
    "        test_env.close()\n",
    "\n",
    "        return average_rewards, average_termination, average_q_val, average_target_q_val, l2_diff\n",
    "\n",
    "\n",
    "class ReplayBuffer:\n",
    "    \"\"\"\n",
    "    Class for managing a replay buffer for reinforcement learning.\n",
    "    \"\"\"\n",
    "\n",
    "    def __init__(self, ) -> None:\n",
    "        \"\"\"\n",
    "        Initialize the ReplayBuffer instance.\n",
    "\n",
    "        Args:\n",
    "            preprocess_func: Function to preprocess examples.\n",
    "        \"\"\"\n",
    "        self.saved_trajectories = []\n",
    "\n",
    "    def add_new_trajectory(self, trajectory):\n",
    "        \"\"\"\n",
    "        Add a new trajectory to the replay buffer.\n",
    "\n",
    "        Args:\n",
    "            trajectory: List of examples representing a trajectory.\n",
    "        \"\"\"\n",
    "        self.saved_trajectories.append(trajectory)\n",
    "\n",
    "    def drop_first_trajectory(self):\n",
    "        \"\"\"\n",
    "        Remove the oldest trajectory from the replay buffer.\n",
    "        \"\"\"\n",
    "        to_delete = self.saved_trajectories.pop(0)\n",
    "        del to_delete\n",
    "\n",
    "    def sample_singe_example(\n",
    "        self,\n",
    "    ):\n",
    "        \"\"\"\n",
    "        Sample a single example from the replay buffer.\n",
    "\n",
    "        Args:\n",
    "            melt_stop_criteria: Boolean flag indicating whether to consider stop criteria (default: False).\n",
    "\n",
    "        Returns:\n",
    "            example: A single example from a randomly chosen trajectory.\n",
    "        \"\"\"\n",
    "        trajectory = random.choice(self.saved_trajectories)\n",
    "        example = random.choice(trajectory)\n",
    "\n",
    "        states, next_states, actions, rewards, terminations, = example\n",
    "\n",
    "        return states, next_states, actions, rewards, terminations\n",
    "\n",
    "    def sample_n_examples(self, n_examples: int):\n",
    "        \"\"\"\n",
    "        Sample multiple examples from the replay buffer.\n",
    "\n",
    "        Args:\n",
    "            n_examples: The number of examples to sample.\n",
    "\n",
    "        Returns:\n",
    "            states, next_states, actions, rewards, stop_criteria: Arrays of sampled examples.\n",
    "        \"\"\"\n",
    "        trajectories = [self.sample_singe_example() for _ in range(n_examples)]\n",
    "\n",
    "        states, next_states, actions, rewards, stop_criteria = map(\n",
    "            np.array, zip(*trajectories)\n",
    "        )\n",
    "\n",
    "        return states, next_states, actions, rewards, stop_criteria\n",
    "\n",
    "    def generate_tf_dataset(self, n_batches, batchsize):\n",
    "        \"\"\"\n",
    "        Generate a TensorFlow dataset from the replay buffer.\n",
    "\n",
    "        Args:\n",
    "            n_batches: The number of batches to generate.\n",
    "            batchsize: The size of each batch.\n",
    "\n",
    "        Returns:\n",
    "            ds: TensorFlow dataset containing the preprocessed examples.\n",
    "        \"\"\"\n",
    "        n_steps = n_batches * batchsize\n",
    "\n",
    "        ds = self.sample_n_examples(n_steps)\n",
    "        ds = tf.data.Dataset.from_tensor_slices(ds)\n",
    "        ds = ds.map(preprocess_all, tf.data.AUTOTUNE)\n",
    "        ds = ds.batch(batchsize)\n",
    "\n",
    "        return ds"
   ]
  },
  {
   "cell_type": "code",
   "execution_count": 4,
   "metadata": {},
   "outputs": [
    {
     "name": "stderr",
     "output_type": "stream",
     "text": [
      "2023-06-14 18:43:51.886423: I tensorflow/stream_executor/cuda/cuda_gpu_executor.cc:936] successful NUMA node read from SysFS had negative value (-1), but there must be at least one NUMA node, so returning NUMA node zero\n",
      "2023-06-14 18:43:51.893571: I tensorflow/stream_executor/cuda/cuda_gpu_executor.cc:936] successful NUMA node read from SysFS had negative value (-1), but there must be at least one NUMA node, so returning NUMA node zero\n",
      "2023-06-14 18:43:51.893792: I tensorflow/stream_executor/cuda/cuda_gpu_executor.cc:936] successful NUMA node read from SysFS had negative value (-1), but there must be at least one NUMA node, so returning NUMA node zero\n",
      "2023-06-14 18:43:51.894853: I tensorflow/core/platform/cpu_feature_guard.cc:151] This TensorFlow binary is optimized with oneAPI Deep Neural Network Library (oneDNN) to use the following CPU instructions in performance-critical operations:  AVX2 FMA\n",
      "To enable them in other operations, rebuild TensorFlow with the appropriate compiler flags.\n",
      "2023-06-14 18:43:51.895434: I tensorflow/stream_executor/cuda/cuda_gpu_executor.cc:936] successful NUMA node read from SysFS had negative value (-1), but there must be at least one NUMA node, so returning NUMA node zero\n",
      "2023-06-14 18:43:51.895692: I tensorflow/stream_executor/cuda/cuda_gpu_executor.cc:936] successful NUMA node read from SysFS had negative value (-1), but there must be at least one NUMA node, so returning NUMA node zero\n",
      "2023-06-14 18:43:51.895824: I tensorflow/stream_executor/cuda/cuda_gpu_executor.cc:936] successful NUMA node read from SysFS had negative value (-1), but there must be at least one NUMA node, so returning NUMA node zero\n",
      "2023-06-14 18:43:52.312585: I tensorflow/stream_executor/cuda/cuda_gpu_executor.cc:936] successful NUMA node read from SysFS had negative value (-1), but there must be at least one NUMA node, so returning NUMA node zero\n",
      "2023-06-14 18:43:52.312760: I tensorflow/stream_executor/cuda/cuda_gpu_executor.cc:936] successful NUMA node read from SysFS had negative value (-1), but there must be at least one NUMA node, so returning NUMA node zero\n",
      "2023-06-14 18:43:52.312883: I tensorflow/stream_executor/cuda/cuda_gpu_executor.cc:936] successful NUMA node read from SysFS had negative value (-1), but there must be at least one NUMA node, so returning NUMA node zero\n",
      "2023-06-14 18:43:52.312989: I tensorflow/core/common_runtime/gpu/gpu_device.cc:1525] Created device /job:localhost/replica:0/task:0/device:GPU:0 with 6737 MB memory:  -> device: 0, name: NVIDIA GeForce GTX 1070, pci bus id: 0000:01:00.0, compute capability: 6.1\n",
      "A.L.E: Arcade Learning Environment (version 0.8.1+53f58b7)\n",
      "[Powered by Stella]\n"
     ]
    }
   ],
   "source": [
    "optimizer = tf.keras.optimizers.Adam(learning_rate=0.00025, clipnorm=1.0)\n",
    "\n",
    "q_net = get_standard_dqn()\n",
    "\n",
    "target_net = tf.keras.models.clone_model(q_net)\n",
    "\n",
    "env_sampler = ENV_SAMPLER(q_net, N_MULTI_ENVS)\n",
    "replay_buffer = ReplayBuffer()\n",
    "\n",
    "checkpoint = tf.train.Checkpoint(q_net = q_net, target_net = target_net, optimizer = optimizer)\n",
    "\n",
    "writer = tf.summary.create_file_writer(TB_LOGS)\n",
    "\n",
    "# restore\n",
    "# checkpoint.restore(TMP_SAVE_TO_PATH\n",
    "\n"
   ]
  },
  {
   "cell_type": "code",
   "execution_count": 5,
   "metadata": {},
   "outputs": [
    {
     "name": "stderr",
     "output_type": "stream",
     "text": [
      "Fill Buffer initally:   0%|          | 0/100 [00:00<?, ?it/s]2023-06-14 18:43:55.672811: I tensorflow/stream_executor/cuda/cuda_dnn.cc:368] Loaded cuDNN version 8100\n",
      "2023-06-14 18:43:55.873037: I tensorflow/core/platform/default/subprocess.cc:304] Start cannot spawn child process: No such file or directory\n",
      "2023-06-14 18:43:55.873545: I tensorflow/core/platform/default/subprocess.cc:304] Start cannot spawn child process: No such file or directory\n",
      "2023-06-14 18:43:55.873566: W tensorflow/stream_executor/gpu/asm_compiler.cc:80] Couldn't get ptxas version string: INTERNAL: Couldn't invoke ptxas --version\n",
      "2023-06-14 18:43:55.874164: I tensorflow/core/platform/default/subprocess.cc:304] Start cannot spawn child process: No such file or directory\n",
      "2023-06-14 18:43:55.874212: W tensorflow/stream_executor/gpu/redzone_allocator.cc:314] INTERNAL: Failed to launch ptxas\n",
      "Relying on driver to perform ptx compilation. \n",
      "Modify $PATH to customize ptxas location.\n",
      "This message will be only logged once.\n",
      "Fill Buffer initally: 100%|██████████| 100/100 [00:22<00:00,  4.35it/s]\n"
     ]
    }
   ],
   "source": [
    "for _ in tqdm.tqdm(range(N_SAMPLE_SETS), desc = \"Fill Buffer initally\"):\n",
    "\n",
    "    new_samples = env_sampler.sample(N_NEW_SAMPLES, epsilon = 1)\n",
    "    replay_buffer.add_new_trajectory(new_samples)"
   ]
  },
  {
   "cell_type": "code",
   "execution_count": 6,
   "metadata": {},
   "outputs": [
    {
     "name": "stdout",
     "output_type": "stream",
     "text": [
      "Logging Model Metrics\n"
     ]
    },
    {
     "name": "stderr",
     "output_type": "stream",
     "text": [
      "/tmp/ipykernel_74282/1419124661.py:202: DeprecationWarning: `np.bool` is a deprecated alias for the builtin `bool`. To silence this warning, use `bool` by itself. Doing this will not modify any behavior and is safe. If you specifically wanted the numpy scalar type, use `np.bool_` here.\n",
      "Deprecated in NumPy 1.20; for more details and guidance: https://numpy.org/devdocs/release/1.20.0-notes.html#deprecations\n",
      "  allready_terminated = np.zeros(n_test_envs, np.bool)\n"
     ]
    },
    {
     "name": "stdout",
     "output_type": "stream",
     "text": [
      "average_rewards           0.253721\n",
      "average_termination     141.500000\n",
      "average_q_val             0.000774\n",
      "average_target_q_val     -0.004742\n",
      "l2_diff                   0.005517\n",
      "average_loss              0.005713\n",
      "dtype: float64\n",
      "Saving Checkpoint\n",
      "Logging Model Metrics\n"
     ]
    },
    {
     "name": "stderr",
     "output_type": "stream",
     "text": [
      "/tmp/ipykernel_74282/1419124661.py:202: DeprecationWarning: `np.bool` is a deprecated alias for the builtin `bool`. To silence this warning, use `bool` by itself. Doing this will not modify any behavior and is safe. If you specifically wanted the numpy scalar type, use `np.bool_` here.\n",
      "Deprecated in NumPy 1.20; for more details and guidance: https://numpy.org/devdocs/release/1.20.0-notes.html#deprecations\n",
      "  allready_terminated = np.zeros(n_test_envs, np.bool)\n"
     ]
    },
    {
     "name": "stdout",
     "output_type": "stream",
     "text": [
      "average_rewards           0.195423\n",
      "average_termination     583.666667\n",
      "average_q_val             0.004131\n",
      "average_target_q_val     -0.000913\n",
      "l2_diff                   0.005043\n",
      "average_loss              0.006462\n",
      "dtype: float64\n",
      "Saving Checkpoint\n",
      "Logging Model Metrics\n"
     ]
    },
    {
     "name": "stderr",
     "output_type": "stream",
     "text": [
      "/tmp/ipykernel_74282/1419124661.py:202: DeprecationWarning: `np.bool` is a deprecated alias for the builtin `bool`. To silence this warning, use `bool` by itself. Doing this will not modify any behavior and is safe. If you specifically wanted the numpy scalar type, use `np.bool_` here.\n",
      "Deprecated in NumPy 1.20; for more details and guidance: https://numpy.org/devdocs/release/1.20.0-notes.html#deprecations\n",
      "  allready_terminated = np.zeros(n_test_envs, np.bool)\n"
     ]
    },
    {
     "name": "stdout",
     "output_type": "stream",
     "text": [
      "average_rewards           0.351764\n",
      "average_termination     160.250000\n",
      "average_q_val             0.008559\n",
      "average_target_q_val      0.001305\n",
      "l2_diff                   0.007901\n",
      "average_loss              0.005534\n",
      "dtype: float64\n",
      "Logging Model Metrics\n"
     ]
    },
    {
     "name": "stderr",
     "output_type": "stream",
     "text": [
      "/tmp/ipykernel_74282/1419124661.py:202: DeprecationWarning: `np.bool` is a deprecated alias for the builtin `bool`. To silence this warning, use `bool` by itself. Doing this will not modify any behavior and is safe. If you specifically wanted the numpy scalar type, use `np.bool_` here.\n",
      "Deprecated in NumPy 1.20; for more details and guidance: https://numpy.org/devdocs/release/1.20.0-notes.html#deprecations\n",
      "  allready_terminated = np.zeros(n_test_envs, np.bool)\n"
     ]
    },
    {
     "name": "stdout",
     "output_type": "stream",
     "text": [
      "average_rewards           0.052525\n",
      "average_termination     638.444444\n",
      "average_q_val             0.016661\n",
      "average_target_q_val      0.005800\n",
      "l2_diff                   0.042027\n",
      "average_loss              0.006093\n",
      "dtype: float64\n",
      "Saving Checkpoint\n",
      "Logging Model Metrics\n"
     ]
    },
    {
     "name": "stderr",
     "output_type": "stream",
     "text": [
      "/tmp/ipykernel_74282/1419124661.py:202: DeprecationWarning: `np.bool` is a deprecated alias for the builtin `bool`. To silence this warning, use `bool` by itself. Doing this will not modify any behavior and is safe. If you specifically wanted the numpy scalar type, use `np.bool_` here.\n",
      "Deprecated in NumPy 1.20; for more details and guidance: https://numpy.org/devdocs/release/1.20.0-notes.html#deprecations\n",
      "  allready_terminated = np.zeros(n_test_envs, np.bool)\n"
     ]
    },
    {
     "name": "stdout",
     "output_type": "stream",
     "text": [
      "average_rewards           0.485514\n",
      "average_termination     601.375000\n",
      "average_q_val             0.007984\n",
      "average_target_q_val      0.009195\n",
      "l2_diff                   0.062194\n",
      "average_loss              0.002812\n",
      "dtype: float64\n",
      "Saving Checkpoint\n",
      "Logging Model Metrics\n"
     ]
    },
    {
     "name": "stderr",
     "output_type": "stream",
     "text": [
      "/tmp/ipykernel_74282/1419124661.py:202: DeprecationWarning: `np.bool` is a deprecated alias for the builtin `bool`. To silence this warning, use `bool` by itself. Doing this will not modify any behavior and is safe. If you specifically wanted the numpy scalar type, use `np.bool_` here.\n",
      "Deprecated in NumPy 1.20; for more details and guidance: https://numpy.org/devdocs/release/1.20.0-notes.html#deprecations\n",
      "  allready_terminated = np.zeros(n_test_envs, np.bool)\n"
     ]
    },
    {
     "name": "stdout",
     "output_type": "stream",
     "text": [
      "average_rewards           0.107003\n",
      "average_termination     641.888889\n",
      "average_q_val             0.006558\n",
      "average_target_q_val      0.008148\n",
      "l2_diff                   0.058013\n",
      "average_loss              0.002725\n",
      "dtype: float64\n",
      "Saving Checkpoint\n",
      "Logging Model Metrics\n"
     ]
    },
    {
     "name": "stderr",
     "output_type": "stream",
     "text": [
      "/tmp/ipykernel_74282/1419124661.py:202: DeprecationWarning: `np.bool` is a deprecated alias for the builtin `bool`. To silence this warning, use `bool` by itself. Doing this will not modify any behavior and is safe. If you specifically wanted the numpy scalar type, use `np.bool_` here.\n",
      "Deprecated in NumPy 1.20; for more details and guidance: https://numpy.org/devdocs/release/1.20.0-notes.html#deprecations\n",
      "  allready_terminated = np.zeros(n_test_envs, np.bool)\n"
     ]
    },
    {
     "name": "stdout",
     "output_type": "stream",
     "text": [
      "average_rewards           0.332156\n",
      "average_termination     536.375000\n",
      "average_q_val            -0.000657\n",
      "average_target_q_val      0.005374\n",
      "l2_diff                   0.055771\n",
      "average_loss              0.002870\n",
      "dtype: float64\n",
      "Logging Model Metrics\n"
     ]
    },
    {
     "name": "stderr",
     "output_type": "stream",
     "text": [
      "/tmp/ipykernel_74282/1419124661.py:202: DeprecationWarning: `np.bool` is a deprecated alias for the builtin `bool`. To silence this warning, use `bool` by itself. Doing this will not modify any behavior and is safe. If you specifically wanted the numpy scalar type, use `np.bool_` here.\n",
      "Deprecated in NumPy 1.20; for more details and guidance: https://numpy.org/devdocs/release/1.20.0-notes.html#deprecations\n",
      "  allready_terminated = np.zeros(n_test_envs, np.bool)\n"
     ]
    },
    {
     "name": "stdout",
     "output_type": "stream",
     "text": [
      "average_rewards           0.190350\n",
      "average_termination     511.333333\n",
      "average_q_val             0.011376\n",
      "average_target_q_val      0.005473\n",
      "l2_diff                   0.062075\n",
      "average_loss              0.002580\n",
      "dtype: float64\n",
      "Saving Checkpoint\n",
      "Logging Model Metrics\n"
     ]
    },
    {
     "name": "stderr",
     "output_type": "stream",
     "text": [
      "/tmp/ipykernel_74282/1419124661.py:202: DeprecationWarning: `np.bool` is a deprecated alias for the builtin `bool`. To silence this warning, use `bool` by itself. Doing this will not modify any behavior and is safe. If you specifically wanted the numpy scalar type, use `np.bool_` here.\n",
      "Deprecated in NumPy 1.20; for more details and guidance: https://numpy.org/devdocs/release/1.20.0-notes.html#deprecations\n",
      "  allready_terminated = np.zeros(n_test_envs, np.bool)\n"
     ]
    },
    {
     "name": "stdout",
     "output_type": "stream",
     "text": [
      "average_rewards           0.405670\n",
      "average_termination     607.875000\n",
      "average_q_val             0.009722\n",
      "average_target_q_val      0.003610\n",
      "l2_diff                   0.060603\n",
      "average_loss              0.002228\n",
      "dtype: float64\n",
      "Saving Checkpoint\n",
      "Logging Model Metrics\n"
     ]
    },
    {
     "name": "stderr",
     "output_type": "stream",
     "text": [
      "/tmp/ipykernel_74282/1419124661.py:202: DeprecationWarning: `np.bool` is a deprecated alias for the builtin `bool`. To silence this warning, use `bool` by itself. Doing this will not modify any behavior and is safe. If you specifically wanted the numpy scalar type, use `np.bool_` here.\n",
      "Deprecated in NumPy 1.20; for more details and guidance: https://numpy.org/devdocs/release/1.20.0-notes.html#deprecations\n",
      "  allready_terminated = np.zeros(n_test_envs, np.bool)\n"
     ]
    },
    {
     "name": "stdout",
     "output_type": "stream",
     "text": [
      "average_rewards           0.135898\n",
      "average_termination     589.300000\n",
      "average_q_val            -0.009861\n",
      "average_target_q_val     -0.002375\n",
      "l2_diff                   0.050241\n",
      "average_loss              0.001430\n",
      "dtype: float64\n",
      "Saving Checkpoint\n",
      "Logging Model Metrics\n"
     ]
    },
    {
     "name": "stderr",
     "output_type": "stream",
     "text": [
      "/tmp/ipykernel_74282/1419124661.py:202: DeprecationWarning: `np.bool` is a deprecated alias for the builtin `bool`. To silence this warning, use `bool` by itself. Doing this will not modify any behavior and is safe. If you specifically wanted the numpy scalar type, use `np.bool_` here.\n",
      "Deprecated in NumPy 1.20; for more details and guidance: https://numpy.org/devdocs/release/1.20.0-notes.html#deprecations\n",
      "  allready_terminated = np.zeros(n_test_envs, np.bool)\n"
     ]
    },
    {
     "name": "stdout",
     "output_type": "stream",
     "text": [
      "average_rewards           0.255425\n",
      "average_termination     744.900000\n",
      "average_q_val            -0.004450\n",
      "average_target_q_val     -0.001276\n",
      "l2_diff                   0.042399\n",
      "average_loss              0.001633\n",
      "dtype: float64\n",
      "Logging Model Metrics\n"
     ]
    },
    {
     "name": "stderr",
     "output_type": "stream",
     "text": [
      "/tmp/ipykernel_74282/1419124661.py:202: DeprecationWarning: `np.bool` is a deprecated alias for the builtin `bool`. To silence this warning, use `bool` by itself. Doing this will not modify any behavior and is safe. If you specifically wanted the numpy scalar type, use `np.bool_` here.\n",
      "Deprecated in NumPy 1.20; for more details and guidance: https://numpy.org/devdocs/release/1.20.0-notes.html#deprecations\n",
      "  allready_terminated = np.zeros(n_test_envs, np.bool)\n"
     ]
    },
    {
     "name": "stdout",
     "output_type": "stream",
     "text": [
      "average_rewards           0.064668\n",
      "average_termination     690.333333\n",
      "average_q_val            -0.010389\n",
      "average_target_q_val     -0.006658\n",
      "l2_diff                   0.032445\n",
      "average_loss              0.002119\n",
      "dtype: float64\n",
      "Saving Checkpoint\n",
      "Logging Model Metrics\n"
     ]
    },
    {
     "name": "stderr",
     "output_type": "stream",
     "text": [
      "/tmp/ipykernel_74282/1419124661.py:202: DeprecationWarning: `np.bool` is a deprecated alias for the builtin `bool`. To silence this warning, use `bool` by itself. Doing this will not modify any behavior and is safe. If you specifically wanted the numpy scalar type, use `np.bool_` here.\n",
      "Deprecated in NumPy 1.20; for more details and guidance: https://numpy.org/devdocs/release/1.20.0-notes.html#deprecations\n",
      "  allready_terminated = np.zeros(n_test_envs, np.bool)\n"
     ]
    },
    {
     "name": "stdout",
     "output_type": "stream",
     "text": [
      "average_rewards           0.196148\n",
      "average_termination     581.000000\n",
      "average_q_val             0.005292\n",
      "average_target_q_val      0.002223\n",
      "l2_diff                   0.034593\n",
      "average_loss              0.001827\n",
      "dtype: float64\n",
      "Saving Checkpoint\n",
      "Logging Model Metrics\n"
     ]
    },
    {
     "name": "stderr",
     "output_type": "stream",
     "text": [
      "/tmp/ipykernel_74282/1419124661.py:202: DeprecationWarning: `np.bool` is a deprecated alias for the builtin `bool`. To silence this warning, use `bool` by itself. Doing this will not modify any behavior and is safe. If you specifically wanted the numpy scalar type, use `np.bool_` here.\n",
      "Deprecated in NumPy 1.20; for more details and guidance: https://numpy.org/devdocs/release/1.20.0-notes.html#deprecations\n",
      "  allready_terminated = np.zeros(n_test_envs, np.bool)\n"
     ]
    },
    {
     "name": "stdout",
     "output_type": "stream",
     "text": [
      "average_rewards           0.471721\n",
      "average_termination     346.750000\n",
      "average_q_val             0.014248\n",
      "average_target_q_val      0.010201\n",
      "l2_diff                   0.047051\n",
      "average_loss              0.001586\n",
      "dtype: float64\n",
      "Saving Checkpoint\n",
      "Logging Model Metrics\n"
     ]
    },
    {
     "name": "stderr",
     "output_type": "stream",
     "text": [
      "/tmp/ipykernel_74282/1419124661.py:202: DeprecationWarning: `np.bool` is a deprecated alias for the builtin `bool`. To silence this warning, use `bool` by itself. Doing this will not modify any behavior and is safe. If you specifically wanted the numpy scalar type, use `np.bool_` here.\n",
      "Deprecated in NumPy 1.20; for more details and guidance: https://numpy.org/devdocs/release/1.20.0-notes.html#deprecations\n",
      "  allready_terminated = np.zeros(n_test_envs, np.bool)\n"
     ]
    },
    {
     "name": "stdout",
     "output_type": "stream",
     "text": [
      "average_rewards           0.287925\n",
      "average_termination     506.111111\n",
      "average_q_val             0.004255\n",
      "average_target_q_val      0.003542\n",
      "l2_diff                   0.035024\n",
      "average_loss              0.002324\n",
      "dtype: float64\n",
      "Logging Model Metrics\n"
     ]
    },
    {
     "name": "stderr",
     "output_type": "stream",
     "text": [
      "/tmp/ipykernel_74282/1419124661.py:202: DeprecationWarning: `np.bool` is a deprecated alias for the builtin `bool`. To silence this warning, use `bool` by itself. Doing this will not modify any behavior and is safe. If you specifically wanted the numpy scalar type, use `np.bool_` here.\n",
      "Deprecated in NumPy 1.20; for more details and guidance: https://numpy.org/devdocs/release/1.20.0-notes.html#deprecations\n",
      "  allready_terminated = np.zeros(n_test_envs, np.bool)\n"
     ]
    },
    {
     "name": "stdout",
     "output_type": "stream",
     "text": [
      "average_rewards           0.889654\n",
      "average_termination     196.000000\n",
      "average_q_val             0.027793\n",
      "average_target_q_val      0.016033\n",
      "l2_diff                   0.056971\n",
      "average_loss              0.001771\n",
      "dtype: float64\n",
      "Saving Checkpoint\n",
      "Logging Model Metrics\n"
     ]
    },
    {
     "name": "stderr",
     "output_type": "stream",
     "text": [
      "/tmp/ipykernel_74282/1419124661.py:202: DeprecationWarning: `np.bool` is a deprecated alias for the builtin `bool`. To silence this warning, use `bool` by itself. Doing this will not modify any behavior and is safe. If you specifically wanted the numpy scalar type, use `np.bool_` here.\n",
      "Deprecated in NumPy 1.20; for more details and guidance: https://numpy.org/devdocs/release/1.20.0-notes.html#deprecations\n",
      "  allready_terminated = np.zeros(n_test_envs, np.bool)\n"
     ]
    },
    {
     "name": "stdout",
     "output_type": "stream",
     "text": [
      "average_rewards           0.406913\n",
      "average_termination     810.200000\n",
      "average_q_val             0.001150\n",
      "average_target_q_val     -0.000452\n",
      "l2_diff                   0.033197\n",
      "average_loss              0.002047\n",
      "dtype: float64\n",
      "Saving Checkpoint\n",
      "Logging Model Metrics\n"
     ]
    },
    {
     "name": "stderr",
     "output_type": "stream",
     "text": [
      "/tmp/ipykernel_74282/1419124661.py:202: DeprecationWarning: `np.bool` is a deprecated alias for the builtin `bool`. To silence this warning, use `bool` by itself. Doing this will not modify any behavior and is safe. If you specifically wanted the numpy scalar type, use `np.bool_` here.\n",
      "Deprecated in NumPy 1.20; for more details and guidance: https://numpy.org/devdocs/release/1.20.0-notes.html#deprecations\n",
      "  allready_terminated = np.zeros(n_test_envs, np.bool)\n"
     ]
    },
    {
     "name": "stdout",
     "output_type": "stream",
     "text": [
      "average_rewards           0.217609\n",
      "average_termination     143.750000\n",
      "average_q_val             0.011894\n",
      "average_target_q_val      0.004687\n",
      "l2_diff                   0.038790\n",
      "average_loss              0.001738\n",
      "dtype: float64\n",
      "Saving Checkpoint\n",
      "Logging Model Metrics\n"
     ]
    },
    {
     "name": "stderr",
     "output_type": "stream",
     "text": [
      "/tmp/ipykernel_74282/1419124661.py:202: DeprecationWarning: `np.bool` is a deprecated alias for the builtin `bool`. To silence this warning, use `bool` by itself. Doing this will not modify any behavior and is safe. If you specifically wanted the numpy scalar type, use `np.bool_` here.\n",
      "Deprecated in NumPy 1.20; for more details and guidance: https://numpy.org/devdocs/release/1.20.0-notes.html#deprecations\n",
      "  allready_terminated = np.zeros(n_test_envs, np.bool)\n"
     ]
    },
    {
     "name": "stdout",
     "output_type": "stream",
     "text": [
      "average_rewards           0.920557\n",
      "average_termination     208.375000\n",
      "average_q_val             0.035200\n",
      "average_target_q_val      0.023797\n",
      "l2_diff                   0.057971\n",
      "average_loss              0.001511\n",
      "dtype: float64\n",
      "Logging Model Metrics\n"
     ]
    },
    {
     "name": "stderr",
     "output_type": "stream",
     "text": [
      "/tmp/ipykernel_74282/1419124661.py:202: DeprecationWarning: `np.bool` is a deprecated alias for the builtin `bool`. To silence this warning, use `bool` by itself. Doing this will not modify any behavior and is safe. If you specifically wanted the numpy scalar type, use `np.bool_` here.\n",
      "Deprecated in NumPy 1.20; for more details and guidance: https://numpy.org/devdocs/release/1.20.0-notes.html#deprecations\n",
      "  allready_terminated = np.zeros(n_test_envs, np.bool)\n"
     ]
    },
    {
     "name": "stdout",
     "output_type": "stream",
     "text": [
      "average_rewards           0.880860\n",
      "average_termination     208.125000\n",
      "average_q_val             0.037417\n",
      "average_target_q_val      0.027688\n",
      "l2_diff                   0.061922\n",
      "average_loss              0.002321\n",
      "dtype: float64\n",
      "Saving Checkpoint\n",
      "Logging Model Metrics\n"
     ]
    },
    {
     "name": "stderr",
     "output_type": "stream",
     "text": [
      "/tmp/ipykernel_74282/1419124661.py:202: DeprecationWarning: `np.bool` is a deprecated alias for the builtin `bool`. To silence this warning, use `bool` by itself. Doing this will not modify any behavior and is safe. If you specifically wanted the numpy scalar type, use `np.bool_` here.\n",
      "Deprecated in NumPy 1.20; for more details and guidance: https://numpy.org/devdocs/release/1.20.0-notes.html#deprecations\n",
      "  allready_terminated = np.zeros(n_test_envs, np.bool)\n"
     ]
    },
    {
     "name": "stdout",
     "output_type": "stream",
     "text": [
      "average_rewards           0.291852\n",
      "average_termination     502.000000\n",
      "average_q_val             0.028076\n",
      "average_target_q_val      0.020383\n",
      "l2_diff                   0.042854\n",
      "average_loss              0.001950\n",
      "dtype: float64\n",
      "Saving Checkpoint\n",
      "Logging Model Metrics\n"
     ]
    },
    {
     "name": "stderr",
     "output_type": "stream",
     "text": [
      "/tmp/ipykernel_74282/1419124661.py:202: DeprecationWarning: `np.bool` is a deprecated alias for the builtin `bool`. To silence this warning, use `bool` by itself. Doing this will not modify any behavior and is safe. If you specifically wanted the numpy scalar type, use `np.bool_` here.\n",
      "Deprecated in NumPy 1.20; for more details and guidance: https://numpy.org/devdocs/release/1.20.0-notes.html#deprecations\n",
      "  allready_terminated = np.zeros(n_test_envs, np.bool)\n"
     ]
    },
    {
     "name": "stdout",
     "output_type": "stream",
     "text": [
      "average_rewards           0.514936\n",
      "average_termination     319.600000\n",
      "average_q_val             0.031809\n",
      "average_target_q_val      0.023262\n",
      "l2_diff                   0.048263\n",
      "average_loss              0.001964\n",
      "dtype: float64\n",
      "Saving Checkpoint\n",
      "Logging Model Metrics\n"
     ]
    },
    {
     "name": "stderr",
     "output_type": "stream",
     "text": [
      "/tmp/ipykernel_74282/1419124661.py:202: DeprecationWarning: `np.bool` is a deprecated alias for the builtin `bool`. To silence this warning, use `bool` by itself. Doing this will not modify any behavior and is safe. If you specifically wanted the numpy scalar type, use `np.bool_` here.\n",
      "Deprecated in NumPy 1.20; for more details and guidance: https://numpy.org/devdocs/release/1.20.0-notes.html#deprecations\n",
      "  allready_terminated = np.zeros(n_test_envs, np.bool)\n"
     ]
    },
    {
     "name": "stdout",
     "output_type": "stream",
     "text": [
      "average_rewards           0.304071\n",
      "average_termination     149.125000\n",
      "average_q_val             0.015367\n",
      "average_target_q_val      0.016044\n",
      "l2_diff                   0.049994\n",
      "average_loss              0.002011\n",
      "dtype: float64\n",
      "Logging Model Metrics\n"
     ]
    },
    {
     "name": "stderr",
     "output_type": "stream",
     "text": [
      "/tmp/ipykernel_74282/1419124661.py:202: DeprecationWarning: `np.bool` is a deprecated alias for the builtin `bool`. To silence this warning, use `bool` by itself. Doing this will not modify any behavior and is safe. If you specifically wanted the numpy scalar type, use `np.bool_` here.\n",
      "Deprecated in NumPy 1.20; for more details and guidance: https://numpy.org/devdocs/release/1.20.0-notes.html#deprecations\n",
      "  allready_terminated = np.zeros(n_test_envs, np.bool)\n"
     ]
    },
    {
     "name": "stdout",
     "output_type": "stream",
     "text": [
      "average_rewards           0.106524\n",
      "average_termination     584.428571\n",
      "average_q_val             0.018883\n",
      "average_target_q_val      0.015216\n",
      "l2_diff                   0.031544\n",
      "average_loss              0.001777\n",
      "dtype: float64\n",
      "Saving Checkpoint\n",
      "Logging Model Metrics\n"
     ]
    },
    {
     "name": "stderr",
     "output_type": "stream",
     "text": [
      "/tmp/ipykernel_74282/1419124661.py:202: DeprecationWarning: `np.bool` is a deprecated alias for the builtin `bool`. To silence this warning, use `bool` by itself. Doing this will not modify any behavior and is safe. If you specifically wanted the numpy scalar type, use `np.bool_` here.\n",
      "Deprecated in NumPy 1.20; for more details and guidance: https://numpy.org/devdocs/release/1.20.0-notes.html#deprecations\n",
      "  allready_terminated = np.zeros(n_test_envs, np.bool)\n"
     ]
    },
    {
     "name": "stdout",
     "output_type": "stream",
     "text": [
      "average_rewards           0.879791\n",
      "average_termination     202.000000\n",
      "average_q_val             0.043686\n",
      "average_target_q_val      0.033004\n",
      "l2_diff                   0.058708\n",
      "average_loss              0.001437\n",
      "dtype: float64\n",
      "Saving Checkpoint\n",
      "Logging Model Metrics\n"
     ]
    },
    {
     "name": "stderr",
     "output_type": "stream",
     "text": [
      "/tmp/ipykernel_74282/1419124661.py:202: DeprecationWarning: `np.bool` is a deprecated alias for the builtin `bool`. To silence this warning, use `bool` by itself. Doing this will not modify any behavior and is safe. If you specifically wanted the numpy scalar type, use `np.bool_` here.\n",
      "Deprecated in NumPy 1.20; for more details and guidance: https://numpy.org/devdocs/release/1.20.0-notes.html#deprecations\n",
      "  allready_terminated = np.zeros(n_test_envs, np.bool)\n"
     ]
    },
    {
     "name": "stdout",
     "output_type": "stream",
     "text": [
      "average_rewards           0.210834\n",
      "average_termination     489.600000\n",
      "average_q_val             0.035335\n",
      "average_target_q_val      0.022807\n",
      "l2_diff                   0.041349\n",
      "average_loss              0.001328\n",
      "dtype: float64\n",
      "Saving Checkpoint\n",
      "Logging Model Metrics\n"
     ]
    },
    {
     "name": "stderr",
     "output_type": "stream",
     "text": [
      "/tmp/ipykernel_74282/1419124661.py:202: DeprecationWarning: `np.bool` is a deprecated alias for the builtin `bool`. To silence this warning, use `bool` by itself. Doing this will not modify any behavior and is safe. If you specifically wanted the numpy scalar type, use `np.bool_` here.\n",
      "Deprecated in NumPy 1.20; for more details and guidance: https://numpy.org/devdocs/release/1.20.0-notes.html#deprecations\n",
      "  allready_terminated = np.zeros(n_test_envs, np.bool)\n"
     ]
    },
    {
     "name": "stdout",
     "output_type": "stream",
     "text": [
      "average_rewards           0.302827\n",
      "average_termination     585.428571\n",
      "average_q_val             0.024851\n",
      "average_target_q_val      0.020797\n",
      "l2_diff                   0.030113\n",
      "average_loss              0.001217\n",
      "dtype: float64\n",
      "Logging Model Metrics\n"
     ]
    },
    {
     "name": "stderr",
     "output_type": "stream",
     "text": [
      "/tmp/ipykernel_74282/1419124661.py:202: DeprecationWarning: `np.bool` is a deprecated alias for the builtin `bool`. To silence this warning, use `bool` by itself. Doing this will not modify any behavior and is safe. If you specifically wanted the numpy scalar type, use `np.bool_` here.\n",
      "Deprecated in NumPy 1.20; for more details and guidance: https://numpy.org/devdocs/release/1.20.0-notes.html#deprecations\n",
      "  allready_terminated = np.zeros(n_test_envs, np.bool)\n"
     ]
    },
    {
     "name": "stdout",
     "output_type": "stream",
     "text": [
      "average_rewards           0.079064\n",
      "average_termination     432.375000\n",
      "average_q_val             0.023869\n",
      "average_target_q_val      0.023750\n",
      "l2_diff                   0.037354\n",
      "average_loss              0.001256\n",
      "dtype: float64\n",
      "Saving Checkpoint\n",
      "Logging Model Metrics\n"
     ]
    },
    {
     "name": "stderr",
     "output_type": "stream",
     "text": [
      "/tmp/ipykernel_74282/1419124661.py:202: DeprecationWarning: `np.bool` is a deprecated alias for the builtin `bool`. To silence this warning, use `bool` by itself. Doing this will not modify any behavior and is safe. If you specifically wanted the numpy scalar type, use `np.bool_` here.\n",
      "Deprecated in NumPy 1.20; for more details and guidance: https://numpy.org/devdocs/release/1.20.0-notes.html#deprecations\n",
      "  allready_terminated = np.zeros(n_test_envs, np.bool)\n"
     ]
    },
    {
     "name": "stdout",
     "output_type": "stream",
     "text": [
      "average_rewards           0.241643\n",
      "average_termination     353.888889\n",
      "average_q_val             0.025695\n",
      "average_target_q_val      0.019529\n",
      "l2_diff                   0.034893\n",
      "average_loss              0.001455\n",
      "dtype: float64\n",
      "Saving Checkpoint\n",
      "Logging Model Metrics\n"
     ]
    },
    {
     "name": "stderr",
     "output_type": "stream",
     "text": [
      "/tmp/ipykernel_74282/1419124661.py:202: DeprecationWarning: `np.bool` is a deprecated alias for the builtin `bool`. To silence this warning, use `bool` by itself. Doing this will not modify any behavior and is safe. If you specifically wanted the numpy scalar type, use `np.bool_` here.\n",
      "Deprecated in NumPy 1.20; for more details and guidance: https://numpy.org/devdocs/release/1.20.0-notes.html#deprecations\n",
      "  allready_terminated = np.zeros(n_test_envs, np.bool)\n"
     ]
    },
    {
     "name": "stdout",
     "output_type": "stream",
     "text": [
      "average_rewards           0.327072\n",
      "average_termination     246.500000\n",
      "average_q_val             0.034317\n",
      "average_target_q_val      0.029612\n",
      "l2_diff                   0.049801\n",
      "average_loss              0.001134\n",
      "dtype: float64\n",
      "Saving Checkpoint\n",
      "Logging Model Metrics\n"
     ]
    },
    {
     "name": "stderr",
     "output_type": "stream",
     "text": [
      "/tmp/ipykernel_74282/1419124661.py:202: DeprecationWarning: `np.bool` is a deprecated alias for the builtin `bool`. To silence this warning, use `bool` by itself. Doing this will not modify any behavior and is safe. If you specifically wanted the numpy scalar type, use `np.bool_` here.\n",
      "Deprecated in NumPy 1.20; for more details and guidance: https://numpy.org/devdocs/release/1.20.0-notes.html#deprecations\n",
      "  allready_terminated = np.zeros(n_test_envs, np.bool)\n"
     ]
    },
    {
     "name": "stdout",
     "output_type": "stream",
     "text": [
      "average_rewards           0.360841\n",
      "average_termination     404.000000\n",
      "average_q_val             0.045025\n",
      "average_target_q_val      0.032731\n",
      "l2_diff                   0.052356\n",
      "average_loss              0.001317\n",
      "dtype: float64\n",
      "Logging Model Metrics\n"
     ]
    },
    {
     "name": "stderr",
     "output_type": "stream",
     "text": [
      "/tmp/ipykernel_74282/1419124661.py:202: DeprecationWarning: `np.bool` is a deprecated alias for the builtin `bool`. To silence this warning, use `bool` by itself. Doing this will not modify any behavior and is safe. If you specifically wanted the numpy scalar type, use `np.bool_` here.\n",
      "Deprecated in NumPy 1.20; for more details and guidance: https://numpy.org/devdocs/release/1.20.0-notes.html#deprecations\n",
      "  allready_terminated = np.zeros(n_test_envs, np.bool)\n"
     ]
    },
    {
     "name": "stdout",
     "output_type": "stream",
     "text": [
      "average_rewards           0.466059\n",
      "average_termination     414.444444\n",
      "average_q_val             0.048022\n",
      "average_target_q_val      0.038944\n",
      "l2_diff                   0.049281\n",
      "average_loss              0.001167\n",
      "dtype: float64\n",
      "Saving Checkpoint\n",
      "Logging Model Metrics\n"
     ]
    },
    {
     "name": "stderr",
     "output_type": "stream",
     "text": [
      "/tmp/ipykernel_74282/1419124661.py:202: DeprecationWarning: `np.bool` is a deprecated alias for the builtin `bool`. To silence this warning, use `bool` by itself. Doing this will not modify any behavior and is safe. If you specifically wanted the numpy scalar type, use `np.bool_` here.\n",
      "Deprecated in NumPy 1.20; for more details and guidance: https://numpy.org/devdocs/release/1.20.0-notes.html#deprecations\n",
      "  allready_terminated = np.zeros(n_test_envs, np.bool)\n"
     ]
    },
    {
     "name": "stdout",
     "output_type": "stream",
     "text": [
      "average_rewards           0.095864\n",
      "average_termination     512.500000\n",
      "average_q_val             0.021795\n",
      "average_target_q_val      0.019677\n",
      "l2_diff                   0.028728\n",
      "average_loss              0.001069\n",
      "dtype: float64\n",
      "Saving Checkpoint\n",
      "Logging Model Metrics\n"
     ]
    },
    {
     "name": "stderr",
     "output_type": "stream",
     "text": [
      "/tmp/ipykernel_74282/1419124661.py:202: DeprecationWarning: `np.bool` is a deprecated alias for the builtin `bool`. To silence this warning, use `bool` by itself. Doing this will not modify any behavior and is safe. If you specifically wanted the numpy scalar type, use `np.bool_` here.\n",
      "Deprecated in NumPy 1.20; for more details and guidance: https://numpy.org/devdocs/release/1.20.0-notes.html#deprecations\n",
      "  allready_terminated = np.zeros(n_test_envs, np.bool)\n"
     ]
    },
    {
     "name": "stdout",
     "output_type": "stream",
     "text": [
      "average_rewards           0.064185\n",
      "average_termination     475.800000\n",
      "average_q_val             0.038483\n",
      "average_target_q_val      0.026478\n",
      "l2_diff                   0.036815\n",
      "average_loss              0.001180\n",
      "dtype: float64\n",
      "Saving Checkpoint\n",
      "Logging Model Metrics\n"
     ]
    },
    {
     "name": "stderr",
     "output_type": "stream",
     "text": [
      "/tmp/ipykernel_74282/1419124661.py:202: DeprecationWarning: `np.bool` is a deprecated alias for the builtin `bool`. To silence this warning, use `bool` by itself. Doing this will not modify any behavior and is safe. If you specifically wanted the numpy scalar type, use `np.bool_` here.\n",
      "Deprecated in NumPy 1.20; for more details and guidance: https://numpy.org/devdocs/release/1.20.0-notes.html#deprecations\n",
      "  allready_terminated = np.zeros(n_test_envs, np.bool)\n"
     ]
    },
    {
     "name": "stdout",
     "output_type": "stream",
     "text": [
      "average_rewards           0.449005\n",
      "average_termination     453.250000\n",
      "average_q_val             0.062097\n",
      "average_target_q_val      0.044647\n",
      "l2_diff                   0.052271\n",
      "average_loss              0.001201\n",
      "dtype: float64\n",
      "Logging Model Metrics\n"
     ]
    },
    {
     "name": "stderr",
     "output_type": "stream",
     "text": [
      "/tmp/ipykernel_74282/1419124661.py:202: DeprecationWarning: `np.bool` is a deprecated alias for the builtin `bool`. To silence this warning, use `bool` by itself. Doing this will not modify any behavior and is safe. If you specifically wanted the numpy scalar type, use `np.bool_` here.\n",
      "Deprecated in NumPy 1.20; for more details and guidance: https://numpy.org/devdocs/release/1.20.0-notes.html#deprecations\n",
      "  allready_terminated = np.zeros(n_test_envs, np.bool)\n"
     ]
    },
    {
     "name": "stdout",
     "output_type": "stream",
     "text": [
      "average_rewards           0.479425\n",
      "average_termination     167.875000\n",
      "average_q_val             0.038517\n",
      "average_target_q_val      0.029620\n",
      "l2_diff                   0.055210\n",
      "average_loss              0.001197\n",
      "dtype: float64\n",
      "Saving Checkpoint\n",
      "Logging Model Metrics\n"
     ]
    },
    {
     "name": "stderr",
     "output_type": "stream",
     "text": [
      "/tmp/ipykernel_74282/1419124661.py:202: DeprecationWarning: `np.bool` is a deprecated alias for the builtin `bool`. To silence this warning, use `bool` by itself. Doing this will not modify any behavior and is safe. If you specifically wanted the numpy scalar type, use `np.bool_` here.\n",
      "Deprecated in NumPy 1.20; for more details and guidance: https://numpy.org/devdocs/release/1.20.0-notes.html#deprecations\n",
      "  allready_terminated = np.zeros(n_test_envs, np.bool)\n"
     ]
    },
    {
     "name": "stdout",
     "output_type": "stream",
     "text": [
      "average_rewards           0.986758\n",
      "average_termination     220.375000\n",
      "average_q_val             0.080006\n",
      "average_target_q_val      0.067056\n",
      "l2_diff                   0.062639\n",
      "average_loss              0.001429\n",
      "dtype: float64\n",
      "Saving Checkpoint\n",
      "Logging Model Metrics\n"
     ]
    },
    {
     "name": "stderr",
     "output_type": "stream",
     "text": [
      "/tmp/ipykernel_74282/1419124661.py:202: DeprecationWarning: `np.bool` is a deprecated alias for the builtin `bool`. To silence this warning, use `bool` by itself. Doing this will not modify any behavior and is safe. If you specifically wanted the numpy scalar type, use `np.bool_` here.\n",
      "Deprecated in NumPy 1.20; for more details and guidance: https://numpy.org/devdocs/release/1.20.0-notes.html#deprecations\n",
      "  allready_terminated = np.zeros(n_test_envs, np.bool)\n"
     ]
    },
    {
     "name": "stdout",
     "output_type": "stream",
     "text": [
      "average_rewards           0.620202\n",
      "average_termination     353.875000\n",
      "average_q_val             0.054817\n",
      "average_target_q_val      0.048707\n",
      "l2_diff                   0.054238\n",
      "average_loss              0.001174\n",
      "dtype: float64\n",
      "Saving Checkpoint\n",
      "Logging Model Metrics\n"
     ]
    },
    {
     "name": "stderr",
     "output_type": "stream",
     "text": [
      "/tmp/ipykernel_74282/1419124661.py:202: DeprecationWarning: `np.bool` is a deprecated alias for the builtin `bool`. To silence this warning, use `bool` by itself. Doing this will not modify any behavior and is safe. If you specifically wanted the numpy scalar type, use `np.bool_` here.\n",
      "Deprecated in NumPy 1.20; for more details and guidance: https://numpy.org/devdocs/release/1.20.0-notes.html#deprecations\n",
      "  allready_terminated = np.zeros(n_test_envs, np.bool)\n"
     ]
    },
    {
     "name": "stdout",
     "output_type": "stream",
     "text": [
      "average_rewards           0.839475\n",
      "average_termination     198.750000\n",
      "average_q_val             0.073313\n",
      "average_target_q_val      0.062222\n",
      "l2_diff                   0.060331\n",
      "average_loss              0.001423\n",
      "dtype: float64\n",
      "Logging Model Metrics\n"
     ]
    },
    {
     "name": "stderr",
     "output_type": "stream",
     "text": [
      "/tmp/ipykernel_74282/1419124661.py:202: DeprecationWarning: `np.bool` is a deprecated alias for the builtin `bool`. To silence this warning, use `bool` by itself. Doing this will not modify any behavior and is safe. If you specifically wanted the numpy scalar type, use `np.bool_` here.\n",
      "Deprecated in NumPy 1.20; for more details and guidance: https://numpy.org/devdocs/release/1.20.0-notes.html#deprecations\n",
      "  allready_terminated = np.zeros(n_test_envs, np.bool)\n"
     ]
    },
    {
     "name": "stdout",
     "output_type": "stream",
     "text": [
      "average_rewards           0.645600\n",
      "average_termination     423.777778\n",
      "average_q_val             0.067400\n",
      "average_target_q_val      0.055147\n",
      "l2_diff                   0.052091\n",
      "average_loss              0.001042\n",
      "dtype: float64\n",
      "Saving Checkpoint\n",
      "Logging Model Metrics\n"
     ]
    },
    {
     "name": "stderr",
     "output_type": "stream",
     "text": [
      "/tmp/ipykernel_74282/1419124661.py:202: DeprecationWarning: `np.bool` is a deprecated alias for the builtin `bool`. To silence this warning, use `bool` by itself. Doing this will not modify any behavior and is safe. If you specifically wanted the numpy scalar type, use `np.bool_` here.\n",
      "Deprecated in NumPy 1.20; for more details and guidance: https://numpy.org/devdocs/release/1.20.0-notes.html#deprecations\n",
      "  allready_terminated = np.zeros(n_test_envs, np.bool)\n"
     ]
    },
    {
     "name": "stdout",
     "output_type": "stream",
     "text": [
      "average_rewards           0.624190\n",
      "average_termination     196.111111\n",
      "average_q_val             0.045313\n",
      "average_target_q_val      0.044904\n",
      "l2_diff                   0.045064\n",
      "average_loss              0.000854\n",
      "dtype: float64\n",
      "Saving Checkpoint\n",
      "Logging Model Metrics\n"
     ]
    },
    {
     "name": "stderr",
     "output_type": "stream",
     "text": [
      "/tmp/ipykernel_74282/1419124661.py:202: DeprecationWarning: `np.bool` is a deprecated alias for the builtin `bool`. To silence this warning, use `bool` by itself. Doing this will not modify any behavior and is safe. If you specifically wanted the numpy scalar type, use `np.bool_` here.\n",
      "Deprecated in NumPy 1.20; for more details and guidance: https://numpy.org/devdocs/release/1.20.0-notes.html#deprecations\n",
      "  allready_terminated = np.zeros(n_test_envs, np.bool)\n"
     ]
    },
    {
     "name": "stdout",
     "output_type": "stream",
     "text": [
      "average_rewards           0.619890\n",
      "average_termination     382.818182\n",
      "average_q_val             0.023415\n",
      "average_target_q_val      0.017703\n",
      "l2_diff                   0.055702\n",
      "average_loss              0.001005\n",
      "dtype: float64\n",
      "Saving Checkpoint\n",
      "Logging Model Metrics\n"
     ]
    },
    {
     "name": "stderr",
     "output_type": "stream",
     "text": [
      "/tmp/ipykernel_74282/1419124661.py:202: DeprecationWarning: `np.bool` is a deprecated alias for the builtin `bool`. To silence this warning, use `bool` by itself. Doing this will not modify any behavior and is safe. If you specifically wanted the numpy scalar type, use `np.bool_` here.\n",
      "Deprecated in NumPy 1.20; for more details and guidance: https://numpy.org/devdocs/release/1.20.0-notes.html#deprecations\n",
      "  allready_terminated = np.zeros(n_test_envs, np.bool)\n"
     ]
    },
    {
     "name": "stdout",
     "output_type": "stream",
     "text": [
      "average_rewards           0.584046\n",
      "average_termination     175.250000\n",
      "average_q_val             0.059027\n",
      "average_target_q_val      0.046014\n",
      "l2_diff                   0.055134\n",
      "average_loss              0.000998\n",
      "dtype: float64\n",
      "Logging Model Metrics\n"
     ]
    },
    {
     "name": "stderr",
     "output_type": "stream",
     "text": [
      "/tmp/ipykernel_74282/1419124661.py:202: DeprecationWarning: `np.bool` is a deprecated alias for the builtin `bool`. To silence this warning, use `bool` by itself. Doing this will not modify any behavior and is safe. If you specifically wanted the numpy scalar type, use `np.bool_` here.\n",
      "Deprecated in NumPy 1.20; for more details and guidance: https://numpy.org/devdocs/release/1.20.0-notes.html#deprecations\n",
      "  allready_terminated = np.zeros(n_test_envs, np.bool)\n"
     ]
    },
    {
     "name": "stdout",
     "output_type": "stream",
     "text": [
      "average_rewards           0.933040\n",
      "average_termination     237.125000\n",
      "average_q_val             0.124154\n",
      "average_target_q_val      0.101742\n",
      "l2_diff                   0.077748\n",
      "average_loss              0.000937\n",
      "dtype: float64\n",
      "Saving Checkpoint\n",
      "Logging Model Metrics\n"
     ]
    },
    {
     "name": "stderr",
     "output_type": "stream",
     "text": [
      "/tmp/ipykernel_74282/1419124661.py:202: DeprecationWarning: `np.bool` is a deprecated alias for the builtin `bool`. To silence this warning, use `bool` by itself. Doing this will not modify any behavior and is safe. If you specifically wanted the numpy scalar type, use `np.bool_` here.\n",
      "Deprecated in NumPy 1.20; for more details and guidance: https://numpy.org/devdocs/release/1.20.0-notes.html#deprecations\n",
      "  allready_terminated = np.zeros(n_test_envs, np.bool)\n"
     ]
    },
    {
     "name": "stdout",
     "output_type": "stream",
     "text": [
      "average_rewards           0.444806\n",
      "average_termination     441.500000\n",
      "average_q_val             0.055307\n",
      "average_target_q_val      0.047859\n",
      "l2_diff                   0.046199\n",
      "average_loss              0.001163\n",
      "dtype: float64\n",
      "Saving Checkpoint\n",
      "Logging Model Metrics\n"
     ]
    },
    {
     "name": "stderr",
     "output_type": "stream",
     "text": [
      "/tmp/ipykernel_74282/1419124661.py:202: DeprecationWarning: `np.bool` is a deprecated alias for the builtin `bool`. To silence this warning, use `bool` by itself. Doing this will not modify any behavior and is safe. If you specifically wanted the numpy scalar type, use `np.bool_` here.\n",
      "Deprecated in NumPy 1.20; for more details and guidance: https://numpy.org/devdocs/release/1.20.0-notes.html#deprecations\n",
      "  allready_terminated = np.zeros(n_test_envs, np.bool)\n"
     ]
    },
    {
     "name": "stdout",
     "output_type": "stream",
     "text": [
      "average_rewards           0.365564\n",
      "average_termination     487.615385\n",
      "average_q_val             0.076050\n",
      "average_target_q_val      0.066637\n",
      "l2_diff                   0.041351\n",
      "average_loss              0.001170\n",
      "dtype: float64\n",
      "Saving Checkpoint\n",
      "Logging Model Metrics\n"
     ]
    },
    {
     "name": "stderr",
     "output_type": "stream",
     "text": [
      "/tmp/ipykernel_74282/1419124661.py:202: DeprecationWarning: `np.bool` is a deprecated alias for the builtin `bool`. To silence this warning, use `bool` by itself. Doing this will not modify any behavior and is safe. If you specifically wanted the numpy scalar type, use `np.bool_` here.\n",
      "Deprecated in NumPy 1.20; for more details and guidance: https://numpy.org/devdocs/release/1.20.0-notes.html#deprecations\n",
      "  allready_terminated = np.zeros(n_test_envs, np.bool)\n"
     ]
    },
    {
     "name": "stdout",
     "output_type": "stream",
     "text": [
      "average_rewards           0.883980\n",
      "average_termination     221.125000\n",
      "average_q_val             0.106000\n",
      "average_target_q_val      0.099223\n",
      "l2_diff                   0.058986\n",
      "average_loss              0.001400\n",
      "dtype: float64\n",
      "Logging Model Metrics\n"
     ]
    },
    {
     "name": "stderr",
     "output_type": "stream",
     "text": [
      "/tmp/ipykernel_74282/1419124661.py:202: DeprecationWarning: `np.bool` is a deprecated alias for the builtin `bool`. To silence this warning, use `bool` by itself. Doing this will not modify any behavior and is safe. If you specifically wanted the numpy scalar type, use `np.bool_` here.\n",
      "Deprecated in NumPy 1.20; for more details and guidance: https://numpy.org/devdocs/release/1.20.0-notes.html#deprecations\n",
      "  allready_terminated = np.zeros(n_test_envs, np.bool)\n"
     ]
    },
    {
     "name": "stdout",
     "output_type": "stream",
     "text": [
      "average_rewards           0.059449\n",
      "average_termination     291.125000\n",
      "average_q_val             0.016843\n",
      "average_target_q_val      0.009707\n",
      "l2_diff                   0.024148\n",
      "average_loss              0.001427\n",
      "dtype: float64\n",
      "Saving Checkpoint\n",
      "Logging Model Metrics\n"
     ]
    },
    {
     "name": "stderr",
     "output_type": "stream",
     "text": [
      "/tmp/ipykernel_74282/1419124661.py:202: DeprecationWarning: `np.bool` is a deprecated alias for the builtin `bool`. To silence this warning, use `bool` by itself. Doing this will not modify any behavior and is safe. If you specifically wanted the numpy scalar type, use `np.bool_` here.\n",
      "Deprecated in NumPy 1.20; for more details and guidance: https://numpy.org/devdocs/release/1.20.0-notes.html#deprecations\n",
      "  allready_terminated = np.zeros(n_test_envs, np.bool)\n"
     ]
    },
    {
     "name": "stdout",
     "output_type": "stream",
     "text": [
      "average_rewards           0.098921\n",
      "average_termination     276.250000\n",
      "average_q_val             0.023925\n",
      "average_target_q_val      0.018705\n",
      "l2_diff                   0.026958\n",
      "average_loss              0.001940\n",
      "dtype: float64\n",
      "Saving Checkpoint\n",
      "Logging Model Metrics\n"
     ]
    },
    {
     "name": "stderr",
     "output_type": "stream",
     "text": [
      "/tmp/ipykernel_74282/1419124661.py:202: DeprecationWarning: `np.bool` is a deprecated alias for the builtin `bool`. To silence this warning, use `bool` by itself. Doing this will not modify any behavior and is safe. If you specifically wanted the numpy scalar type, use `np.bool_` here.\n",
      "Deprecated in NumPy 1.20; for more details and guidance: https://numpy.org/devdocs/release/1.20.0-notes.html#deprecations\n",
      "  allready_terminated = np.zeros(n_test_envs, np.bool)\n"
     ]
    },
    {
     "name": "stdout",
     "output_type": "stream",
     "text": [
      "average_rewards           0.326796\n",
      "average_termination     332.900000\n",
      "average_q_val             0.064094\n",
      "average_target_q_val      0.061996\n",
      "l2_diff                   0.034881\n",
      "average_loss              0.001478\n",
      "dtype: float64\n",
      "Saving Checkpoint\n",
      "Logging Model Metrics\n"
     ]
    },
    {
     "name": "stderr",
     "output_type": "stream",
     "text": [
      "/tmp/ipykernel_74282/1419124661.py:202: DeprecationWarning: `np.bool` is a deprecated alias for the builtin `bool`. To silence this warning, use `bool` by itself. Doing this will not modify any behavior and is safe. If you specifically wanted the numpy scalar type, use `np.bool_` here.\n",
      "Deprecated in NumPy 1.20; for more details and guidance: https://numpy.org/devdocs/release/1.20.0-notes.html#deprecations\n",
      "  allready_terminated = np.zeros(n_test_envs, np.bool)\n"
     ]
    },
    {
     "name": "stdout",
     "output_type": "stream",
     "text": [
      "average_rewards           0.604045\n",
      "average_termination     294.000000\n",
      "average_q_val             0.078870\n",
      "average_target_q_val      0.062145\n",
      "l2_diff                   0.058846\n",
      "average_loss              0.001523\n",
      "dtype: float64\n",
      "Logging Model Metrics\n"
     ]
    },
    {
     "name": "stderr",
     "output_type": "stream",
     "text": [
      "/tmp/ipykernel_74282/1419124661.py:202: DeprecationWarning: `np.bool` is a deprecated alias for the builtin `bool`. To silence this warning, use `bool` by itself. Doing this will not modify any behavior and is safe. If you specifically wanted the numpy scalar type, use `np.bool_` here.\n",
      "Deprecated in NumPy 1.20; for more details and guidance: https://numpy.org/devdocs/release/1.20.0-notes.html#deprecations\n",
      "  allready_terminated = np.zeros(n_test_envs, np.bool)\n"
     ]
    },
    {
     "name": "stdout",
     "output_type": "stream",
     "text": [
      "average_rewards           0.276503\n",
      "average_termination     264.111111\n",
      "average_q_val             0.052975\n",
      "average_target_q_val      0.051759\n",
      "l2_diff                   0.058301\n",
      "average_loss              0.001439\n",
      "dtype: float64\n",
      "Saving Checkpoint\n",
      "Logging Model Metrics\n"
     ]
    },
    {
     "name": "stderr",
     "output_type": "stream",
     "text": [
      "/tmp/ipykernel_74282/1419124661.py:202: DeprecationWarning: `np.bool` is a deprecated alias for the builtin `bool`. To silence this warning, use `bool` by itself. Doing this will not modify any behavior and is safe. If you specifically wanted the numpy scalar type, use `np.bool_` here.\n",
      "Deprecated in NumPy 1.20; for more details and guidance: https://numpy.org/devdocs/release/1.20.0-notes.html#deprecations\n",
      "  allready_terminated = np.zeros(n_test_envs, np.bool)\n"
     ]
    },
    {
     "name": "stdout",
     "output_type": "stream",
     "text": [
      "average_rewards           0.164501\n",
      "average_termination     478.200000\n",
      "average_q_val             0.052058\n",
      "average_target_q_val      0.042644\n",
      "l2_diff                   0.033155\n",
      "average_loss              0.001365\n",
      "dtype: float64\n",
      "Saving Checkpoint\n",
      "Logging Model Metrics\n"
     ]
    },
    {
     "name": "stderr",
     "output_type": "stream",
     "text": [
      "/tmp/ipykernel_74282/1419124661.py:202: DeprecationWarning: `np.bool` is a deprecated alias for the builtin `bool`. To silence this warning, use `bool` by itself. Doing this will not modify any behavior and is safe. If you specifically wanted the numpy scalar type, use `np.bool_` here.\n",
      "Deprecated in NumPy 1.20; for more details and guidance: https://numpy.org/devdocs/release/1.20.0-notes.html#deprecations\n",
      "  allready_terminated = np.zeros(n_test_envs, np.bool)\n"
     ]
    },
    {
     "name": "stdout",
     "output_type": "stream",
     "text": [
      "average_rewards           0.132390\n",
      "average_termination     425.700000\n",
      "average_q_val             0.056384\n",
      "average_target_q_val      0.053453\n",
      "l2_diff                   0.040304\n",
      "average_loss              0.001454\n",
      "dtype: float64\n",
      "Saving Checkpoint\n",
      "Logging Model Metrics\n"
     ]
    },
    {
     "name": "stderr",
     "output_type": "stream",
     "text": [
      "/tmp/ipykernel_74282/1419124661.py:202: DeprecationWarning: `np.bool` is a deprecated alias for the builtin `bool`. To silence this warning, use `bool` by itself. Doing this will not modify any behavior and is safe. If you specifically wanted the numpy scalar type, use `np.bool_` here.\n",
      "Deprecated in NumPy 1.20; for more details and guidance: https://numpy.org/devdocs/release/1.20.0-notes.html#deprecations\n",
      "  allready_terminated = np.zeros(n_test_envs, np.bool)\n"
     ]
    },
    {
     "name": "stdout",
     "output_type": "stream",
     "text": [
      "average_rewards           0.841014\n",
      "average_termination     291.375000\n",
      "average_q_val             0.137861\n",
      "average_target_q_val      0.123067\n",
      "l2_diff                   0.063557\n",
      "average_loss              0.001868\n",
      "dtype: float64\n",
      "Logging Model Metrics\n"
     ]
    },
    {
     "name": "stderr",
     "output_type": "stream",
     "text": [
      "/tmp/ipykernel_74282/1419124661.py:202: DeprecationWarning: `np.bool` is a deprecated alias for the builtin `bool`. To silence this warning, use `bool` by itself. Doing this will not modify any behavior and is safe. If you specifically wanted the numpy scalar type, use `np.bool_` here.\n",
      "Deprecated in NumPy 1.20; for more details and guidance: https://numpy.org/devdocs/release/1.20.0-notes.html#deprecations\n",
      "  allready_terminated = np.zeros(n_test_envs, np.bool)\n"
     ]
    },
    {
     "name": "stdout",
     "output_type": "stream",
     "text": [
      "average_rewards           0.327428\n",
      "average_termination     357.250000\n",
      "average_q_val             0.066258\n",
      "average_target_q_val      0.063099\n",
      "l2_diff                   0.041048\n",
      "average_loss              0.001992\n",
      "dtype: float64\n",
      "Saving Checkpoint\n",
      "Logging Model Metrics\n"
     ]
    },
    {
     "name": "stderr",
     "output_type": "stream",
     "text": [
      "/tmp/ipykernel_74282/1419124661.py:202: DeprecationWarning: `np.bool` is a deprecated alias for the builtin `bool`. To silence this warning, use `bool` by itself. Doing this will not modify any behavior and is safe. If you specifically wanted the numpy scalar type, use `np.bool_` here.\n",
      "Deprecated in NumPy 1.20; for more details and guidance: https://numpy.org/devdocs/release/1.20.0-notes.html#deprecations\n",
      "  allready_terminated = np.zeros(n_test_envs, np.bool)\n"
     ]
    },
    {
     "name": "stdout",
     "output_type": "stream",
     "text": [
      "average_rewards           0.908618\n",
      "average_termination     210.125000\n",
      "average_q_val             0.120701\n",
      "average_target_q_val      0.112470\n",
      "l2_diff                   0.060699\n",
      "average_loss              0.001216\n",
      "dtype: float64\n",
      "Saving Checkpoint\n",
      "Logging Model Metrics\n"
     ]
    },
    {
     "name": "stderr",
     "output_type": "stream",
     "text": [
      "/tmp/ipykernel_74282/1419124661.py:202: DeprecationWarning: `np.bool` is a deprecated alias for the builtin `bool`. To silence this warning, use `bool` by itself. Doing this will not modify any behavior and is safe. If you specifically wanted the numpy scalar type, use `np.bool_` here.\n",
      "Deprecated in NumPy 1.20; for more details and guidance: https://numpy.org/devdocs/release/1.20.0-notes.html#deprecations\n",
      "  allready_terminated = np.zeros(n_test_envs, np.bool)\n"
     ]
    },
    {
     "name": "stdout",
     "output_type": "stream",
     "text": [
      "average_rewards           0.254490\n",
      "average_termination     377.200000\n",
      "average_q_val             0.060782\n",
      "average_target_q_val      0.063719\n",
      "l2_diff                   0.039048\n",
      "average_loss              0.001233\n",
      "dtype: float64\n",
      "Saving Checkpoint\n",
      "Logging Model Metrics\n"
     ]
    },
    {
     "name": "stderr",
     "output_type": "stream",
     "text": [
      "/tmp/ipykernel_74282/1419124661.py:202: DeprecationWarning: `np.bool` is a deprecated alias for the builtin `bool`. To silence this warning, use `bool` by itself. Doing this will not modify any behavior and is safe. If you specifically wanted the numpy scalar type, use `np.bool_` here.\n",
      "Deprecated in NumPy 1.20; for more details and guidance: https://numpy.org/devdocs/release/1.20.0-notes.html#deprecations\n",
      "  allready_terminated = np.zeros(n_test_envs, np.bool)\n"
     ]
    },
    {
     "name": "stdout",
     "output_type": "stream",
     "text": [
      "average_rewards           0.732201\n",
      "average_termination     273.500000\n",
      "average_q_val             0.129236\n",
      "average_target_q_val      0.117304\n",
      "l2_diff                   0.055458\n",
      "average_loss              0.001633\n",
      "dtype: float64\n",
      "Logging Model Metrics\n"
     ]
    },
    {
     "name": "stderr",
     "output_type": "stream",
     "text": [
      "/tmp/ipykernel_74282/1419124661.py:202: DeprecationWarning: `np.bool` is a deprecated alias for the builtin `bool`. To silence this warning, use `bool` by itself. Doing this will not modify any behavior and is safe. If you specifically wanted the numpy scalar type, use `np.bool_` here.\n",
      "Deprecated in NumPy 1.20; for more details and guidance: https://numpy.org/devdocs/release/1.20.0-notes.html#deprecations\n",
      "  allready_terminated = np.zeros(n_test_envs, np.bool)\n"
     ]
    },
    {
     "name": "stdout",
     "output_type": "stream",
     "text": [
      "average_rewards           0.624593\n",
      "average_termination     271.125000\n",
      "average_q_val             0.101516\n",
      "average_target_q_val      0.095469\n",
      "l2_diff                   0.050083\n",
      "average_loss              0.001812\n",
      "dtype: float64\n",
      "Saving Checkpoint\n",
      "Logging Model Metrics\n"
     ]
    },
    {
     "name": "stderr",
     "output_type": "stream",
     "text": [
      "/tmp/ipykernel_74282/1419124661.py:202: DeprecationWarning: `np.bool` is a deprecated alias for the builtin `bool`. To silence this warning, use `bool` by itself. Doing this will not modify any behavior and is safe. If you specifically wanted the numpy scalar type, use `np.bool_` here.\n",
      "Deprecated in NumPy 1.20; for more details and guidance: https://numpy.org/devdocs/release/1.20.0-notes.html#deprecations\n",
      "  allready_terminated = np.zeros(n_test_envs, np.bool)\n"
     ]
    },
    {
     "name": "stdout",
     "output_type": "stream",
     "text": [
      "average_rewards           0.686652\n",
      "average_termination     273.375000\n",
      "average_q_val             0.106131\n",
      "average_target_q_val      0.096838\n",
      "l2_diff                   0.049092\n",
      "average_loss              0.001712\n",
      "dtype: float64\n",
      "Saving Checkpoint\n",
      "Logging Model Metrics\n"
     ]
    },
    {
     "name": "stderr",
     "output_type": "stream",
     "text": [
      "/tmp/ipykernel_74282/1419124661.py:202: DeprecationWarning: `np.bool` is a deprecated alias for the builtin `bool`. To silence this warning, use `bool` by itself. Doing this will not modify any behavior and is safe. If you specifically wanted the numpy scalar type, use `np.bool_` here.\n",
      "Deprecated in NumPy 1.20; for more details and guidance: https://numpy.org/devdocs/release/1.20.0-notes.html#deprecations\n",
      "  allready_terminated = np.zeros(n_test_envs, np.bool)\n"
     ]
    },
    {
     "name": "stdout",
     "output_type": "stream",
     "text": [
      "average_rewards           0.611095\n",
      "average_termination     322.444444\n",
      "average_q_val             0.129521\n",
      "average_target_q_val      0.117567\n",
      "l2_diff                   0.055674\n",
      "average_loss              0.001769\n",
      "dtype: float64\n",
      "Saving Checkpoint\n",
      "Logging Model Metrics\n"
     ]
    },
    {
     "name": "stderr",
     "output_type": "stream",
     "text": [
      "/tmp/ipykernel_74282/1419124661.py:202: DeprecationWarning: `np.bool` is a deprecated alias for the builtin `bool`. To silence this warning, use `bool` by itself. Doing this will not modify any behavior and is safe. If you specifically wanted the numpy scalar type, use `np.bool_` here.\n",
      "Deprecated in NumPy 1.20; for more details and guidance: https://numpy.org/devdocs/release/1.20.0-notes.html#deprecations\n",
      "  allready_terminated = np.zeros(n_test_envs, np.bool)\n"
     ]
    },
    {
     "name": "stdout",
     "output_type": "stream",
     "text": [
      "average_rewards           0.274433\n",
      "average_termination     482.000000\n",
      "average_q_val             0.081893\n",
      "average_target_q_val      0.075254\n",
      "l2_diff                   0.044482\n",
      "average_loss              0.001456\n",
      "dtype: float64\n",
      "Logging Model Metrics\n"
     ]
    },
    {
     "name": "stderr",
     "output_type": "stream",
     "text": [
      "/tmp/ipykernel_74282/1419124661.py:202: DeprecationWarning: `np.bool` is a deprecated alias for the builtin `bool`. To silence this warning, use `bool` by itself. Doing this will not modify any behavior and is safe. If you specifically wanted the numpy scalar type, use `np.bool_` here.\n",
      "Deprecated in NumPy 1.20; for more details and guidance: https://numpy.org/devdocs/release/1.20.0-notes.html#deprecations\n",
      "  allready_terminated = np.zeros(n_test_envs, np.bool)\n"
     ]
    },
    {
     "name": "stdout",
     "output_type": "stream",
     "text": [
      "average_rewards           0.145982\n",
      "average_termination     365.750000\n",
      "average_q_val             0.085304\n",
      "average_target_q_val      0.072378\n",
      "l2_diff                   0.036552\n",
      "average_loss              0.001779\n",
      "dtype: float64\n",
      "Saving Checkpoint\n",
      "Logging Model Metrics\n"
     ]
    },
    {
     "name": "stderr",
     "output_type": "stream",
     "text": [
      "/tmp/ipykernel_74282/1419124661.py:202: DeprecationWarning: `np.bool` is a deprecated alias for the builtin `bool`. To silence this warning, use `bool` by itself. Doing this will not modify any behavior and is safe. If you specifically wanted the numpy scalar type, use `np.bool_` here.\n",
      "Deprecated in NumPy 1.20; for more details and guidance: https://numpy.org/devdocs/release/1.20.0-notes.html#deprecations\n",
      "  allready_terminated = np.zeros(n_test_envs, np.bool)\n"
     ]
    },
    {
     "name": "stdout",
     "output_type": "stream",
     "text": [
      "average_rewards           0.320757\n",
      "average_termination     415.000000\n",
      "average_q_val             0.118281\n",
      "average_target_q_val      0.101377\n",
      "l2_diff                   0.046856\n",
      "average_loss              0.001845\n",
      "dtype: float64\n",
      "Saving Checkpoint\n",
      "Logging Model Metrics\n"
     ]
    },
    {
     "name": "stderr",
     "output_type": "stream",
     "text": [
      "/tmp/ipykernel_74282/1419124661.py:202: DeprecationWarning: `np.bool` is a deprecated alias for the builtin `bool`. To silence this warning, use `bool` by itself. Doing this will not modify any behavior and is safe. If you specifically wanted the numpy scalar type, use `np.bool_` here.\n",
      "Deprecated in NumPy 1.20; for more details and guidance: https://numpy.org/devdocs/release/1.20.0-notes.html#deprecations\n",
      "  allready_terminated = np.zeros(n_test_envs, np.bool)\n"
     ]
    },
    {
     "name": "stdout",
     "output_type": "stream",
     "text": [
      "average_rewards           0.951364\n",
      "average_termination     281.125000\n",
      "average_q_val             0.185945\n",
      "average_target_q_val      0.163917\n",
      "l2_diff                   0.054658\n",
      "average_loss              0.001067\n",
      "dtype: float64\n",
      "Saving Checkpoint\n",
      "Logging Model Metrics\n"
     ]
    },
    {
     "name": "stderr",
     "output_type": "stream",
     "text": [
      "/tmp/ipykernel_74282/1419124661.py:202: DeprecationWarning: `np.bool` is a deprecated alias for the builtin `bool`. To silence this warning, use `bool` by itself. Doing this will not modify any behavior and is safe. If you specifically wanted the numpy scalar type, use `np.bool_` here.\n",
      "Deprecated in NumPy 1.20; for more details and guidance: https://numpy.org/devdocs/release/1.20.0-notes.html#deprecations\n",
      "  allready_terminated = np.zeros(n_test_envs, np.bool)\n"
     ]
    },
    {
     "name": "stdout",
     "output_type": "stream",
     "text": [
      "average_rewards           0.359483\n",
      "average_termination     437.444444\n",
      "average_q_val             0.063397\n",
      "average_target_q_val      0.067214\n",
      "l2_diff                   0.041967\n",
      "average_loss              0.001583\n",
      "dtype: float64\n",
      "Logging Model Metrics\n"
     ]
    },
    {
     "name": "stderr",
     "output_type": "stream",
     "text": [
      "/tmp/ipykernel_74282/1419124661.py:202: DeprecationWarning: `np.bool` is a deprecated alias for the builtin `bool`. To silence this warning, use `bool` by itself. Doing this will not modify any behavior and is safe. If you specifically wanted the numpy scalar type, use `np.bool_` here.\n",
      "Deprecated in NumPy 1.20; for more details and guidance: https://numpy.org/devdocs/release/1.20.0-notes.html#deprecations\n",
      "  allready_terminated = np.zeros(n_test_envs, np.bool)\n"
     ]
    },
    {
     "name": "stdout",
     "output_type": "stream",
     "text": [
      "average_rewards           0.230986\n",
      "average_termination     443.500000\n",
      "average_q_val             0.088718\n",
      "average_target_q_val      0.083093\n",
      "l2_diff                   0.042856\n",
      "average_loss              0.000711\n",
      "dtype: float64\n",
      "Saving Checkpoint\n",
      "Logging Model Metrics\n"
     ]
    },
    {
     "name": "stderr",
     "output_type": "stream",
     "text": [
      "/tmp/ipykernel_74282/1419124661.py:202: DeprecationWarning: `np.bool` is a deprecated alias for the builtin `bool`. To silence this warning, use `bool` by itself. Doing this will not modify any behavior and is safe. If you specifically wanted the numpy scalar type, use `np.bool_` here.\n",
      "Deprecated in NumPy 1.20; for more details and guidance: https://numpy.org/devdocs/release/1.20.0-notes.html#deprecations\n",
      "  allready_terminated = np.zeros(n_test_envs, np.bool)\n"
     ]
    },
    {
     "name": "stdout",
     "output_type": "stream",
     "text": [
      "average_rewards           0.657643\n",
      "average_termination     358.250000\n",
      "average_q_val             0.173073\n",
      "average_target_q_val      0.153376\n",
      "l2_diff                   0.064213\n",
      "average_loss              0.000842\n",
      "dtype: float64\n",
      "Saving Checkpoint\n",
      "Logging Model Metrics\n"
     ]
    },
    {
     "name": "stderr",
     "output_type": "stream",
     "text": [
      "/tmp/ipykernel_74282/1419124661.py:202: DeprecationWarning: `np.bool` is a deprecated alias for the builtin `bool`. To silence this warning, use `bool` by itself. Doing this will not modify any behavior and is safe. If you specifically wanted the numpy scalar type, use `np.bool_` here.\n",
      "Deprecated in NumPy 1.20; for more details and guidance: https://numpy.org/devdocs/release/1.20.0-notes.html#deprecations\n",
      "  allready_terminated = np.zeros(n_test_envs, np.bool)\n"
     ]
    },
    {
     "name": "stdout",
     "output_type": "stream",
     "text": [
      "average_rewards           0.346544\n",
      "average_termination     540.777778\n",
      "average_q_val             0.134805\n",
      "average_target_q_val      0.124811\n",
      "l2_diff                   0.051826\n",
      "average_loss              0.000799\n",
      "dtype: float64\n",
      "Saving Checkpoint\n",
      "Logging Model Metrics\n"
     ]
    },
    {
     "name": "stderr",
     "output_type": "stream",
     "text": [
      "/tmp/ipykernel_74282/1419124661.py:202: DeprecationWarning: `np.bool` is a deprecated alias for the builtin `bool`. To silence this warning, use `bool` by itself. Doing this will not modify any behavior and is safe. If you specifically wanted the numpy scalar type, use `np.bool_` here.\n",
      "Deprecated in NumPy 1.20; for more details and guidance: https://numpy.org/devdocs/release/1.20.0-notes.html#deprecations\n",
      "  allready_terminated = np.zeros(n_test_envs, np.bool)\n"
     ]
    },
    {
     "name": "stdout",
     "output_type": "stream",
     "text": [
      "average_rewards           0.695815\n",
      "average_termination     502.727273\n",
      "average_q_val             0.155535\n",
      "average_target_q_val      0.139180\n",
      "l2_diff                   0.070928\n",
      "average_loss              0.000568\n",
      "dtype: float64\n",
      "Logging Model Metrics\n"
     ]
    },
    {
     "name": "stderr",
     "output_type": "stream",
     "text": [
      "/tmp/ipykernel_74282/1419124661.py:202: DeprecationWarning: `np.bool` is a deprecated alias for the builtin `bool`. To silence this warning, use `bool` by itself. Doing this will not modify any behavior and is safe. If you specifically wanted the numpy scalar type, use `np.bool_` here.\n",
      "Deprecated in NumPy 1.20; for more details and guidance: https://numpy.org/devdocs/release/1.20.0-notes.html#deprecations\n",
      "  allready_terminated = np.zeros(n_test_envs, np.bool)\n"
     ]
    },
    {
     "name": "stdout",
     "output_type": "stream",
     "text": [
      "average_rewards           0.508430\n",
      "average_termination     473.250000\n",
      "average_q_val             0.140892\n",
      "average_target_q_val      0.125771\n",
      "l2_diff                   0.058201\n",
      "average_loss              0.000577\n",
      "dtype: float64\n",
      "Saving Checkpoint\n",
      "Logging Model Metrics\n"
     ]
    },
    {
     "name": "stderr",
     "output_type": "stream",
     "text": [
      "/tmp/ipykernel_74282/1419124661.py:202: DeprecationWarning: `np.bool` is a deprecated alias for the builtin `bool`. To silence this warning, use `bool` by itself. Doing this will not modify any behavior and is safe. If you specifically wanted the numpy scalar type, use `np.bool_` here.\n",
      "Deprecated in NumPy 1.20; for more details and guidance: https://numpy.org/devdocs/release/1.20.0-notes.html#deprecations\n",
      "  allready_terminated = np.zeros(n_test_envs, np.bool)\n"
     ]
    },
    {
     "name": "stdout",
     "output_type": "stream",
     "text": [
      "average_rewards           0.605956\n",
      "average_termination     506.200000\n",
      "average_q_val             0.137676\n",
      "average_target_q_val      0.127255\n",
      "l2_diff                   0.053940\n",
      "average_loss              0.000348\n",
      "dtype: float64\n",
      "Saving Checkpoint\n",
      "Logging Model Metrics\n"
     ]
    },
    {
     "name": "stderr",
     "output_type": "stream",
     "text": [
      "/tmp/ipykernel_74282/1419124661.py:202: DeprecationWarning: `np.bool` is a deprecated alias for the builtin `bool`. To silence this warning, use `bool` by itself. Doing this will not modify any behavior and is safe. If you specifically wanted the numpy scalar type, use `np.bool_` here.\n",
      "Deprecated in NumPy 1.20; for more details and guidance: https://numpy.org/devdocs/release/1.20.0-notes.html#deprecations\n",
      "  allready_terminated = np.zeros(n_test_envs, np.bool)\n"
     ]
    },
    {
     "name": "stdout",
     "output_type": "stream",
     "text": [
      "average_rewards           0.313424\n",
      "average_termination     554.111111\n",
      "average_q_val             0.128905\n",
      "average_target_q_val      0.118838\n",
      "l2_diff                   0.055889\n",
      "average_loss              0.000816\n",
      "dtype: float64\n",
      "Saving Checkpoint\n",
      "Logging Model Metrics\n"
     ]
    },
    {
     "name": "stderr",
     "output_type": "stream",
     "text": [
      "/tmp/ipykernel_74282/1419124661.py:202: DeprecationWarning: `np.bool` is a deprecated alias for the builtin `bool`. To silence this warning, use `bool` by itself. Doing this will not modify any behavior and is safe. If you specifically wanted the numpy scalar type, use `np.bool_` here.\n",
      "Deprecated in NumPy 1.20; for more details and guidance: https://numpy.org/devdocs/release/1.20.0-notes.html#deprecations\n",
      "  allready_terminated = np.zeros(n_test_envs, np.bool)\n"
     ]
    },
    {
     "name": "stdout",
     "output_type": "stream",
     "text": [
      "average_rewards           0.544910\n",
      "average_termination     411.250000\n",
      "average_q_val             0.144377\n",
      "average_target_q_val      0.130175\n",
      "l2_diff                   0.055467\n",
      "average_loss              0.000536\n",
      "dtype: float64\n",
      "Logging Model Metrics\n"
     ]
    },
    {
     "name": "stderr",
     "output_type": "stream",
     "text": [
      "/tmp/ipykernel_74282/1419124661.py:202: DeprecationWarning: `np.bool` is a deprecated alias for the builtin `bool`. To silence this warning, use `bool` by itself. Doing this will not modify any behavior and is safe. If you specifically wanted the numpy scalar type, use `np.bool_` here.\n",
      "Deprecated in NumPy 1.20; for more details and guidance: https://numpy.org/devdocs/release/1.20.0-notes.html#deprecations\n",
      "  allready_terminated = np.zeros(n_test_envs, np.bool)\n"
     ]
    },
    {
     "name": "stdout",
     "output_type": "stream",
     "text": [
      "average_rewards           0.468945\n",
      "average_termination     534.250000\n",
      "average_q_val             0.134476\n",
      "average_target_q_val      0.126211\n",
      "l2_diff                   0.044254\n",
      "average_loss              0.000505\n",
      "dtype: float64\n",
      "Saving Checkpoint\n",
      "Logging Model Metrics\n"
     ]
    },
    {
     "name": "stderr",
     "output_type": "stream",
     "text": [
      "/tmp/ipykernel_74282/1419124661.py:202: DeprecationWarning: `np.bool` is a deprecated alias for the builtin `bool`. To silence this warning, use `bool` by itself. Doing this will not modify any behavior and is safe. If you specifically wanted the numpy scalar type, use `np.bool_` here.\n",
      "Deprecated in NumPy 1.20; for more details and guidance: https://numpy.org/devdocs/release/1.20.0-notes.html#deprecations\n",
      "  allready_terminated = np.zeros(n_test_envs, np.bool)\n"
     ]
    },
    {
     "name": "stdout",
     "output_type": "stream",
     "text": [
      "average_rewards           0.385799\n",
      "average_termination     534.875000\n",
      "average_q_val             0.141458\n",
      "average_target_q_val      0.139092\n",
      "l2_diff                   0.057592\n",
      "average_loss              0.000626\n",
      "dtype: float64\n",
      "Saving Checkpoint\n",
      "Logging Model Metrics\n"
     ]
    },
    {
     "name": "stderr",
     "output_type": "stream",
     "text": [
      "/tmp/ipykernel_74282/1419124661.py:202: DeprecationWarning: `np.bool` is a deprecated alias for the builtin `bool`. To silence this warning, use `bool` by itself. Doing this will not modify any behavior and is safe. If you specifically wanted the numpy scalar type, use `np.bool_` here.\n",
      "Deprecated in NumPy 1.20; for more details and guidance: https://numpy.org/devdocs/release/1.20.0-notes.html#deprecations\n",
      "  allready_terminated = np.zeros(n_test_envs, np.bool)\n"
     ]
    },
    {
     "name": "stdout",
     "output_type": "stream",
     "text": [
      "average_rewards           0.385050\n",
      "average_termination     453.100000\n",
      "average_q_val             0.117778\n",
      "average_target_q_val      0.106581\n",
      "l2_diff                   0.049608\n",
      "average_loss              0.000494\n",
      "dtype: float64\n",
      "Saving Checkpoint\n",
      "Logging Model Metrics\n"
     ]
    },
    {
     "name": "stderr",
     "output_type": "stream",
     "text": [
      "/tmp/ipykernel_74282/1419124661.py:202: DeprecationWarning: `np.bool` is a deprecated alias for the builtin `bool`. To silence this warning, use `bool` by itself. Doing this will not modify any behavior and is safe. If you specifically wanted the numpy scalar type, use `np.bool_` here.\n",
      "Deprecated in NumPy 1.20; for more details and guidance: https://numpy.org/devdocs/release/1.20.0-notes.html#deprecations\n",
      "  allready_terminated = np.zeros(n_test_envs, np.bool)\n"
     ]
    },
    {
     "name": "stdout",
     "output_type": "stream",
     "text": [
      "average_rewards           0.099592\n",
      "average_termination     707.000000\n",
      "average_q_val             0.107440\n",
      "average_target_q_val      0.099717\n",
      "l2_diff                   0.041585\n",
      "average_loss              0.000267\n",
      "dtype: float64\n",
      "Logging Model Metrics\n"
     ]
    },
    {
     "name": "stderr",
     "output_type": "stream",
     "text": [
      "/tmp/ipykernel_74282/1419124661.py:202: DeprecationWarning: `np.bool` is a deprecated alias for the builtin `bool`. To silence this warning, use `bool` by itself. Doing this will not modify any behavior and is safe. If you specifically wanted the numpy scalar type, use `np.bool_` here.\n",
      "Deprecated in NumPy 1.20; for more details and guidance: https://numpy.org/devdocs/release/1.20.0-notes.html#deprecations\n",
      "  allready_terminated = np.zeros(n_test_envs, np.bool)\n"
     ]
    },
    {
     "name": "stdout",
     "output_type": "stream",
     "text": [
      "average_rewards           0.335256\n",
      "average_termination     419.500000\n",
      "average_q_val             0.185568\n",
      "average_target_q_val      0.168927\n",
      "l2_diff                   0.057162\n",
      "average_loss              0.000314\n",
      "dtype: float64\n",
      "Saving Checkpoint\n",
      "Logging Model Metrics\n"
     ]
    },
    {
     "name": "stderr",
     "output_type": "stream",
     "text": [
      "/tmp/ipykernel_74282/1419124661.py:202: DeprecationWarning: `np.bool` is a deprecated alias for the builtin `bool`. To silence this warning, use `bool` by itself. Doing this will not modify any behavior and is safe. If you specifically wanted the numpy scalar type, use `np.bool_` here.\n",
      "Deprecated in NumPy 1.20; for more details and guidance: https://numpy.org/devdocs/release/1.20.0-notes.html#deprecations\n",
      "  allready_terminated = np.zeros(n_test_envs, np.bool)\n"
     ]
    },
    {
     "name": "stdout",
     "output_type": "stream",
     "text": [
      "average_rewards           0.623886\n",
      "average_termination     614.700000\n",
      "average_q_val             0.168537\n",
      "average_target_q_val      0.161016\n",
      "l2_diff                   0.055673\n",
      "average_loss              0.000447\n",
      "dtype: float64\n",
      "Saving Checkpoint\n",
      "Logging Model Metrics\n"
     ]
    },
    {
     "name": "stderr",
     "output_type": "stream",
     "text": [
      "/tmp/ipykernel_74282/1419124661.py:202: DeprecationWarning: `np.bool` is a deprecated alias for the builtin `bool`. To silence this warning, use `bool` by itself. Doing this will not modify any behavior and is safe. If you specifically wanted the numpy scalar type, use `np.bool_` here.\n",
      "Deprecated in NumPy 1.20; for more details and guidance: https://numpy.org/devdocs/release/1.20.0-notes.html#deprecations\n",
      "  allready_terminated = np.zeros(n_test_envs, np.bool)\n"
     ]
    },
    {
     "name": "stdout",
     "output_type": "stream",
     "text": [
      "average_rewards           0.784931\n",
      "average_termination     482.375000\n",
      "average_q_val             0.175275\n",
      "average_target_q_val      0.168238\n",
      "l2_diff                   0.070901\n",
      "average_loss              0.000488\n",
      "dtype: float64\n",
      "Saving Checkpoint\n",
      "Logging Model Metrics\n"
     ]
    },
    {
     "name": "stderr",
     "output_type": "stream",
     "text": [
      "/tmp/ipykernel_74282/1419124661.py:202: DeprecationWarning: `np.bool` is a deprecated alias for the builtin `bool`. To silence this warning, use `bool` by itself. Doing this will not modify any behavior and is safe. If you specifically wanted the numpy scalar type, use `np.bool_` here.\n",
      "Deprecated in NumPy 1.20; for more details and guidance: https://numpy.org/devdocs/release/1.20.0-notes.html#deprecations\n",
      "  allready_terminated = np.zeros(n_test_envs, np.bool)\n"
     ]
    },
    {
     "name": "stdout",
     "output_type": "stream",
     "text": [
      "average_rewards           0.531407\n",
      "average_termination     512.875000\n",
      "average_q_val             0.157935\n",
      "average_target_q_val      0.151906\n",
      "l2_diff                   0.056376\n",
      "average_loss              0.000286\n",
      "dtype: float64\n",
      "Logging Model Metrics\n"
     ]
    },
    {
     "name": "stderr",
     "output_type": "stream",
     "text": [
      "/tmp/ipykernel_74282/1419124661.py:202: DeprecationWarning: `np.bool` is a deprecated alias for the builtin `bool`. To silence this warning, use `bool` by itself. Doing this will not modify any behavior and is safe. If you specifically wanted the numpy scalar type, use `np.bool_` here.\n",
      "Deprecated in NumPy 1.20; for more details and guidance: https://numpy.org/devdocs/release/1.20.0-notes.html#deprecations\n",
      "  allready_terminated = np.zeros(n_test_envs, np.bool)\n"
     ]
    },
    {
     "name": "stdout",
     "output_type": "stream",
     "text": [
      "average_rewards           0.122069\n",
      "average_termination     603.818182\n",
      "average_q_val             0.133333\n",
      "average_target_q_val      0.125407\n",
      "l2_diff                   0.055890\n",
      "average_loss              0.000497\n",
      "dtype: float64\n",
      "Saving Checkpoint\n",
      "Logging Model Metrics\n"
     ]
    },
    {
     "name": "stderr",
     "output_type": "stream",
     "text": [
      "/tmp/ipykernel_74282/1419124661.py:202: DeprecationWarning: `np.bool` is a deprecated alias for the builtin `bool`. To silence this warning, use `bool` by itself. Doing this will not modify any behavior and is safe. If you specifically wanted the numpy scalar type, use `np.bool_` here.\n",
      "Deprecated in NumPy 1.20; for more details and guidance: https://numpy.org/devdocs/release/1.20.0-notes.html#deprecations\n",
      "  allready_terminated = np.zeros(n_test_envs, np.bool)\n"
     ]
    },
    {
     "name": "stdout",
     "output_type": "stream",
     "text": [
      "average_rewards           0.681534\n",
      "average_termination     383.375000\n",
      "average_q_val             0.151264\n",
      "average_target_q_val      0.145470\n",
      "l2_diff                   0.056005\n",
      "average_loss              0.000340\n",
      "dtype: float64\n",
      "Saving Checkpoint\n",
      "Logging Model Metrics\n"
     ]
    },
    {
     "name": "stderr",
     "output_type": "stream",
     "text": [
      "/tmp/ipykernel_74282/1419124661.py:202: DeprecationWarning: `np.bool` is a deprecated alias for the builtin `bool`. To silence this warning, use `bool` by itself. Doing this will not modify any behavior and is safe. If you specifically wanted the numpy scalar type, use `np.bool_` here.\n",
      "Deprecated in NumPy 1.20; for more details and guidance: https://numpy.org/devdocs/release/1.20.0-notes.html#deprecations\n",
      "  allready_terminated = np.zeros(n_test_envs, np.bool)\n"
     ]
    },
    {
     "name": "stdout",
     "output_type": "stream",
     "text": [
      "average_rewards           0.755777\n",
      "average_termination     402.000000\n",
      "average_q_val             0.196021\n",
      "average_target_q_val      0.184924\n",
      "l2_diff                   0.053046\n",
      "average_loss              0.000327\n",
      "dtype: float64\n",
      "Saving Checkpoint\n",
      "Logging Model Metrics\n"
     ]
    },
    {
     "name": "stderr",
     "output_type": "stream",
     "text": [
      "/tmp/ipykernel_74282/1419124661.py:202: DeprecationWarning: `np.bool` is a deprecated alias for the builtin `bool`. To silence this warning, use `bool` by itself. Doing this will not modify any behavior and is safe. If you specifically wanted the numpy scalar type, use `np.bool_` here.\n",
      "Deprecated in NumPy 1.20; for more details and guidance: https://numpy.org/devdocs/release/1.20.0-notes.html#deprecations\n",
      "  allready_terminated = np.zeros(n_test_envs, np.bool)\n"
     ]
    },
    {
     "name": "stdout",
     "output_type": "stream",
     "text": [
      "average_rewards           0.526393\n",
      "average_termination     534.375000\n",
      "average_q_val             0.162909\n",
      "average_target_q_val      0.157996\n",
      "l2_diff                   0.047367\n",
      "average_loss              0.000297\n",
      "dtype: float64\n",
      "Logging Model Metrics\n"
     ]
    },
    {
     "name": "stderr",
     "output_type": "stream",
     "text": [
      "/tmp/ipykernel_74282/1419124661.py:202: DeprecationWarning: `np.bool` is a deprecated alias for the builtin `bool`. To silence this warning, use `bool` by itself. Doing this will not modify any behavior and is safe. If you specifically wanted the numpy scalar type, use `np.bool_` here.\n",
      "Deprecated in NumPy 1.20; for more details and guidance: https://numpy.org/devdocs/release/1.20.0-notes.html#deprecations\n",
      "  allready_terminated = np.zeros(n_test_envs, np.bool)\n"
     ]
    },
    {
     "name": "stdout",
     "output_type": "stream",
     "text": [
      "average_rewards           0.588630\n",
      "average_termination     498.111111\n",
      "average_q_val             0.157261\n",
      "average_target_q_val      0.148688\n",
      "l2_diff                   0.063119\n",
      "average_loss              0.000458\n",
      "dtype: float64\n",
      "Saving Checkpoint\n",
      "Logging Model Metrics\n"
     ]
    },
    {
     "name": "stderr",
     "output_type": "stream",
     "text": [
      "/tmp/ipykernel_74282/1419124661.py:202: DeprecationWarning: `np.bool` is a deprecated alias for the builtin `bool`. To silence this warning, use `bool` by itself. Doing this will not modify any behavior and is safe. If you specifically wanted the numpy scalar type, use `np.bool_` here.\n",
      "Deprecated in NumPy 1.20; for more details and guidance: https://numpy.org/devdocs/release/1.20.0-notes.html#deprecations\n",
      "  allready_terminated = np.zeros(n_test_envs, np.bool)\n"
     ]
    },
    {
     "name": "stdout",
     "output_type": "stream",
     "text": [
      "average_rewards           0.538445\n",
      "average_termination     639.333333\n",
      "average_q_val             0.149408\n",
      "average_target_q_val      0.134036\n",
      "l2_diff                   0.058777\n",
      "average_loss              0.000550\n",
      "dtype: float64\n"
     ]
    }
   ],
   "source": [
    "outer_steps = 0\n",
    "\n",
    "env_sampler.reset_env()\n",
    "\n",
    "\n",
    "\n",
    "while True:\n",
    "    \n",
    "\n",
    "    outer_steps +=1\n",
    "    EXPLORATION_RATE *= EPSILON_DECAY\n",
    "    \n",
    "    ds = replay_buffer.generate_tf_dataset(N_BATCHES, BATCHSIZE)\n",
    "    \n",
    "    bar = ds # tqdm.tqdm(ds)\n",
    "    \n",
    "    losses = []\n",
    "\n",
    "    for data in bar:\n",
    "\n",
    "        loss = update_q_network(data, q_net, target_net, optimizer, GAMMA)\n",
    "        \n",
    "        \n",
    "        losses.append(loss)\n",
    "        mean_loss = float(np.mean(losses))\n",
    "        # bar.set_description(f\"Loss {mean_loss:.6f}\")\n",
    "\n",
    "    mean_loss = float(np.mean(losses))\n",
    "    \n",
    "    with writer.as_default():\n",
    "\n",
    "        tf.summary.scalar(\"loss\", mean_loss, step=outer_steps)\n",
    "        tf.summary.scalar(\"epsilon\", EXPLORATION_RATE, step=outer_steps)\n",
    "\n",
    "\n",
    "    new_samples = env_sampler.sample(N_NEW_SAMPLES, epsilon= EXPLORATION_RATE)\n",
    "    replay_buffer.add_new_trajectory(new_samples)\n",
    "\n",
    "    replay_buffer.drop_first_trajectory()\n",
    "\n",
    "    polyak_averaging(target_net, q_net, TAU)\n",
    "    \n",
    "    \n",
    "    if outer_steps % LOG_FREQ == 0:\n",
    "        \n",
    "        print(\"Logging Model Metrics\")\n",
    "        \n",
    "        results = env_sampler.measure_model_perforamnce( GAMMA, target_net, N_TEST_ENVS)\n",
    "        names = [\"average_rewards\", \"average_termination\", \"average_q_val\", \"average_target_q_val\", \"l2_diff\",]\n",
    "\n",
    "        for val, name in zip(results, names):\n",
    "\n",
    "            with writer.as_default():\n",
    "\n",
    "                tf.summary.scalar(name, val, step=outer_steps)\n",
    "\n",
    "        results = pd.Series(results, names)\n",
    "        \n",
    "        results[\"average_loss\"] = np.mean(losses)\n",
    "        \n",
    "        results.to_json(TMP_LOG_PATH.format(outer_steps))\n",
    "        \n",
    "        print(results)\n",
    "        \n",
    "        \n",
    "    if outer_steps % CHECKPOINT_FREQ == 0:\n",
    "        \n",
    "        print(\"Saving Checkpoint\")\n",
    "        \n",
    "        checkpoint.save(TMP_SAVE_TO_PATH)"
   ]
  },
  {
   "cell_type": "code",
   "execution_count": null,
   "metadata": {},
   "outputs": [],
   "source": []
  }
 ],
 "metadata": {
  "kernelspec": {
   "display_name": "tf",
   "language": "python",
   "name": "python3"
  },
  "language_info": {
   "codemirror_mode": {
    "name": "ipython",
    "version": 3
   },
   "file_extension": ".py",
   "mimetype": "text/x-python",
   "name": "python",
   "nbconvert_exporter": "python",
   "pygments_lexer": "ipython3",
   "version": "3.10.9"
  },
  "orig_nbformat": 4
 },
 "nbformat": 4,
 "nbformat_minor": 2
}
