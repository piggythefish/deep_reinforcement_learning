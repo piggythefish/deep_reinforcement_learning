{
 "cells": [
  {
   "cell_type": "code",
   "execution_count": 1,
   "metadata": {},
   "outputs": [],
   "source": [
    "import tensorflow as tf\n",
    "import shutil\n",
    "import numpy as np\n",
    "import tqdm\n",
    "import pandas as pd\n",
    "import os\n",
    "import gymnasium as gym\n",
    "import matplotlib.pyplot as plt\n",
    "import numpy as np\n",
    "import random\n",
    "from collections import deque\n",
    "import cv2\n",
    "\n",
    "GAMMA = 0.99\n",
    "TAU = 0.01\n",
    "BATCHSIZE = 128\n",
    "N_BATCHES = 64\n",
    "N_MULTI_ENVS = 62\n",
    "EXPLORATION_RATE = 0.22\n",
    "EPSILON_DECAY = 0.9999\n",
    "\n",
    "N_NEW_SAMPLES = 500\n",
    "N_SAMPLE_SETS = 100\n",
    "\n",
    "CHECKPOINT_FREQ = 100\n",
    "LOG_FREQ = 100\n",
    "N_TEST_ENVS = 8\n",
    "ENV_NAME = 'ALE/Breakout-v5'"
   ]
  },
  {
   "cell_type": "code",
   "execution_count": 2,
   "metadata": {},
   "outputs": [
    {
     "data": {
      "image/png": "[encoded data removed]",
      "text/plain": [
       "<Figure size 640x480 with 1 Axes>"
      ]
     },
     "metadata": {},
     "output_type": "display_data"
    }
   ],
   "source": [
    "%matplotlib inline\n",
    "x = np.arange(20000)\n",
    "y = EXPLORATION_RATE * (EPSILON_DECAY ** x)\n",
    "y = np.maximum(y, 0.1)\n",
    "\n",
    "plt.plot(x,y)\n",
    "plt.title(\"Epsilon over time\")\n",
    "plt.xlabel(\"Outer Loop Iteration\")\n",
    "plt.show()"
   ]
  },
  {
   "cell_type": "code",
   "execution_count": 3,
   "metadata": {},
   "outputs": [],
   "source": [
    "TMP_SAVE_TO_PATH = \"breakout/ckps/ckpt\"\n",
    "TMP_LOG_PATH = \"breakout/logs/{}.json\"\n",
    "TB_LOGS = \"breakout/tb_lobs/run\"\n",
    "\n",
    "\n",
    "os.makedirs(TMP_SAVE_TO_PATH.replace(\"/ckpt\",\"\"), exist_ok= True)\n",
    "os.makedirs(TMP_LOG_PATH.replace(\"/{}.json\",\"\"), exist_ok= True)\n",
    "os.makedirs(TB_LOGS, exist_ok= True)\n",
    "\n",
    "# # get old checkpoint\n",
    "# !cp /content/gdrive/MyDrive/DeepRL/HW4/checkpoint.zip checkpoint.zip\n",
    "# !unzip -d {TMP_SAVE_TO_PATH} checkpoint.zip\n",
    "\n",
    "LOSS = tf.keras.losses.Huber()\n",
    "CNN_SHAPE = (84, 84)"
   ]
  },
  {
   "cell_type": "code",
   "execution_count": 4,
   "metadata": {},
   "outputs": [],
   "source": [
    "def triple_conv_block_no_batchnorm(x, filters):\n",
    "\n",
    "    x = tf.keras.layers.Conv2D(\n",
    "        filters, 3, padding='same', activation='relu')(x)\n",
    "    x = tf.keras.layers.Conv2D(\n",
    "        filters, 3, padding='same', activation='relu')(x) + x\n",
    "    x = tf.keras.layers.Conv2D(\n",
    "        filters, 3, padding='same', activation='relu')(x) + x\n",
    "\n",
    "    return x\n",
    "\n",
    "def get_small_dqn():\n",
    "    tf.keras.backend.clear_session()\n",
    "\n",
    "    inputs = tf.keras.layers.Input((84, 84, 4,))\n",
    "    x = triple_conv_block_no_batchnorm(inputs, 10)\n",
    "    x = tf.keras.layers.MaxPool2D(2)(x)\n",
    "    x = triple_conv_block_no_batchnorm(x, 20)\n",
    "    x = tf.keras.layers.GlobalAveragePooling2D()(x)\n",
    "    x = tf.keras.layers.Dense(512, \"relu\")(x)\n",
    "    outputs = tf.keras.layers.Dense(4, \"linear\")(x)\n",
    "\n",
    "    model = tf.keras.Model(inputs, outputs, name=\"standard_dqn\")\n",
    "\n",
    "    return model\n",
    "\n",
    "\n",
    "@tf.function\n",
    "def sample_trajectory(dqn, state, epsilon=0.2):\n",
    "\n",
    "    n_par = tf.shape(state)[0]\n",
    "\n",
    "    mask = tf.random.uniform((n_par,), 0, 1, tf.float32) > epsilon\n",
    "\n",
    "    predictions = dqn(state, training=False)\n",
    "    max_actions = tf.math.argmax(predictions, axis=-1)\n",
    "\n",
    "    random_choices = tf.random.uniform(\n",
    "        shape=[n_par], minval=0, maxval=4, dtype=tf.int64)\n",
    "\n",
    "    return tf.where(mask, max_actions, random_choices), tf.reduce_max(predictions, -1)\n",
    "\n",
    "\n",
    "\n",
    "\n",
    "def get_standard_dqn():\n",
    "    tf.keras.backend.clear_session()\n",
    "\n",
    "    inputs = tf.keras.layers.Input((84,84, 4))\n",
    "\n",
    "    x = triple_conv_block_no_batchnorm(inputs, 16)\n",
    "    x = tf.keras.layers.MaxPool2D(2)(x)\n",
    "    x = triple_conv_block_no_batchnorm(x, 32)\n",
    "    x = tf.keras.layers.MaxPool2D(2)(x)\n",
    "    x = triple_conv_block_no_batchnorm(x, 64)\n",
    "    x = tf.keras.layers.GlobalAveragePooling2D()(x)\n",
    "    x = tf.keras.layers.Dense(512, \"relu\")(x)\n",
    "    outputs = tf.keras.layers.Dense(4, \"linear\")(x)\n",
    "\n",
    "    model = tf.keras.Model(inputs, outputs, name=\"standard_dqn\")\n",
    "\n",
    "    return model\n",
    "\n",
    "\n"
   ]
  },
  {
   "cell_type": "code",
   "execution_count": 5,
   "metadata": {},
   "outputs": [
    {
     "name": "stderr",
     "output_type": "stream",
     "text": [
      "2023-06-21 09:51:37.573129: I tensorflow/stream_executor/cuda/cuda_gpu_executor.cc:936] successful NUMA node read from SysFS had negative value (-1), but there must be at least one NUMA node, so returning NUMA node zero\n",
      "2023-06-21 09:51:37.577374: I tensorflow/stream_executor/cuda/cuda_gpu_executor.cc:936] successful NUMA node read from SysFS had negative value (-1), but there must be at least one NUMA node, so returning NUMA node zero\n",
      "2023-06-21 09:51:37.577541: I tensorflow/stream_executor/cuda/cuda_gpu_executor.cc:936] successful NUMA node read from SysFS had negative value (-1), but there must be at least one NUMA node, so returning NUMA node zero\n",
      "2023-06-21 09:51:37.577832: I tensorflow/core/platform/cpu_feature_guard.cc:151] This TensorFlow binary is optimized with oneAPI Deep Neural Network Library (oneDNN) to use the following CPU instructions in performance-critical operations:  AVX2 FMA\n",
      "To enable them in other operations, rebuild TensorFlow with the appropriate compiler flags.\n",
      "2023-06-21 09:51:37.578253: I tensorflow/stream_executor/cuda/cuda_gpu_executor.cc:936] successful NUMA node read from SysFS had negative value (-1), but there must be at least one NUMA node, so returning NUMA node zero\n",
      "2023-06-21 09:51:37.578525: I tensorflow/stream_executor/cuda/cuda_gpu_executor.cc:936] successful NUMA node read from SysFS had negative value (-1), but there must be at least one NUMA node, so returning NUMA node zero\n",
      "2023-06-21 09:51:37.578658: I tensorflow/stream_executor/cuda/cuda_gpu_executor.cc:936] successful NUMA node read from SysFS had negative value (-1), but there must be at least one NUMA node, so returning NUMA node zero\n",
      "2023-06-21 09:51:38.143620: I tensorflow/stream_executor/cuda/cuda_gpu_executor.cc:936] successful NUMA node read from SysFS had negative value (-1), but there must be at least one NUMA node, so returning NUMA node zero\n",
      "2023-06-21 09:51:38.143794: I tensorflow/stream_executor/cuda/cuda_gpu_executor.cc:936] successful NUMA node read from SysFS had negative value (-1), but there must be at least one NUMA node, so returning NUMA node zero\n",
      "2023-06-21 09:51:38.143917: I tensorflow/stream_executor/cuda/cuda_gpu_executor.cc:936] successful NUMA node read from SysFS had negative value (-1), but there must be at least one NUMA node, so returning NUMA node zero\n",
      "2023-06-21 09:51:38.144066: I tensorflow/core/common_runtime/gpu/gpu_device.cc:1525] Created device /job:localhost/replica:0/task:0/device:GPU:0 with 6863 MB memory:  -> device: 0, name: NVIDIA GeForce GTX 1070, pci bus id: 0000:01:00.0, compute capability: 6.1\n",
      "A.L.E: Arcade Learning Environment (version 0.8.1+53f58b7)\n",
      "[Powered by Stella]\n"
     ]
    },
    {
     "data": {
      "text/plain": [
       "<tensorflow.python.training.tracking.util.CheckpointLoadStatus at 0x7f6d4026b6a0>"
      ]
     },
     "execution_count": 5,
     "metadata": {},
     "output_type": "execute_result"
    }
   ],
   "source": [
    "optimizer = tf.keras.optimizers.Adam(learning_rate=0.00025, clipnorm=1.0)\n",
    "\n",
    "q_net = get_standard_dqn()\n",
    "\n",
    "target_net = tf.keras.models.clone_model(q_net)\n",
    "\n",
    "checkpoint = tf.train.Checkpoint(q_net = q_net, target_net = target_net, optimizer = optimizer)\n",
    "\n",
    "writer = tf.summary.create_file_writer(TB_LOGS)\n",
    "\n",
    "# restore\n",
    "checkpoint.restore(\"breakout/ckps/ckpt-217\")\n",
    "\n"
   ]
  },
  {
   "cell_type": "code",
   "execution_count": 6,
   "metadata": {},
   "outputs": [],
   "source": [
    "def process_frame(frame):\n",
    "\n",
    "    frame = cv2.cvtColor(np.float32(frame), cv2.COLOR_RGB2GRAY)\n",
    "    frame = cv2.resize(\n",
    "        frame, (84, 84), interpolation=cv2.INTER_AREA\n",
    "    )\n",
    "    return frame"
   ]
  },
  {
   "cell_type": "code",
   "execution_count": 28,
   "metadata": {},
   "outputs": [],
   "source": [
    "def get_episodes(dqn, ):\n",
    "\n",
    "        env = gym.make(ENV_NAME)\n",
    "        \n",
    "        current_state = env.reset()[0]\n",
    "        frames = deque([process_frame(current_state) for _ in range(4)])\n",
    "        \n",
    "        renders = []\n",
    "        current_lives = 6\n",
    "        steps = 0\n",
    "        rewards = 0\n",
    "        \n",
    "        while True:\n",
    "        \n",
    "            lives = env.unwrapped.ale.lives()\n",
    "            \n",
    "            if lives < current_lives:\n",
    "                # fire\n",
    "                action = 1\n",
    "                current_lives  = lives\n",
    "            else:\n",
    "                \n",
    "                frame_tensor = np.stack(list(frames), -1)\n",
    "                frame_tensor = tf.convert_to_tensor(frame_tensor, dtype = tf.float32)[None, :]\n",
    "                \n",
    "                predictions = dqn(frame_tensor, training=False)\n",
    "                action = tf.math.argmax(predictions, axis=-1)[0]\n",
    "                \n",
    "                \n",
    "            observation, reward, terminated, truncated, info = env.step(action)\n",
    "            \n",
    "            rewards += reward\n",
    "            renders.append(observation)\n",
    "            \n",
    "            if terminated:\n",
    "                \n",
    "                break\n",
    "                \n",
    "            obs = process_frame(observation)\n",
    "                           \n",
    "            frames.popleft()\n",
    "            \n",
    "            frames.append(obs)\n",
    "            \n",
    "            steps +=1\n",
    "                \n",
    "        \n",
    "        return rewards, steps, renders"
   ]
  },
  {
   "cell_type": "code",
   "execution_count": 29,
   "metadata": {},
   "outputs": [
    {
     "data": {
      "text/plain": [
       "True"
      ]
     },
     "execution_count": 29,
     "metadata": {},
     "output_type": "execute_result"
    }
   ],
   "source": [
    "env = gym.make(ENV_NAME)\n",
    "\n",
    "env.unwrapped.get_action_meanings()[1] == 'FIRE'"
   ]
  },
  {
   "cell_type": "code",
   "execution_count": 30,
   "metadata": {},
   "outputs": [
    {
     "name": "stdout",
     "output_type": "stream",
     "text": [
      "0\n",
      "144.0\n",
      "1\n",
      "104.0\n",
      "2\n",
      "319.0\n",
      "3\n",
      "97.0\n",
      "4\n",
      "261.0\n",
      "5\n",
      "301.0\n",
      "6\n",
      "127.0\n",
      "7\n",
      "70.0\n",
      "8\n",
      "312.0\n",
      "9\n",
      "195.0\n",
      "10\n",
      "136.0\n",
      "11\n",
      "167.0\n",
      "12\n",
      "124.0\n",
      "13\n",
      "112.0\n",
      "14\n",
      "81.0\n",
      "15\n",
      "109.0\n",
      "16\n",
      "132.0\n",
      "17\n",
      "70.0\n",
      "18\n",
      "94.0\n",
      "19\n",
      "284.0\n",
      "20\n",
      "94.0\n",
      "21\n",
      "80.0\n",
      "22\n",
      "314.0\n",
      "23\n",
      "101.0\n",
      "24\n",
      "68.0\n",
      "25\n",
      "292.0\n",
      "26\n",
      "271.0\n",
      "27\n",
      "55.0\n",
      "28\n",
      "121.0\n",
      "29\n",
      "88.0\n"
     ]
    }
   ],
   "source": [
    "best_renders = None\n",
    "highest_reward = 0\n",
    "\n",
    "\n",
    "for i in range(30):\n",
    "    \n",
    "    print(i)\n",
    "    \n",
    "    rewards, steps, renders = get_episodes(q_net)\n",
    "    print(rewards)\n",
    "    if rewards > highest_reward:\n",
    "        highest_reward = rewards\n",
    "        best_renders = renders"
   ]
  },
  {
   "cell_type": "code",
   "execution_count": 32,
   "metadata": {},
   "outputs": [
    {
     "data": {
      "text/plain": [
       "(2111, 210, 160, 3)"
      ]
     },
     "execution_count": 32,
     "metadata": {},
     "output_type": "execute_result"
    }
   ],
   "source": [
    "episode = np.stack(best_renders)\n",
    "episode.shape"
   ]
  },
  {
   "cell_type": "code",
   "execution_count": 34,
   "metadata": {},
   "outputs": [
    {
     "data": {
      "image/png": "[encoded data removed]",
      "text/plain": [
       "<Figure size 600x600 with 1 Axes>"
      ]
     },
     "metadata": {},
     "output_type": "display_data"
    }
   ],
   "source": [
    "from matplotlib import animation\n",
    "\n",
    "fig = plt.figure(figsize=(6,6))\n",
    "\n",
    "steps = np.arange(len(episode))\n",
    "\n",
    "im = plt.imshow(episode[0])\n",
    "plt.axis('off')\n",
    "\n",
    "def update(i):\n",
    "    \n",
    "    # ttl.set_text(\n",
    "    #     f\"Current Reward: {rewards[rounded]:.2f}\",\n",
    "    # )\n",
    "\n",
    "    im.set_array(episode[i])\n",
    "    return (im,)\n",
    "\n",
    "\n",
    "ani = animation.FuncAnimation(fig, update, steps)\n",
    "\n",
    "ani.save(\"breakout.mp4\", savefig_kwargs={\"facecolor\": (1, 1, 1, 1)}, fps = 30)\n",
    "ani.save(\"breakout.gif\", savefig_kwargs={\"facecolor\": (1, 1, 1, 1)}, fps = 30)"
   ]
  }
 ],
 "metadata": {
  "kernelspec": {
   "display_name": "tf",
   "language": "python",
   "name": "python3"
  },
  "language_info": {
   "codemirror_mode": {
    "name": "ipython",
    "version": 3
   },
   "file_extension": ".py",
   "mimetype": "text/x-python",
   "name": "python",
   "nbconvert_exporter": "python",
   "pygments_lexer": "ipython3",
   "version": "3.10.9"
  },
  "orig_nbformat": 4
 },
 "nbformat": 4,
 "nbformat_minor": 2
}
